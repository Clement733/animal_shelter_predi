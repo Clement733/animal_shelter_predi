{
 "cells": [
  {
   "cell_type": "markdown",
   "id": "c5035c09",
   "metadata": {},
   "source": [
    "<img src=\"https://upload.wikimedia.org/wikipedia/commons/7/7c/Kaggle_logo.png\" align=\"left\" height=100 width=200>"
   ]
  },
  {
   "cell_type": "markdown",
   "id": "52b446c3",
   "metadata": {},
   "source": [
    "🚀 [**`Kaggle - Shelter Animal Outcomes`**](https://www.kaggle.com/competitions/shelter-animal-outcomes) 🚀"
   ]
  },
  {
   "cell_type": "markdown",
   "id": "65bd4316",
   "metadata": {},
   "source": [
    "# 📚 Libraries"
   ]
  },
  {
   "cell_type": "code",
   "execution_count": 1,
   "id": "c67ca8cc",
   "metadata": {},
   "outputs": [],
   "source": [
    "# DATA MANIPULTION \n",
    "import pandas as pd \n",
    "import numpy as np\n",
    "import gzip\n",
    "\n",
    "# DATA VIZ\n",
    "import matplotlib.pyplot as plt\n",
    "import seaborn as sns\n",
    "\n",
    "# STATS\n",
    "from scipy import stats\n",
    "from statsmodels.graphics.gofplots import qqplot\n",
    "\n",
    "# MACHINE LEARNING\n",
    "## PREPROCESSING\n",
    "from sklearn.impute import SimpleImputer, KNNImputer\n",
    "## MODEL SELECTION\n",
    "from sklearn.model_selection import train_test_split, cross_validate, cross_val_predict\n",
    "## SCALERS\n",
    "from sklearn.preprocessing import StandardScaler, RobustScaler, MinMaxScaler\n",
    "from sklearn.preprocessing import OneHotEncoder, OrdinalEncoder\n",
    "## CLASSIFICATION MODELS\n",
    "from sklearn.linear_model import LogisticRegression\n",
    "from sklearn.neighbors import KNeighborsClassifier\n",
    "from sklearn.svm import SVC\n",
    "## EVALUATION\n",
    "from sklearn.metrics import accuracy_score, recall_score\n",
    "from sklearn.metrics import confusion_matrix, ConfusionMatrixDisplay, classification_report\n",
    "from sklearn.metrics import precision_recall_curve\n",
    "## MODEL TUNING\n",
    "from sklearn.model_selection import GridSearchCV, RandomizedSearchCV\n",
    "from sklearn.pipeline import Pipeline, make_pipeline\n",
    "from sklearn.compose import ColumnTransformer, make_column_transformer, make_column_selector\n",
    "from sklearn import set_config; set_config(display=\"diagram\")  "
   ]
  },
  {
   "cell_type": "markdown",
   "id": "bc480305",
   "metadata": {},
   "source": [
    "#  🐈 Dataset"
   ]
  },
  {
   "cell_type": "code",
   "execution_count": 2,
   "id": "e7b1d790",
   "metadata": {},
   "outputs": [
    {
     "data": {
      "text/html": [
       "<div>\n",
       "<style scoped>\n",
       "    .dataframe tbody tr th:only-of-type {\n",
       "        vertical-align: middle;\n",
       "    }\n",
       "\n",
       "    .dataframe tbody tr th {\n",
       "        vertical-align: top;\n",
       "    }\n",
       "\n",
       "    .dataframe thead th {\n",
       "        text-align: right;\n",
       "    }\n",
       "</style>\n",
       "<table border=\"1\" class=\"dataframe\">\n",
       "  <thead>\n",
       "    <tr style=\"text-align: right;\">\n",
       "      <th></th>\n",
       "      <th>AnimalID</th>\n",
       "      <th>Name</th>\n",
       "      <th>DateTime</th>\n",
       "      <th>OutcomeType</th>\n",
       "      <th>OutcomeSubtype</th>\n",
       "      <th>AnimalType</th>\n",
       "      <th>SexuponOutcome</th>\n",
       "      <th>AgeuponOutcome</th>\n",
       "      <th>Breed</th>\n",
       "      <th>Color</th>\n",
       "    </tr>\n",
       "  </thead>\n",
       "  <tbody>\n",
       "    <tr>\n",
       "      <th>0</th>\n",
       "      <td>A671945</td>\n",
       "      <td>Hambone</td>\n",
       "      <td>2014-02-12 18:22:00</td>\n",
       "      <td>Return_to_owner</td>\n",
       "      <td>NaN</td>\n",
       "      <td>Dog</td>\n",
       "      <td>Neutered Male</td>\n",
       "      <td>1 year</td>\n",
       "      <td>Shetland Sheepdog Mix</td>\n",
       "      <td>Brown/White</td>\n",
       "    </tr>\n",
       "    <tr>\n",
       "      <th>1</th>\n",
       "      <td>A656520</td>\n",
       "      <td>Emily</td>\n",
       "      <td>2013-10-13 12:44:00</td>\n",
       "      <td>Euthanasia</td>\n",
       "      <td>Suffering</td>\n",
       "      <td>Cat</td>\n",
       "      <td>Spayed Female</td>\n",
       "      <td>1 year</td>\n",
       "      <td>Domestic Shorthair Mix</td>\n",
       "      <td>Cream Tabby</td>\n",
       "    </tr>\n",
       "    <tr>\n",
       "      <th>2</th>\n",
       "      <td>A686464</td>\n",
       "      <td>Pearce</td>\n",
       "      <td>2015-01-31 12:28:00</td>\n",
       "      <td>Adoption</td>\n",
       "      <td>Foster</td>\n",
       "      <td>Dog</td>\n",
       "      <td>Neutered Male</td>\n",
       "      <td>2 years</td>\n",
       "      <td>Pit Bull Mix</td>\n",
       "      <td>Blue/White</td>\n",
       "    </tr>\n",
       "    <tr>\n",
       "      <th>3</th>\n",
       "      <td>A683430</td>\n",
       "      <td>NaN</td>\n",
       "      <td>2014-07-11 19:09:00</td>\n",
       "      <td>Transfer</td>\n",
       "      <td>Partner</td>\n",
       "      <td>Cat</td>\n",
       "      <td>Intact Male</td>\n",
       "      <td>3 weeks</td>\n",
       "      <td>Domestic Shorthair Mix</td>\n",
       "      <td>Blue Cream</td>\n",
       "    </tr>\n",
       "    <tr>\n",
       "      <th>4</th>\n",
       "      <td>A667013</td>\n",
       "      <td>NaN</td>\n",
       "      <td>2013-11-15 12:52:00</td>\n",
       "      <td>Transfer</td>\n",
       "      <td>Partner</td>\n",
       "      <td>Dog</td>\n",
       "      <td>Neutered Male</td>\n",
       "      <td>2 years</td>\n",
       "      <td>Lhasa Apso/Miniature Poodle</td>\n",
       "      <td>Tan</td>\n",
       "    </tr>\n",
       "  </tbody>\n",
       "</table>\n",
       "</div>"
      ],
      "text/plain": [
       "  AnimalID     Name             DateTime      OutcomeType OutcomeSubtype  \\\n",
       "0  A671945  Hambone  2014-02-12 18:22:00  Return_to_owner            NaN   \n",
       "1  A656520    Emily  2013-10-13 12:44:00       Euthanasia      Suffering   \n",
       "2  A686464   Pearce  2015-01-31 12:28:00         Adoption         Foster   \n",
       "3  A683430      NaN  2014-07-11 19:09:00         Transfer        Partner   \n",
       "4  A667013      NaN  2013-11-15 12:52:00         Transfer        Partner   \n",
       "\n",
       "  AnimalType SexuponOutcome AgeuponOutcome                        Breed  \\\n",
       "0        Dog  Neutered Male         1 year        Shetland Sheepdog Mix   \n",
       "1        Cat  Spayed Female         1 year       Domestic Shorthair Mix   \n",
       "2        Dog  Neutered Male        2 years                 Pit Bull Mix   \n",
       "3        Cat    Intact Male        3 weeks       Domestic Shorthair Mix   \n",
       "4        Dog  Neutered Male        2 years  Lhasa Apso/Miniature Poodle   \n",
       "\n",
       "         Color  \n",
       "0  Brown/White  \n",
       "1  Cream Tabby  \n",
       "2   Blue/White  \n",
       "3   Blue Cream  \n",
       "4          Tan  "
      ]
     },
     "execution_count": 2,
     "metadata": {},
     "output_type": "execute_result"
    }
   ],
   "source": [
    "data_train = pd.read_csv('train.csv')\n",
    "data_train.head()"
   ]
  },
  {
   "cell_type": "code",
   "execution_count": 3,
   "id": "7235b8e8",
   "metadata": {},
   "outputs": [
    {
     "data": {
      "text/html": [
       "<div>\n",
       "<style scoped>\n",
       "    .dataframe tbody tr th:only-of-type {\n",
       "        vertical-align: middle;\n",
       "    }\n",
       "\n",
       "    .dataframe tbody tr th {\n",
       "        vertical-align: top;\n",
       "    }\n",
       "\n",
       "    .dataframe thead th {\n",
       "        text-align: right;\n",
       "    }\n",
       "</style>\n",
       "<table border=\"1\" class=\"dataframe\">\n",
       "  <thead>\n",
       "    <tr style=\"text-align: right;\">\n",
       "      <th></th>\n",
       "      <th>ID</th>\n",
       "      <th>Name</th>\n",
       "      <th>DateTime</th>\n",
       "      <th>AnimalType</th>\n",
       "      <th>SexuponOutcome</th>\n",
       "      <th>AgeuponOutcome</th>\n",
       "      <th>Breed</th>\n",
       "      <th>Color</th>\n",
       "    </tr>\n",
       "  </thead>\n",
       "  <tbody>\n",
       "    <tr>\n",
       "      <th>0</th>\n",
       "      <td>1</td>\n",
       "      <td>Summer</td>\n",
       "      <td>2015-10-12 12:15:00</td>\n",
       "      <td>Dog</td>\n",
       "      <td>Intact Female</td>\n",
       "      <td>10 months</td>\n",
       "      <td>Labrador Retriever Mix</td>\n",
       "      <td>Red/White</td>\n",
       "    </tr>\n",
       "    <tr>\n",
       "      <th>1</th>\n",
       "      <td>2</td>\n",
       "      <td>Cheyenne</td>\n",
       "      <td>2014-07-26 17:59:00</td>\n",
       "      <td>Dog</td>\n",
       "      <td>Spayed Female</td>\n",
       "      <td>2 years</td>\n",
       "      <td>German Shepherd/Siberian Husky</td>\n",
       "      <td>Black/Tan</td>\n",
       "    </tr>\n",
       "    <tr>\n",
       "      <th>2</th>\n",
       "      <td>3</td>\n",
       "      <td>Gus</td>\n",
       "      <td>2016-01-13 12:20:00</td>\n",
       "      <td>Cat</td>\n",
       "      <td>Neutered Male</td>\n",
       "      <td>1 year</td>\n",
       "      <td>Domestic Shorthair Mix</td>\n",
       "      <td>Brown Tabby</td>\n",
       "    </tr>\n",
       "    <tr>\n",
       "      <th>3</th>\n",
       "      <td>4</td>\n",
       "      <td>Pongo</td>\n",
       "      <td>2013-12-28 18:12:00</td>\n",
       "      <td>Dog</td>\n",
       "      <td>Intact Male</td>\n",
       "      <td>4 months</td>\n",
       "      <td>Collie Smooth Mix</td>\n",
       "      <td>Tricolor</td>\n",
       "    </tr>\n",
       "    <tr>\n",
       "      <th>4</th>\n",
       "      <td>5</td>\n",
       "      <td>Skooter</td>\n",
       "      <td>2015-09-24 17:59:00</td>\n",
       "      <td>Dog</td>\n",
       "      <td>Neutered Male</td>\n",
       "      <td>2 years</td>\n",
       "      <td>Miniature Poodle Mix</td>\n",
       "      <td>White</td>\n",
       "    </tr>\n",
       "  </tbody>\n",
       "</table>\n",
       "</div>"
      ],
      "text/plain": [
       "   ID      Name             DateTime AnimalType SexuponOutcome AgeuponOutcome  \\\n",
       "0   1    Summer  2015-10-12 12:15:00        Dog  Intact Female      10 months   \n",
       "1   2  Cheyenne  2014-07-26 17:59:00        Dog  Spayed Female        2 years   \n",
       "2   3       Gus  2016-01-13 12:20:00        Cat  Neutered Male         1 year   \n",
       "3   4     Pongo  2013-12-28 18:12:00        Dog    Intact Male       4 months   \n",
       "4   5   Skooter  2015-09-24 17:59:00        Dog  Neutered Male        2 years   \n",
       "\n",
       "                            Breed        Color  \n",
       "0          Labrador Retriever Mix    Red/White  \n",
       "1  German Shepherd/Siberian Husky    Black/Tan  \n",
       "2          Domestic Shorthair Mix  Brown Tabby  \n",
       "3               Collie Smooth Mix     Tricolor  \n",
       "4            Miniature Poodle Mix        White  "
      ]
     },
     "execution_count": 3,
     "metadata": {},
     "output_type": "execute_result"
    }
   ],
   "source": [
    "data_test = pd.read_csv('test.csv')\n",
    "data_test.head()"
   ]
  },
  {
   "cell_type": "code",
   "execution_count": 4,
   "id": "f8d20bc7",
   "metadata": {},
   "outputs": [
    {
     "name": "stdout",
     "output_type": "stream",
     "text": [
      "The shape of the data_train dataset is: (26729, 10)\n",
      "The shape of the data_test dataset is: (11456, 8)\n"
     ]
    }
   ],
   "source": [
    "print(f'The shape of the data_train dataset is: {data_train.shape}')\n",
    "print(f'The shape of the data_test dataset is: {data_test.shape}')"
   ]
  },
  {
   "cell_type": "code",
   "execution_count": 5,
   "id": "71357f41",
   "metadata": {
    "scrolled": true
   },
   "outputs": [
    {
     "name": "stdout",
     "output_type": "stream",
     "text": [
      "object    10\n",
      "dtype: int64\n",
      "----------------------------------------------------------------------------------------------------\n",
      "object    7\n",
      "int64     1\n",
      "dtype: int64\n"
     ]
    }
   ],
   "source": [
    "print(data_train.dtypes.value_counts())\n",
    "print('--'*50)\n",
    "print(data_test.dtypes.value_counts())"
   ]
  },
  {
   "cell_type": "markdown",
   "id": "6859c091",
   "metadata": {},
   "source": [
    "# 📊 Data visualisation/analysis"
   ]
  },
  {
   "cell_type": "markdown",
   "id": "8bd05f83",
   "metadata": {},
   "source": [
    "🐈‍⬛ Let's see the types of animals in the dataset"
   ]
  },
  {
   "cell_type": "code",
   "execution_count": null,
   "id": "258affb5",
   "metadata": {
    "scrolled": false
   },
   "outputs": [
    {
     "name": "stderr",
     "output_type": "stream",
     "text": [
      "/home/clement/.pyenv/versions/3.10.6/envs/lewagon/lib/python3.10/site-packages/seaborn/_decorators.py:36: FutureWarning: Pass the following variable as a keyword arg: x. From version 0.12, the only valid positional argument will be `data`, and passing other arguments without an explicit keyword will result in an error or misinterpretation.\n",
      "  warnings.warn(\n"
     ]
    },
    {
     "data": {
      "text/plain": [
       "<AxesSubplot:xlabel='AnimalType', ylabel='count'>"
      ]
     },
     "execution_count": 6,
     "metadata": {},
     "output_type": "execute_result"
    }
   ],
   "source": [
    "sns.countplot(data_train.AnimalType, palette='Set3')"
   ]
  },
  {
   "cell_type": "markdown",
   "id": "369a8f11",
   "metadata": {},
   "source": [
    "🐈 What is the distribution of the outcomes for the animals?"
   ]
  },
  {
   "cell_type": "code",
   "execution_count": null,
   "id": "9dde4dd3",
   "metadata": {},
   "outputs": [],
   "source": [
    "sns.countplot(data_train.OutcomeType, palette='Set3')"
   ]
  },
  {
   "cell_type": "markdown",
   "id": "8adc6ff8",
   "metadata": {},
   "source": [
    "The vast majority of animals are getting either adopted or transfered"
   ]
  },
  {
   "cell_type": "markdown",
   "id": "35f435a1",
   "metadata": {},
   "source": [
    "Another column interesting to show would be SexuponOutcome"
   ]
  },
  {
   "cell_type": "code",
   "execution_count": null,
   "id": "05b4ffbe",
   "metadata": {},
   "outputs": [],
   "source": [
    "sns.countplot(data_train.SexuponOutcome, palette='Set3')"
   ]
  },
  {
   "cell_type": "markdown",
   "id": "92181e38",
   "metadata": {},
   "source": [
    "In this plot, we see two informations displayed: whether the animal is a male/female, and if it has been spayed/neutered or not<br />\n",
    "The other columns are not that meaningful to plot"
   ]
  },
  {
   "cell_type": "markdown",
   "id": "fc95376c",
   "metadata": {},
   "source": [
    "We can then divide this column into multiple ones"
   ]
  },
  {
   "cell_type": "code",
   "execution_count": null,
   "id": "75d850b9",
   "metadata": {},
   "outputs": [],
   "source": [
    "def get_sex(x):\n",
    "    x = str(x)\n",
    "    if x.find('Male') >= 0: return 'Male'\n",
    "    if x.find('Female') >= 0: return 'Female'\n",
    "    return 'Unknown'\n",
    "def get_neutered(x):\n",
    "    x = str(x)\n",
    "    if x.find('Neutered') >= 0: return 'Neutered'\n",
    "    if x.find('Spayed') >= 0: return 'Spayed'\n",
    "    if x.find('Intact') >= 0: return 'Intact'\n",
    "    return 'Unknown'"
   ]
  },
  {
   "cell_type": "code",
   "execution_count": null,
   "id": "747cc4b0",
   "metadata": {},
   "outputs": [],
   "source": [
    "data_train['Sex'] = data_train.SexuponOutcome.apply(get_sex)\n",
    "data_train['Neutered'] = data_train.SexuponOutcome.apply(get_neutered)\n",
    "data_test['Sex'] = data_test.SexuponOutcome.apply(get_sex)\n",
    "data_test['Neutered'] = data_test.SexuponOutcome.apply(get_neutered)"
   ]
  },
  {
   "cell_type": "code",
   "execution_count": null,
   "id": "268d088f",
   "metadata": {},
   "outputs": [],
   "source": [
    "data_train.drop('SexuponOutcome', axis=1, inplace=True)\n",
    "data_test.drop('SexuponOutcome', axis=1, inplace=True)"
   ]
  },
  {
   "cell_type": "code",
   "execution_count": null,
   "id": "209a99f4",
   "metadata": {},
   "outputs": [],
   "source": [
    "print(f\"The proportion of Female is: {(data_train['Sex']=='Female').sum()/len(data_train)}\")\n",
    "print(f\"The proportion of Male is: {(data_train['Sex']=='Male').sum()/len(data_train)}\")"
   ]
  },
  {
   "cell_type": "markdown",
   "id": "b1206631",
   "metadata": {},
   "source": [
    "The column 'Breed' gives indication on the animal too: whether that animal is pure race or mixed"
   ]
  },
  {
   "cell_type": "code",
   "execution_count": null,
   "id": "aed61bc5",
   "metadata": {},
   "outputs": [],
   "source": [
    "def get_mix(x):\n",
    "    x=str(x)\n",
    "    if x.find('Mix') >= 0: return 'Mix'\n",
    "    return 'Not'\n",
    "data_train['Breed'] = data_train.Breed.apply(get_mix)\n",
    "data_test['Breed'] = data_test.Breed.apply(get_mix)"
   ]
  },
  {
   "cell_type": "code",
   "execution_count": null,
   "id": "4fb60ce5",
   "metadata": {},
   "outputs": [],
   "source": [
    "sns.countplot(data_train.Breed, palette='Set3')"
   ]
  },
  {
   "cell_type": "markdown",
   "id": "53b5504b",
   "metadata": {},
   "source": [
    "We can see the mix are a much larger part of the shelter animals"
   ]
  },
  {
   "cell_type": "markdown",
   "id": "b52f5160",
   "metadata": {},
   "source": [
    "But how much do these parameters influence the outcome?"
   ]
  },
  {
   "cell_type": "code",
   "execution_count": null,
   "id": "d541f6c8",
   "metadata": {},
   "outputs": [],
   "source": [
    "f, (ax1, ax2) = plt.subplots(1, 2, figsize=(16, 4))\n",
    "sns.countplot(data=data_train, x='OutcomeType',hue='Sex', ax=ax1)\n",
    "sns.countplot(data=data_train, x='Sex',hue='OutcomeType', ax=ax2)"
   ]
  },
  {
   "cell_type": "markdown",
   "id": "945f01a4",
   "metadata": {},
   "source": [
    "We can see that the sex of the animal does not really matter in the outcome"
   ]
  },
  {
   "cell_type": "code",
   "execution_count": null,
   "id": "9ff2be4c",
   "metadata": {},
   "outputs": [],
   "source": [
    "f, (ax1, ax2) = plt.subplots(1, 2, figsize=(16, 4))\n",
    "sns.countplot(data=data_train, x='OutcomeType',hue='AnimalType', ax=ax1)\n",
    "sns.countplot(data=data_train, x='AnimalType',hue='OutcomeType', ax=ax2)"
   ]
  },
  {
   "cell_type": "markdown",
   "id": "c9df2b8f",
   "metadata": {},
   "source": [
    "However, the type of the animal does: dogs are most likely to be adopted or returned to its owner while cats are most likely to be transfered"
   ]
  },
  {
   "cell_type": "code",
   "execution_count": null,
   "id": "277c7356",
   "metadata": {},
   "outputs": [],
   "source": [
    "f, (ax1, ax2) = plt.subplots(1, 2, figsize=(16, 4))\n",
    "sns.countplot(data=data_train, x='OutcomeType',hue='Breed', ax=ax1)\n",
    "sns.countplot(data=data_train, x='Breed',hue='OutcomeType', ax=ax2)"
   ]
  },
  {
   "cell_type": "markdown",
   "id": "699c6605",
   "metadata": {},
   "source": [
    "The breed does not play a significant part in the process even with the disparities in the graphs, the proportions are already very different from the start"
   ]
  },
  {
   "cell_type": "code",
   "execution_count": null,
   "id": "4ba85a25",
   "metadata": {
    "scrolled": true
   },
   "outputs": [],
   "source": [
    "f, (ax1, ax2) = plt.subplots(1, 2, figsize=(16, 4))\n",
    "sns.countplot(data=data_train, x='OutcomeType',hue='Neutered', ax=ax1)\n",
    "sns.countplot(data=data_train, x='Neutered',hue='OutcomeType', ax=ax2)"
   ]
  },
  {
   "cell_type": "markdown",
   "id": "53f132fa",
   "metadata": {},
   "source": [
    "Last but not least: animals left intact are much higher chances of being either euthanised or transfered"
   ]
  },
  {
   "cell_type": "markdown",
   "id": "c8ae117f",
   "metadata": {},
   "source": [
    "# 🏛️ Classification model"
   ]
  },
  {
   "cell_type": "code",
   "execution_count": null,
   "id": "42d4d775",
   "metadata": {
    "scrolled": false
   },
   "outputs": [],
   "source": [
    "data_train"
   ]
  },
  {
   "cell_type": "markdown",
   "id": "39787703",
   "metadata": {},
   "source": [
    "## ⌚ Convert DateTime to numerical features"
   ]
  },
  {
   "cell_type": "code",
   "execution_count": null,
   "id": "99eed7ca",
   "metadata": {},
   "outputs": [],
   "source": [
    "train_time = pd.to_datetime(data_train['DateTime'])\n",
    "test_time = pd.to_datetime(data_test['DateTime'])"
   ]
  },
  {
   "cell_type": "code",
   "execution_count": null,
   "id": "b24883f9",
   "metadata": {},
   "outputs": [],
   "source": [
    "data_train['Year'] = train_time.dt.year\n",
    "data_train['Month'] = train_time.dt.month\n",
    "data_train['Day'] = train_time.dt.day\n",
    "data_train['Hour'] = train_time.dt.hour\n",
    "data_train['Minute'] = train_time.dt.minute\n",
    "data_train.drop('DateTime', axis=1, inplace=True)"
   ]
  },
  {
   "cell_type": "code",
   "execution_count": null,
   "id": "f64be734",
   "metadata": {},
   "outputs": [],
   "source": [
    "data_test['Year'] = test_time.dt.year\n",
    "data_test['Month'] = test_time.dt.month\n",
    "data_test['Day'] = test_time.dt.day\n",
    "data_test['Hour'] = test_time.dt.hour\n",
    "data_test['Minute'] = test_time.dt.minute\n",
    "data_test.drop('DateTime', axis=1, inplace=True)"
   ]
  },
  {
   "cell_type": "code",
   "execution_count": null,
   "id": "decb5231",
   "metadata": {},
   "outputs": [],
   "source": [
    "data_test"
   ]
  },
  {
   "cell_type": "markdown",
   "id": "3ef871f0",
   "metadata": {},
   "source": [
    "## 📅 Convert AgeuponOutcome to numerical feature"
   ]
  },
  {
   "cell_type": "code",
   "execution_count": null,
   "id": "231309d8",
   "metadata": {},
   "outputs": [],
   "source": [
    "def get_age(x):\n",
    "    x=str(x)\n",
    "    age_list = x.split()\n",
    "    if age_list[1].find('NaN'):\n",
    "        return 'Unknown'\n",
    "    if age_list[1].find('year'):\n",
    "        return int(age_list[0])*360\n",
    "    if age_list[1].find('month'):\n",
    "        return int(age_list[0])*30\n",
    "    if age_list[1].find('day'):\n",
    "        return int(age_list[0])\n",
    "data_train['Age'] = data_train.AgeuponOutcome.apply(get_age)\n",
    "data_test['Age'] = data_test.AgeuponOutcome.apply(get_age)"
   ]
  },
  {
   "cell_type": "code",
   "execution_count": null,
   "id": "47d1ae2f",
   "metadata": {},
   "outputs": [],
   "source": [
    "data_train"
   ]
  }
 ],
 "metadata": {
  "kernelspec": {
   "display_name": "Python 3 (ipykernel)",
   "language": "python",
   "name": "python3"
  },
  "language_info": {
   "codemirror_mode": {
    "name": "ipython",
    "version": 3
   },
   "file_extension": ".py",
   "mimetype": "text/x-python",
   "name": "python",
   "nbconvert_exporter": "python",
   "pygments_lexer": "ipython3",
   "version": "3.10.6"
  },
  "toc": {
   "base_numbering": 1,
   "nav_menu": {},
   "number_sections": true,
   "sideBar": true,
   "skip_h1_title": false,
   "title_cell": "Table of Contents",
   "title_sidebar": "Contents",
   "toc_cell": false,
   "toc_position": {},
   "toc_section_display": true,
   "toc_window_display": true
  },
  "varInspector": {
   "cols": {
    "lenName": 16,
    "lenType": 16,
    "lenVar": 40
   },
   "kernels_config": {
    "python": {
     "delete_cmd_postfix": "",
     "delete_cmd_prefix": "del ",
     "library": "var_list.py",
     "varRefreshCmd": "print(var_dic_list())"
    },
    "r": {
     "delete_cmd_postfix": ") ",
     "delete_cmd_prefix": "rm(",
     "library": "var_list.r",
     "varRefreshCmd": "cat(var_dic_list()) "
    }
   },
   "types_to_exclude": [
    "module",
    "function",
    "builtin_function_or_method",
    "instance",
    "_Feature"
   ],
   "window_display": false
  }
 },
 "nbformat": 4,
 "nbformat_minor": 5
}
