{
 "cells": [
  {
   "cell_type": "markdown",
   "id": "c5035c09",
   "metadata": {},
   "source": [
    "<img src=\"https://upload.wikimedia.org/wikipedia/commons/7/7c/Kaggle_logo.png\" align=\"left\" height=100 width=200>"
   ]
  },
  {
   "cell_type": "markdown",
   "id": "52b446c3",
   "metadata": {},
   "source": [
    "🚀 [**`Kaggle - Shelter Animal Outcomes`**](https://www.kaggle.com/competitions/shelter-animal-outcomes) 🚀"
   ]
  },
  {
   "cell_type": "markdown",
   "id": "65bd4316",
   "metadata": {},
   "source": [
    "# 📚 Libraries"
   ]
  },
  {
   "cell_type": "code",
   "execution_count": 87,
   "id": "c67ca8cc",
   "metadata": {},
   "outputs": [],
   "source": [
    "# DATA MANIPULTION \n",
    "import pandas as pd \n",
    "import numpy as np\n",
    "import gzip\n",
    "\n",
    "# DATA VIZ\n",
    "import matplotlib.pyplot as plt\n",
    "import seaborn as sns\n",
    "\n",
    "# STATS\n",
    "from scipy import stats\n",
    "from statsmodels.graphics.gofplots import qqplot\n",
    "\n",
    "# MACHINE LEARNING\n",
    "## PREPROCESSING\n",
    "from sklearn.impute import SimpleImputer, KNNImputer\n",
    "## MODEL SELECTION\n",
    "from sklearn.model_selection import train_test_split, cross_validate, cross_val_predict\n",
    "## SCALERS\n",
    "from sklearn.preprocessing import StandardScaler, RobustScaler, MinMaxScaler\n",
    "from sklearn.preprocessing import OneHotEncoder, OrdinalEncoder\n",
    "## CLASSIFICATION MODELS\n",
    "from sklearn.linear_model import LogisticRegression\n",
    "from sklearn.neighbors import KNeighborsClassifier\n",
    "from sklearn.svm import SVC\n",
    "## EVALUATION\n",
    "from sklearn.metrics import accuracy_score, recall_score\n",
    "from sklearn.metrics import confusion_matrix, ConfusionMatrixDisplay, classification_report\n",
    "from sklearn.metrics import precision_recall_curve\n",
    "## MODEL TUNING\n",
    "from sklearn.model_selection import GridSearchCV, RandomizedSearchCV\n",
    "from sklearn.pipeline import Pipeline, make_pipeline\n",
    "from sklearn.compose import ColumnTransformer, make_column_transformer, make_column_selector\n",
    "from sklearn import set_config; set_config(display=\"diagram\")  "
   ]
  },
  {
   "cell_type": "markdown",
   "id": "bc480305",
   "metadata": {},
   "source": [
    "#  🐈 Dataset"
   ]
  },
  {
   "cell_type": "code",
   "execution_count": 2,
   "id": "e7b1d790",
   "metadata": {},
   "outputs": [
    {
     "data": {
      "text/html": [
       "<div>\n",
       "<style scoped>\n",
       "    .dataframe tbody tr th:only-of-type {\n",
       "        vertical-align: middle;\n",
       "    }\n",
       "\n",
       "    .dataframe tbody tr th {\n",
       "        vertical-align: top;\n",
       "    }\n",
       "\n",
       "    .dataframe thead th {\n",
       "        text-align: right;\n",
       "    }\n",
       "</style>\n",
       "<table border=\"1\" class=\"dataframe\">\n",
       "  <thead>\n",
       "    <tr style=\"text-align: right;\">\n",
       "      <th></th>\n",
       "      <th>AnimalID</th>\n",
       "      <th>Name</th>\n",
       "      <th>DateTime</th>\n",
       "      <th>OutcomeType</th>\n",
       "      <th>OutcomeSubtype</th>\n",
       "      <th>AnimalType</th>\n",
       "      <th>SexuponOutcome</th>\n",
       "      <th>AgeuponOutcome</th>\n",
       "      <th>Breed</th>\n",
       "      <th>Color</th>\n",
       "    </tr>\n",
       "  </thead>\n",
       "  <tbody>\n",
       "    <tr>\n",
       "      <th>0</th>\n",
       "      <td>A671945</td>\n",
       "      <td>Hambone</td>\n",
       "      <td>2014-02-12 18:22:00</td>\n",
       "      <td>Return_to_owner</td>\n",
       "      <td>NaN</td>\n",
       "      <td>Dog</td>\n",
       "      <td>Neutered Male</td>\n",
       "      <td>1 year</td>\n",
       "      <td>Shetland Sheepdog Mix</td>\n",
       "      <td>Brown/White</td>\n",
       "    </tr>\n",
       "    <tr>\n",
       "      <th>1</th>\n",
       "      <td>A656520</td>\n",
       "      <td>Emily</td>\n",
       "      <td>2013-10-13 12:44:00</td>\n",
       "      <td>Euthanasia</td>\n",
       "      <td>Suffering</td>\n",
       "      <td>Cat</td>\n",
       "      <td>Spayed Female</td>\n",
       "      <td>1 year</td>\n",
       "      <td>Domestic Shorthair Mix</td>\n",
       "      <td>Cream Tabby</td>\n",
       "    </tr>\n",
       "    <tr>\n",
       "      <th>2</th>\n",
       "      <td>A686464</td>\n",
       "      <td>Pearce</td>\n",
       "      <td>2015-01-31 12:28:00</td>\n",
       "      <td>Adoption</td>\n",
       "      <td>Foster</td>\n",
       "      <td>Dog</td>\n",
       "      <td>Neutered Male</td>\n",
       "      <td>2 years</td>\n",
       "      <td>Pit Bull Mix</td>\n",
       "      <td>Blue/White</td>\n",
       "    </tr>\n",
       "    <tr>\n",
       "      <th>3</th>\n",
       "      <td>A683430</td>\n",
       "      <td>NaN</td>\n",
       "      <td>2014-07-11 19:09:00</td>\n",
       "      <td>Transfer</td>\n",
       "      <td>Partner</td>\n",
       "      <td>Cat</td>\n",
       "      <td>Intact Male</td>\n",
       "      <td>3 weeks</td>\n",
       "      <td>Domestic Shorthair Mix</td>\n",
       "      <td>Blue Cream</td>\n",
       "    </tr>\n",
       "    <tr>\n",
       "      <th>4</th>\n",
       "      <td>A667013</td>\n",
       "      <td>NaN</td>\n",
       "      <td>2013-11-15 12:52:00</td>\n",
       "      <td>Transfer</td>\n",
       "      <td>Partner</td>\n",
       "      <td>Dog</td>\n",
       "      <td>Neutered Male</td>\n",
       "      <td>2 years</td>\n",
       "      <td>Lhasa Apso/Miniature Poodle</td>\n",
       "      <td>Tan</td>\n",
       "    </tr>\n",
       "  </tbody>\n",
       "</table>\n",
       "</div>"
      ],
      "text/plain": [
       "  AnimalID     Name             DateTime      OutcomeType OutcomeSubtype  \\\n",
       "0  A671945  Hambone  2014-02-12 18:22:00  Return_to_owner            NaN   \n",
       "1  A656520    Emily  2013-10-13 12:44:00       Euthanasia      Suffering   \n",
       "2  A686464   Pearce  2015-01-31 12:28:00         Adoption         Foster   \n",
       "3  A683430      NaN  2014-07-11 19:09:00         Transfer        Partner   \n",
       "4  A667013      NaN  2013-11-15 12:52:00         Transfer        Partner   \n",
       "\n",
       "  AnimalType SexuponOutcome AgeuponOutcome                        Breed  \\\n",
       "0        Dog  Neutered Male         1 year        Shetland Sheepdog Mix   \n",
       "1        Cat  Spayed Female         1 year       Domestic Shorthair Mix   \n",
       "2        Dog  Neutered Male        2 years                 Pit Bull Mix   \n",
       "3        Cat    Intact Male        3 weeks       Domestic Shorthair Mix   \n",
       "4        Dog  Neutered Male        2 years  Lhasa Apso/Miniature Poodle   \n",
       "\n",
       "         Color  \n",
       "0  Brown/White  \n",
       "1  Cream Tabby  \n",
       "2   Blue/White  \n",
       "3   Blue Cream  \n",
       "4          Tan  "
      ]
     },
     "execution_count": 2,
     "metadata": {},
     "output_type": "execute_result"
    }
   ],
   "source": [
    "data_train = pd.read_csv('train.csv')\n",
    "data_train.head()"
   ]
  },
  {
   "cell_type": "code",
   "execution_count": 3,
   "id": "7235b8e8",
   "metadata": {},
   "outputs": [
    {
     "data": {
      "text/html": [
       "<div>\n",
       "<style scoped>\n",
       "    .dataframe tbody tr th:only-of-type {\n",
       "        vertical-align: middle;\n",
       "    }\n",
       "\n",
       "    .dataframe tbody tr th {\n",
       "        vertical-align: top;\n",
       "    }\n",
       "\n",
       "    .dataframe thead th {\n",
       "        text-align: right;\n",
       "    }\n",
       "</style>\n",
       "<table border=\"1\" class=\"dataframe\">\n",
       "  <thead>\n",
       "    <tr style=\"text-align: right;\">\n",
       "      <th></th>\n",
       "      <th>ID</th>\n",
       "      <th>Name</th>\n",
       "      <th>DateTime</th>\n",
       "      <th>AnimalType</th>\n",
       "      <th>SexuponOutcome</th>\n",
       "      <th>AgeuponOutcome</th>\n",
       "      <th>Breed</th>\n",
       "      <th>Color</th>\n",
       "    </tr>\n",
       "  </thead>\n",
       "  <tbody>\n",
       "    <tr>\n",
       "      <th>0</th>\n",
       "      <td>1</td>\n",
       "      <td>Summer</td>\n",
       "      <td>2015-10-12 12:15:00</td>\n",
       "      <td>Dog</td>\n",
       "      <td>Intact Female</td>\n",
       "      <td>10 months</td>\n",
       "      <td>Labrador Retriever Mix</td>\n",
       "      <td>Red/White</td>\n",
       "    </tr>\n",
       "    <tr>\n",
       "      <th>1</th>\n",
       "      <td>2</td>\n",
       "      <td>Cheyenne</td>\n",
       "      <td>2014-07-26 17:59:00</td>\n",
       "      <td>Dog</td>\n",
       "      <td>Spayed Female</td>\n",
       "      <td>2 years</td>\n",
       "      <td>German Shepherd/Siberian Husky</td>\n",
       "      <td>Black/Tan</td>\n",
       "    </tr>\n",
       "    <tr>\n",
       "      <th>2</th>\n",
       "      <td>3</td>\n",
       "      <td>Gus</td>\n",
       "      <td>2016-01-13 12:20:00</td>\n",
       "      <td>Cat</td>\n",
       "      <td>Neutered Male</td>\n",
       "      <td>1 year</td>\n",
       "      <td>Domestic Shorthair Mix</td>\n",
       "      <td>Brown Tabby</td>\n",
       "    </tr>\n",
       "    <tr>\n",
       "      <th>3</th>\n",
       "      <td>4</td>\n",
       "      <td>Pongo</td>\n",
       "      <td>2013-12-28 18:12:00</td>\n",
       "      <td>Dog</td>\n",
       "      <td>Intact Male</td>\n",
       "      <td>4 months</td>\n",
       "      <td>Collie Smooth Mix</td>\n",
       "      <td>Tricolor</td>\n",
       "    </tr>\n",
       "    <tr>\n",
       "      <th>4</th>\n",
       "      <td>5</td>\n",
       "      <td>Skooter</td>\n",
       "      <td>2015-09-24 17:59:00</td>\n",
       "      <td>Dog</td>\n",
       "      <td>Neutered Male</td>\n",
       "      <td>2 years</td>\n",
       "      <td>Miniature Poodle Mix</td>\n",
       "      <td>White</td>\n",
       "    </tr>\n",
       "  </tbody>\n",
       "</table>\n",
       "</div>"
      ],
      "text/plain": [
       "   ID      Name             DateTime AnimalType SexuponOutcome AgeuponOutcome  \\\n",
       "0   1    Summer  2015-10-12 12:15:00        Dog  Intact Female      10 months   \n",
       "1   2  Cheyenne  2014-07-26 17:59:00        Dog  Spayed Female        2 years   \n",
       "2   3       Gus  2016-01-13 12:20:00        Cat  Neutered Male         1 year   \n",
       "3   4     Pongo  2013-12-28 18:12:00        Dog    Intact Male       4 months   \n",
       "4   5   Skooter  2015-09-24 17:59:00        Dog  Neutered Male        2 years   \n",
       "\n",
       "                            Breed        Color  \n",
       "0          Labrador Retriever Mix    Red/White  \n",
       "1  German Shepherd/Siberian Husky    Black/Tan  \n",
       "2          Domestic Shorthair Mix  Brown Tabby  \n",
       "3               Collie Smooth Mix     Tricolor  \n",
       "4            Miniature Poodle Mix        White  "
      ]
     },
     "execution_count": 3,
     "metadata": {},
     "output_type": "execute_result"
    }
   ],
   "source": [
    "data_test = pd.read_csv('test.csv')\n",
    "data_test.head()"
   ]
  },
  {
   "cell_type": "code",
   "execution_count": 4,
   "id": "f8d20bc7",
   "metadata": {},
   "outputs": [
    {
     "name": "stdout",
     "output_type": "stream",
     "text": [
      "The shape of the data_train dataset is: (26729, 10)\n",
      "The shape of the data_test dataset is: (11456, 8)\n"
     ]
    }
   ],
   "source": [
    "print(f'The shape of the data_train dataset is: {data_train.shape}')\n",
    "print(f'The shape of the data_test dataset is: {data_test.shape}')"
   ]
  },
  {
   "cell_type": "code",
   "execution_count": 5,
   "id": "71357f41",
   "metadata": {
    "scrolled": true
   },
   "outputs": [
    {
     "name": "stdout",
     "output_type": "stream",
     "text": [
      "object    10\n",
      "dtype: int64\n",
      "----------------------------------------------------------------------------------------------------\n",
      "object    7\n",
      "int64     1\n",
      "dtype: int64\n"
     ]
    }
   ],
   "source": [
    "print(data_train.dtypes.value_counts())\n",
    "print('--'*50)\n",
    "print(data_test.dtypes.value_counts())"
   ]
  },
  {
   "cell_type": "markdown",
   "id": "2f102376",
   "metadata": {},
   "source": [
    "# 🧹 Cleaning the dataset"
   ]
  },
  {
   "cell_type": "markdown",
   "id": "7f2dc189",
   "metadata": {},
   "source": [
    "## 👥 Duplicates?"
   ]
  },
  {
   "cell_type": "code",
   "execution_count": 6,
   "id": "654c6123",
   "metadata": {},
   "outputs": [
    {
     "name": "stdout",
     "output_type": "stream",
     "text": [
      "0\n",
      "0\n"
     ]
    }
   ],
   "source": [
    "print(data_train.duplicated().sum())\n",
    "print(data_test.duplicated().sum())"
   ]
  },
  {
   "cell_type": "markdown",
   "id": "a45060b3",
   "metadata": {},
   "source": [
    "## ❓ Missing values?"
   ]
  },
  {
   "cell_type": "code",
   "execution_count": 7,
   "id": "b3e68d0e",
   "metadata": {},
   "outputs": [
    {
     "data": {
      "text/plain": [
       "<AxesSubplot:>"
      ]
     },
     "execution_count": 7,
     "metadata": {},
     "output_type": "execute_result"
    },
    {
     "data": {
      "image/png": "[encoded data removed]",
      "text/plain": [
       "<Figure size 640x480 with 1 Axes>"
      ]
     },
     "metadata": {},
     "output_type": "display_data"
    }
   ],
   "source": [
    "total_missing_data_train = (data_train.isna().sum()/len(data_train)).sort_values(ascending=False)\n",
    "missing_mask_train = total_missing_data_train > 0\n",
    "real_missing_values_train = total_missing_data_train[missing_mask_train]\n",
    "real_missing_values_train.plot.bar()"
   ]
  },
  {
   "cell_type": "code",
   "execution_count": 8,
   "id": "d8402763",
   "metadata": {},
   "outputs": [
    {
     "data": {
      "text/plain": [
       "<AxesSubplot:>"
      ]
     },
     "execution_count": 8,
     "metadata": {},
     "output_type": "execute_result"
    },
    {
     "data": {
      "image/png": "[encoded data removed]",
      "text/plain": [
       "<Figure size 640x480 with 1 Axes>"
      ]
     },
     "metadata": {},
     "output_type": "display_data"
    }
   ],
   "source": [
    "total_missing_data_test = (data_test.isna().sum()/len(data_test)).sort_values(ascending=False)\n",
    "missing_mask_test = total_missing_data_test > 0\n",
    "real_missing_values_test = total_missing_data_test[missing_mask_test]\n",
    "real_missing_values_test.plot.bar()"
   ]
  },
  {
   "cell_type": "markdown",
   "id": "b7fd7c82",
   "metadata": {},
   "source": [
    "**`Data_train 'OutcomeSubtype' & 'Name'`**"
   ]
  },
  {
   "cell_type": "code",
   "execution_count": 9,
   "id": "c4a8f936",
   "metadata": {},
   "outputs": [
    {
     "data": {
      "text/plain": [
       "Partner                7816\n",
       "Foster                 1800\n",
       "SCRP                   1599\n",
       "Suffering              1002\n",
       "Aggressive              320\n",
       "Offsite                 165\n",
       "In Kennel               114\n",
       "Behavior                 86\n",
       "Rabies Risk              74\n",
       "Medical                  66\n",
       "In Foster                52\n",
       "Enroute                   8\n",
       "Court/Investigation       6\n",
       "At Vet                    4\n",
       "In Surgery                3\n",
       "Barn                      2\n",
       "Name: OutcomeSubtype, dtype: int64"
      ]
     },
     "execution_count": 9,
     "metadata": {},
     "output_type": "execute_result"
    }
   ],
   "source": [
    "data_train[\"OutcomeSubtype\"].value_counts()"
   ]
  },
  {
   "cell_type": "code",
   "execution_count": 10,
   "id": "673d2385",
   "metadata": {},
   "outputs": [],
   "source": [
    "data_train.fillna('Unknown', inplace=True)"
   ]
  },
  {
   "cell_type": "code",
   "execution_count": 11,
   "id": "5438b865",
   "metadata": {
    "scrolled": true
   },
   "outputs": [
    {
     "data": {
      "text/plain": [
       "Unknown                13612\n",
       "Partner                 7816\n",
       "Foster                  1800\n",
       "SCRP                    1599\n",
       "Suffering               1002\n",
       "Aggressive               320\n",
       "Offsite                  165\n",
       "In Kennel                114\n",
       "Behavior                  86\n",
       "Rabies Risk               74\n",
       "Medical                   66\n",
       "In Foster                 52\n",
       "Enroute                    8\n",
       "Court/Investigation        6\n",
       "At Vet                     4\n",
       "In Surgery                 3\n",
       "Barn                       2\n",
       "Name: OutcomeSubtype, dtype: int64"
      ]
     },
     "execution_count": 11,
     "metadata": {},
     "output_type": "execute_result"
    }
   ],
   "source": [
    "data_train['OutcomeSubtype'].value_counts()"
   ]
  },
  {
   "cell_type": "code",
   "execution_count": 12,
   "id": "a79f8d33",
   "metadata": {},
   "outputs": [
    {
     "data": {
      "text/plain": [
       "Dog    15595\n",
       "Cat    11134\n",
       "Name: AnimalType, dtype: int64"
      ]
     },
     "execution_count": 12,
     "metadata": {},
     "output_type": "execute_result"
    }
   ],
   "source": [
    "data_train['AnimalType'].value_counts()"
   ]
  },
  {
   "cell_type": "markdown",
   "id": "cba818ec",
   "metadata": {},
   "source": [
    "We can see there are 2 types of animals: cats 🐈 and dogs 🐕. We can thus split the dataset in two to predict the best outcome for each."
   ]
  },
  {
   "cell_type": "code",
   "execution_count": 13,
   "id": "e9aa426b",
   "metadata": {},
   "outputs": [
    {
     "data": {
      "text/html": [
       "<div>\n",
       "<style scoped>\n",
       "    .dataframe tbody tr th:only-of-type {\n",
       "        vertical-align: middle;\n",
       "    }\n",
       "\n",
       "    .dataframe tbody tr th {\n",
       "        vertical-align: top;\n",
       "    }\n",
       "\n",
       "    .dataframe thead th {\n",
       "        text-align: right;\n",
       "    }\n",
       "</style>\n",
       "<table border=\"1\" class=\"dataframe\">\n",
       "  <thead>\n",
       "    <tr style=\"text-align: right;\">\n",
       "      <th></th>\n",
       "      <th>AnimalID</th>\n",
       "      <th>Name</th>\n",
       "      <th>DateTime</th>\n",
       "      <th>OutcomeType</th>\n",
       "      <th>OutcomeSubtype</th>\n",
       "      <th>AnimalType</th>\n",
       "      <th>SexuponOutcome</th>\n",
       "      <th>AgeuponOutcome</th>\n",
       "      <th>Breed</th>\n",
       "      <th>Color</th>\n",
       "    </tr>\n",
       "  </thead>\n",
       "  <tbody>\n",
       "    <tr>\n",
       "      <th>0</th>\n",
       "      <td>A671945</td>\n",
       "      <td>Hambone</td>\n",
       "      <td>2014-02-12 18:22:00</td>\n",
       "      <td>Return_to_owner</td>\n",
       "      <td>Unknown</td>\n",
       "      <td>Dog</td>\n",
       "      <td>Neutered Male</td>\n",
       "      <td>1 year</td>\n",
       "      <td>Shetland Sheepdog Mix</td>\n",
       "      <td>Brown/White</td>\n",
       "    </tr>\n",
       "    <tr>\n",
       "      <th>2</th>\n",
       "      <td>A686464</td>\n",
       "      <td>Pearce</td>\n",
       "      <td>2015-01-31 12:28:00</td>\n",
       "      <td>Adoption</td>\n",
       "      <td>Foster</td>\n",
       "      <td>Dog</td>\n",
       "      <td>Neutered Male</td>\n",
       "      <td>2 years</td>\n",
       "      <td>Pit Bull Mix</td>\n",
       "      <td>Blue/White</td>\n",
       "    </tr>\n",
       "    <tr>\n",
       "      <th>4</th>\n",
       "      <td>A667013</td>\n",
       "      <td>Unknown</td>\n",
       "      <td>2013-11-15 12:52:00</td>\n",
       "      <td>Transfer</td>\n",
       "      <td>Partner</td>\n",
       "      <td>Dog</td>\n",
       "      <td>Neutered Male</td>\n",
       "      <td>2 years</td>\n",
       "      <td>Lhasa Apso/Miniature Poodle</td>\n",
       "      <td>Tan</td>\n",
       "    </tr>\n",
       "    <tr>\n",
       "      <th>5</th>\n",
       "      <td>A677334</td>\n",
       "      <td>Elsa</td>\n",
       "      <td>2014-04-25 13:04:00</td>\n",
       "      <td>Transfer</td>\n",
       "      <td>Partner</td>\n",
       "      <td>Dog</td>\n",
       "      <td>Intact Female</td>\n",
       "      <td>1 month</td>\n",
       "      <td>Cairn Terrier/Chihuahua Shorthair</td>\n",
       "      <td>Black/Tan</td>\n",
       "    </tr>\n",
       "    <tr>\n",
       "      <th>8</th>\n",
       "      <td>A671784</td>\n",
       "      <td>Lucy</td>\n",
       "      <td>2014-02-04 17:17:00</td>\n",
       "      <td>Adoption</td>\n",
       "      <td>Unknown</td>\n",
       "      <td>Dog</td>\n",
       "      <td>Spayed Female</td>\n",
       "      <td>5 months</td>\n",
       "      <td>American Pit Bull Terrier Mix</td>\n",
       "      <td>Red/White</td>\n",
       "    </tr>\n",
       "    <tr>\n",
       "      <th>...</th>\n",
       "      <td>...</td>\n",
       "      <td>...</td>\n",
       "      <td>...</td>\n",
       "      <td>...</td>\n",
       "      <td>...</td>\n",
       "      <td>...</td>\n",
       "      <td>...</td>\n",
       "      <td>...</td>\n",
       "      <td>...</td>\n",
       "      <td>...</td>\n",
       "    </tr>\n",
       "    <tr>\n",
       "      <th>26716</th>\n",
       "      <td>A697158</td>\n",
       "      <td>Max</td>\n",
       "      <td>2015-05-02 21:04:00</td>\n",
       "      <td>Adoption</td>\n",
       "      <td>Offsite</td>\n",
       "      <td>Dog</td>\n",
       "      <td>Neutered Male</td>\n",
       "      <td>2 months</td>\n",
       "      <td>Newfoundland Mix</td>\n",
       "      <td>White/Black</td>\n",
       "    </tr>\n",
       "    <tr>\n",
       "      <th>26717</th>\n",
       "      <td>A519949</td>\n",
       "      <td>Bella</td>\n",
       "      <td>2014-06-30 17:34:00</td>\n",
       "      <td>Return_to_owner</td>\n",
       "      <td>Unknown</td>\n",
       "      <td>Dog</td>\n",
       "      <td>Spayed Female</td>\n",
       "      <td>9 years</td>\n",
       "      <td>Bullmastiff Mix</td>\n",
       "      <td>Black</td>\n",
       "    </tr>\n",
       "    <tr>\n",
       "      <th>26718</th>\n",
       "      <td>A701044</td>\n",
       "      <td>Unknown</td>\n",
       "      <td>2015-04-28 14:26:00</td>\n",
       "      <td>Adoption</td>\n",
       "      <td>Unknown</td>\n",
       "      <td>Dog</td>\n",
       "      <td>Neutered Male</td>\n",
       "      <td>2 months</td>\n",
       "      <td>Siberian Husky/German Shepherd</td>\n",
       "      <td>Black/Tricolor</td>\n",
       "    </tr>\n",
       "    <tr>\n",
       "      <th>26723</th>\n",
       "      <td>A716997</td>\n",
       "      <td>Zeus</td>\n",
       "      <td>2016-01-29 18:52:00</td>\n",
       "      <td>Adoption</td>\n",
       "      <td>Unknown</td>\n",
       "      <td>Dog</td>\n",
       "      <td>Neutered Male</td>\n",
       "      <td>6 years</td>\n",
       "      <td>Staffordshire Mix</td>\n",
       "      <td>Blue/White</td>\n",
       "    </tr>\n",
       "    <tr>\n",
       "      <th>26726</th>\n",
       "      <td>A698128</td>\n",
       "      <td>Zeus</td>\n",
       "      <td>2015-03-09 13:33:00</td>\n",
       "      <td>Adoption</td>\n",
       "      <td>Unknown</td>\n",
       "      <td>Dog</td>\n",
       "      <td>Neutered Male</td>\n",
       "      <td>4 years</td>\n",
       "      <td>Old English Bulldog Mix</td>\n",
       "      <td>White/Tan</td>\n",
       "    </tr>\n",
       "  </tbody>\n",
       "</table>\n",
       "<p>15595 rows × 10 columns</p>\n",
       "</div>"
      ],
      "text/plain": [
       "      AnimalID     Name             DateTime      OutcomeType OutcomeSubtype  \\\n",
       "0      A671945  Hambone  2014-02-12 18:22:00  Return_to_owner        Unknown   \n",
       "2      A686464   Pearce  2015-01-31 12:28:00         Adoption         Foster   \n",
       "4      A667013  Unknown  2013-11-15 12:52:00         Transfer        Partner   \n",
       "5      A677334     Elsa  2014-04-25 13:04:00         Transfer        Partner   \n",
       "8      A671784     Lucy  2014-02-04 17:17:00         Adoption        Unknown   \n",
       "...        ...      ...                  ...              ...            ...   \n",
       "26716  A697158      Max  2015-05-02 21:04:00         Adoption        Offsite   \n",
       "26717  A519949    Bella  2014-06-30 17:34:00  Return_to_owner        Unknown   \n",
       "26718  A701044  Unknown  2015-04-28 14:26:00         Adoption        Unknown   \n",
       "26723  A716997     Zeus  2016-01-29 18:52:00         Adoption        Unknown   \n",
       "26726  A698128     Zeus  2015-03-09 13:33:00         Adoption        Unknown   \n",
       "\n",
       "      AnimalType SexuponOutcome AgeuponOutcome  \\\n",
       "0            Dog  Neutered Male         1 year   \n",
       "2            Dog  Neutered Male        2 years   \n",
       "4            Dog  Neutered Male        2 years   \n",
       "5            Dog  Intact Female        1 month   \n",
       "8            Dog  Spayed Female       5 months   \n",
       "...          ...            ...            ...   \n",
       "26716        Dog  Neutered Male       2 months   \n",
       "26717        Dog  Spayed Female        9 years   \n",
       "26718        Dog  Neutered Male       2 months   \n",
       "26723        Dog  Neutered Male        6 years   \n",
       "26726        Dog  Neutered Male        4 years   \n",
       "\n",
       "                                   Breed           Color  \n",
       "0                  Shetland Sheepdog Mix     Brown/White  \n",
       "2                           Pit Bull Mix      Blue/White  \n",
       "4            Lhasa Apso/Miniature Poodle             Tan  \n",
       "5      Cairn Terrier/Chihuahua Shorthair       Black/Tan  \n",
       "8          American Pit Bull Terrier Mix       Red/White  \n",
       "...                                  ...             ...  \n",
       "26716                   Newfoundland Mix     White/Black  \n",
       "26717                    Bullmastiff Mix           Black  \n",
       "26718     Siberian Husky/German Shepherd  Black/Tricolor  \n",
       "26723                  Staffordshire Mix      Blue/White  \n",
       "26726            Old English Bulldog Mix       White/Tan  \n",
       "\n",
       "[15595 rows x 10 columns]"
      ]
     },
     "execution_count": 13,
     "metadata": {},
     "output_type": "execute_result"
    }
   ],
   "source": [
    "train_dogs = data_train[data_train['AnimalType'] == 'Dog']\n",
    "train_dogs"
   ]
  },
  {
   "cell_type": "code",
   "execution_count": 14,
   "id": "1625d7d5",
   "metadata": {},
   "outputs": [
    {
     "data": {
      "text/plain": [
       "Unknown                9989\n",
       "Partner                3911\n",
       "Foster                  705\n",
       "Suffering               350\n",
       "Aggressive              317\n",
       "Offsite                 101\n",
       "Behavior                 86\n",
       "Rabies Risk              46\n",
       "Medical                  40\n",
       "In Kennel                30\n",
       "In Foster                 7\n",
       "Court/Investigation       6\n",
       "In Surgery                3\n",
       "Enroute                   2\n",
       "At Vet                    2\n",
       "Name: OutcomeSubtype, dtype: int64"
      ]
     },
     "execution_count": 14,
     "metadata": {},
     "output_type": "execute_result"
    }
   ],
   "source": [
    "train_dogs['OutcomeSubtype'].value_counts()"
   ]
  },
  {
   "cell_type": "code",
   "execution_count": 15,
   "id": "20b31a1c",
   "metadata": {
    "scrolled": false
   },
   "outputs": [
    {
     "data": {
      "text/html": [
       "<div>\n",
       "<style scoped>\n",
       "    .dataframe tbody tr th:only-of-type {\n",
       "        vertical-align: middle;\n",
       "    }\n",
       "\n",
       "    .dataframe tbody tr th {\n",
       "        vertical-align: top;\n",
       "    }\n",
       "\n",
       "    .dataframe thead th {\n",
       "        text-align: right;\n",
       "    }\n",
       "</style>\n",
       "<table border=\"1\" class=\"dataframe\">\n",
       "  <thead>\n",
       "    <tr style=\"text-align: right;\">\n",
       "      <th></th>\n",
       "      <th>AnimalID</th>\n",
       "      <th>Name</th>\n",
       "      <th>DateTime</th>\n",
       "      <th>OutcomeType</th>\n",
       "      <th>OutcomeSubtype</th>\n",
       "      <th>AnimalType</th>\n",
       "      <th>SexuponOutcome</th>\n",
       "      <th>AgeuponOutcome</th>\n",
       "      <th>Breed</th>\n",
       "      <th>Color</th>\n",
       "    </tr>\n",
       "  </thead>\n",
       "  <tbody>\n",
       "    <tr>\n",
       "      <th>1</th>\n",
       "      <td>A656520</td>\n",
       "      <td>Emily</td>\n",
       "      <td>2013-10-13 12:44:00</td>\n",
       "      <td>Euthanasia</td>\n",
       "      <td>Suffering</td>\n",
       "      <td>Cat</td>\n",
       "      <td>Spayed Female</td>\n",
       "      <td>1 year</td>\n",
       "      <td>Domestic Shorthair Mix</td>\n",
       "      <td>Cream Tabby</td>\n",
       "    </tr>\n",
       "    <tr>\n",
       "      <th>3</th>\n",
       "      <td>A683430</td>\n",
       "      <td>Unknown</td>\n",
       "      <td>2014-07-11 19:09:00</td>\n",
       "      <td>Transfer</td>\n",
       "      <td>Partner</td>\n",
       "      <td>Cat</td>\n",
       "      <td>Intact Male</td>\n",
       "      <td>3 weeks</td>\n",
       "      <td>Domestic Shorthair Mix</td>\n",
       "      <td>Blue Cream</td>\n",
       "    </tr>\n",
       "    <tr>\n",
       "      <th>6</th>\n",
       "      <td>A699218</td>\n",
       "      <td>Jimmy</td>\n",
       "      <td>2015-03-28 13:11:00</td>\n",
       "      <td>Transfer</td>\n",
       "      <td>Partner</td>\n",
       "      <td>Cat</td>\n",
       "      <td>Intact Male</td>\n",
       "      <td>3 weeks</td>\n",
       "      <td>Domestic Shorthair Mix</td>\n",
       "      <td>Blue Tabby</td>\n",
       "    </tr>\n",
       "    <tr>\n",
       "      <th>7</th>\n",
       "      <td>A701489</td>\n",
       "      <td>Unknown</td>\n",
       "      <td>2015-04-30 17:02:00</td>\n",
       "      <td>Transfer</td>\n",
       "      <td>Partner</td>\n",
       "      <td>Cat</td>\n",
       "      <td>Unknown</td>\n",
       "      <td>3 weeks</td>\n",
       "      <td>Domestic Shorthair Mix</td>\n",
       "      <td>Brown Tabby</td>\n",
       "    </tr>\n",
       "    <tr>\n",
       "      <th>10</th>\n",
       "      <td>A668402</td>\n",
       "      <td>Unknown</td>\n",
       "      <td>2013-12-05 15:50:00</td>\n",
       "      <td>Transfer</td>\n",
       "      <td>SCRP</td>\n",
       "      <td>Cat</td>\n",
       "      <td>Unknown</td>\n",
       "      <td>2 years</td>\n",
       "      <td>Domestic Shorthair Mix</td>\n",
       "      <td>Black</td>\n",
       "    </tr>\n",
       "    <tr>\n",
       "      <th>...</th>\n",
       "      <td>...</td>\n",
       "      <td>...</td>\n",
       "      <td>...</td>\n",
       "      <td>...</td>\n",
       "      <td>...</td>\n",
       "      <td>...</td>\n",
       "      <td>...</td>\n",
       "      <td>...</td>\n",
       "      <td>...</td>\n",
       "      <td>...</td>\n",
       "    </tr>\n",
       "    <tr>\n",
       "      <th>26722</th>\n",
       "      <td>A687056</td>\n",
       "      <td>Unknown</td>\n",
       "      <td>2014-08-31 09:00:00</td>\n",
       "      <td>Transfer</td>\n",
       "      <td>SCRP</td>\n",
       "      <td>Cat</td>\n",
       "      <td>Intact Male</td>\n",
       "      <td>5 months</td>\n",
       "      <td>Domestic Shorthair Mix</td>\n",
       "      <td>Orange Tabby</td>\n",
       "    </tr>\n",
       "    <tr>\n",
       "      <th>26724</th>\n",
       "      <td>A702446</td>\n",
       "      <td>Unknown</td>\n",
       "      <td>2015-05-14 11:56:00</td>\n",
       "      <td>Transfer</td>\n",
       "      <td>Partner</td>\n",
       "      <td>Cat</td>\n",
       "      <td>Intact Male</td>\n",
       "      <td>1 month</td>\n",
       "      <td>Domestic Shorthair Mix</td>\n",
       "      <td>Brown Tabby/White</td>\n",
       "    </tr>\n",
       "    <tr>\n",
       "      <th>26725</th>\n",
       "      <td>A718934</td>\n",
       "      <td>Unknown</td>\n",
       "      <td>2016-01-20 18:59:00</td>\n",
       "      <td>Transfer</td>\n",
       "      <td>SCRP</td>\n",
       "      <td>Cat</td>\n",
       "      <td>Spayed Female</td>\n",
       "      <td>3 months</td>\n",
       "      <td>Domestic Shorthair Mix</td>\n",
       "      <td>Brown Tabby</td>\n",
       "    </tr>\n",
       "    <tr>\n",
       "      <th>26727</th>\n",
       "      <td>A677478</td>\n",
       "      <td>Unknown</td>\n",
       "      <td>2014-04-27 12:22:00</td>\n",
       "      <td>Transfer</td>\n",
       "      <td>Partner</td>\n",
       "      <td>Cat</td>\n",
       "      <td>Intact Male</td>\n",
       "      <td>4 weeks</td>\n",
       "      <td>Domestic Shorthair Mix</td>\n",
       "      <td>Black</td>\n",
       "    </tr>\n",
       "    <tr>\n",
       "      <th>26728</th>\n",
       "      <td>A706629</td>\n",
       "      <td>Unknown</td>\n",
       "      <td>2015-07-02 09:00:00</td>\n",
       "      <td>Transfer</td>\n",
       "      <td>SCRP</td>\n",
       "      <td>Cat</td>\n",
       "      <td>Intact Male</td>\n",
       "      <td>1 year</td>\n",
       "      <td>Domestic Shorthair Mix</td>\n",
       "      <td>Brown Tabby/White</td>\n",
       "    </tr>\n",
       "  </tbody>\n",
       "</table>\n",
       "<p>11134 rows × 10 columns</p>\n",
       "</div>"
      ],
      "text/plain": [
       "      AnimalID     Name             DateTime OutcomeType OutcomeSubtype  \\\n",
       "1      A656520    Emily  2013-10-13 12:44:00  Euthanasia      Suffering   \n",
       "3      A683430  Unknown  2014-07-11 19:09:00    Transfer        Partner   \n",
       "6      A699218    Jimmy  2015-03-28 13:11:00    Transfer        Partner   \n",
       "7      A701489  Unknown  2015-04-30 17:02:00    Transfer        Partner   \n",
       "10     A668402  Unknown  2013-12-05 15:50:00    Transfer           SCRP   \n",
       "...        ...      ...                  ...         ...            ...   \n",
       "26722  A687056  Unknown  2014-08-31 09:00:00    Transfer           SCRP   \n",
       "26724  A702446  Unknown  2015-05-14 11:56:00    Transfer        Partner   \n",
       "26725  A718934  Unknown  2016-01-20 18:59:00    Transfer           SCRP   \n",
       "26727  A677478  Unknown  2014-04-27 12:22:00    Transfer        Partner   \n",
       "26728  A706629  Unknown  2015-07-02 09:00:00    Transfer           SCRP   \n",
       "\n",
       "      AnimalType SexuponOutcome AgeuponOutcome                   Breed  \\\n",
       "1            Cat  Spayed Female         1 year  Domestic Shorthair Mix   \n",
       "3            Cat    Intact Male        3 weeks  Domestic Shorthair Mix   \n",
       "6            Cat    Intact Male        3 weeks  Domestic Shorthair Mix   \n",
       "7            Cat        Unknown        3 weeks  Domestic Shorthair Mix   \n",
       "10           Cat        Unknown        2 years  Domestic Shorthair Mix   \n",
       "...          ...            ...            ...                     ...   \n",
       "26722        Cat    Intact Male       5 months  Domestic Shorthair Mix   \n",
       "26724        Cat    Intact Male        1 month  Domestic Shorthair Mix   \n",
       "26725        Cat  Spayed Female       3 months  Domestic Shorthair Mix   \n",
       "26727        Cat    Intact Male        4 weeks  Domestic Shorthair Mix   \n",
       "26728        Cat    Intact Male         1 year  Domestic Shorthair Mix   \n",
       "\n",
       "                   Color  \n",
       "1            Cream Tabby  \n",
       "3             Blue Cream  \n",
       "6             Blue Tabby  \n",
       "7            Brown Tabby  \n",
       "10                 Black  \n",
       "...                  ...  \n",
       "26722       Orange Tabby  \n",
       "26724  Brown Tabby/White  \n",
       "26725        Brown Tabby  \n",
       "26727              Black  \n",
       "26728  Brown Tabby/White  \n",
       "\n",
       "[11134 rows x 10 columns]"
      ]
     },
     "execution_count": 15,
     "metadata": {},
     "output_type": "execute_result"
    }
   ],
   "source": [
    "train_cats = data_train[data_train['AnimalType'] == 'Cat']\n",
    "train_cats"
   ]
  },
  {
   "cell_type": "code",
   "execution_count": 16,
   "id": "f540992c",
   "metadata": {},
   "outputs": [
    {
     "data": {
      "text/plain": [
       "Partner        3905\n",
       "Unknown        3623\n",
       "SCRP           1599\n",
       "Foster         1095\n",
       "Suffering       652\n",
       "In Kennel        84\n",
       "Offsite          64\n",
       "In Foster        45\n",
       "Rabies Risk      28\n",
       "Medical          26\n",
       "Enroute           6\n",
       "Aggressive        3\n",
       "Barn              2\n",
       "At Vet            2\n",
       "Name: OutcomeSubtype, dtype: int64"
      ]
     },
     "execution_count": 16,
     "metadata": {},
     "output_type": "execute_result"
    }
   ],
   "source": [
    "train_cats['OutcomeSubtype'].value_counts()"
   ]
  },
  {
   "cell_type": "markdown",
   "id": "065deac4",
   "metadata": {},
   "source": [
    "We redo the same operation for the test dataset."
   ]
  },
  {
   "cell_type": "code",
   "execution_count": 17,
   "id": "c86f46d8",
   "metadata": {},
   "outputs": [],
   "source": [
    "test_dogs = data_test[data_test['AnimalType'] == 'Dog']\n",
    "test_cats = data_test[data_test['AnimalType'] == 'Cat']"
   ]
  },
  {
   "cell_type": "markdown",
   "id": "f6b7aeda",
   "metadata": {},
   "source": [
    "We can thus remove the entire AnimalType column for each."
   ]
  },
  {
   "cell_type": "code",
   "execution_count": 18,
   "id": "2c1db276",
   "metadata": {},
   "outputs": [
    {
     "name": "stderr",
     "output_type": "stream",
     "text": [
      "/tmp/ipykernel_7933/670608345.py:1: SettingWithCopyWarning: \n",
      "A value is trying to be set on a copy of a slice from a DataFrame\n",
      "\n",
      "See the caveats in the documentation: https://pandas.pydata.org/pandas-docs/stable/user_guide/indexing.html#returning-a-view-versus-a-copy\n",
      "  test_dogs.drop('AnimalType', axis=1, inplace=True)\n",
      "/tmp/ipykernel_7933/670608345.py:2: SettingWithCopyWarning: \n",
      "A value is trying to be set on a copy of a slice from a DataFrame\n",
      "\n",
      "See the caveats in the documentation: https://pandas.pydata.org/pandas-docs/stable/user_guide/indexing.html#returning-a-view-versus-a-copy\n",
      "  test_cats.drop('AnimalType', axis=1, inplace=True)\n",
      "/tmp/ipykernel_7933/670608345.py:3: SettingWithCopyWarning: \n",
      "A value is trying to be set on a copy of a slice from a DataFrame\n",
      "\n",
      "See the caveats in the documentation: https://pandas.pydata.org/pandas-docs/stable/user_guide/indexing.html#returning-a-view-versus-a-copy\n",
      "  train_cats.drop('AnimalType', axis=1, inplace=True)\n",
      "/tmp/ipykernel_7933/670608345.py:4: SettingWithCopyWarning: \n",
      "A value is trying to be set on a copy of a slice from a DataFrame\n",
      "\n",
      "See the caveats in the documentation: https://pandas.pydata.org/pandas-docs/stable/user_guide/indexing.html#returning-a-view-versus-a-copy\n",
      "  train_dogs.drop('AnimalType', axis=1, inplace=True)\n"
     ]
    }
   ],
   "source": [
    "test_dogs.drop('AnimalType', axis=1, inplace=True)\n",
    "test_cats.drop('AnimalType', axis=1, inplace=True)\n",
    "train_cats.drop('AnimalType', axis=1, inplace=True)\n",
    "train_dogs.drop('AnimalType', axis=1, inplace=True)"
   ]
  },
  {
   "cell_type": "code",
   "execution_count": 19,
   "id": "1868f5de",
   "metadata": {},
   "outputs": [],
   "source": [
    "test_dogs = test_dogs.reset_index()\n",
    "test_cats = test_cats.reset_index()\n",
    "train_dogs = train_dogs.reset_index()\n",
    "train_cats = train_cats.reset_index()"
   ]
  },
  {
   "cell_type": "code",
   "execution_count": 20,
   "id": "d5ddc887",
   "metadata": {},
   "outputs": [],
   "source": [
    "test_dogs.drop('index', axis=1, inplace=True)\n",
    "test_cats.drop('index', axis=1, inplace=True)\n",
    "train_dogs.drop('index', axis=1, inplace=True)\n",
    "train_cats.drop('index', axis=1, inplace=True)"
   ]
  },
  {
   "cell_type": "code",
   "execution_count": 21,
   "id": "5f282916",
   "metadata": {},
   "outputs": [
    {
     "data": {
      "text/html": [
       "<div>\n",
       "<style scoped>\n",
       "    .dataframe tbody tr th:only-of-type {\n",
       "        vertical-align: middle;\n",
       "    }\n",
       "\n",
       "    .dataframe tbody tr th {\n",
       "        vertical-align: top;\n",
       "    }\n",
       "\n",
       "    .dataframe thead th {\n",
       "        text-align: right;\n",
       "    }\n",
       "</style>\n",
       "<table border=\"1\" class=\"dataframe\">\n",
       "  <thead>\n",
       "    <tr style=\"text-align: right;\">\n",
       "      <th></th>\n",
       "      <th>AnimalID</th>\n",
       "      <th>Name</th>\n",
       "      <th>DateTime</th>\n",
       "      <th>OutcomeType</th>\n",
       "      <th>OutcomeSubtype</th>\n",
       "      <th>SexuponOutcome</th>\n",
       "      <th>AgeuponOutcome</th>\n",
       "      <th>Breed</th>\n",
       "      <th>Color</th>\n",
       "    </tr>\n",
       "  </thead>\n",
       "  <tbody>\n",
       "    <tr>\n",
       "      <th>0</th>\n",
       "      <td>A671945</td>\n",
       "      <td>Hambone</td>\n",
       "      <td>2014-02-12 18:22:00</td>\n",
       "      <td>Return_to_owner</td>\n",
       "      <td>Unknown</td>\n",
       "      <td>Neutered Male</td>\n",
       "      <td>1 year</td>\n",
       "      <td>Shetland Sheepdog Mix</td>\n",
       "      <td>Brown/White</td>\n",
       "    </tr>\n",
       "    <tr>\n",
       "      <th>1</th>\n",
       "      <td>A686464</td>\n",
       "      <td>Pearce</td>\n",
       "      <td>2015-01-31 12:28:00</td>\n",
       "      <td>Adoption</td>\n",
       "      <td>Foster</td>\n",
       "      <td>Neutered Male</td>\n",
       "      <td>2 years</td>\n",
       "      <td>Pit Bull Mix</td>\n",
       "      <td>Blue/White</td>\n",
       "    </tr>\n",
       "    <tr>\n",
       "      <th>2</th>\n",
       "      <td>A667013</td>\n",
       "      <td>Unknown</td>\n",
       "      <td>2013-11-15 12:52:00</td>\n",
       "      <td>Transfer</td>\n",
       "      <td>Partner</td>\n",
       "      <td>Neutered Male</td>\n",
       "      <td>2 years</td>\n",
       "      <td>Lhasa Apso/Miniature Poodle</td>\n",
       "      <td>Tan</td>\n",
       "    </tr>\n",
       "    <tr>\n",
       "      <th>3</th>\n",
       "      <td>A677334</td>\n",
       "      <td>Elsa</td>\n",
       "      <td>2014-04-25 13:04:00</td>\n",
       "      <td>Transfer</td>\n",
       "      <td>Partner</td>\n",
       "      <td>Intact Female</td>\n",
       "      <td>1 month</td>\n",
       "      <td>Cairn Terrier/Chihuahua Shorthair</td>\n",
       "      <td>Black/Tan</td>\n",
       "    </tr>\n",
       "    <tr>\n",
       "      <th>4</th>\n",
       "      <td>A671784</td>\n",
       "      <td>Lucy</td>\n",
       "      <td>2014-02-04 17:17:00</td>\n",
       "      <td>Adoption</td>\n",
       "      <td>Unknown</td>\n",
       "      <td>Spayed Female</td>\n",
       "      <td>5 months</td>\n",
       "      <td>American Pit Bull Terrier Mix</td>\n",
       "      <td>Red/White</td>\n",
       "    </tr>\n",
       "  </tbody>\n",
       "</table>\n",
       "</div>"
      ],
      "text/plain": [
       "  AnimalID     Name             DateTime      OutcomeType OutcomeSubtype  \\\n",
       "0  A671945  Hambone  2014-02-12 18:22:00  Return_to_owner        Unknown   \n",
       "1  A686464   Pearce  2015-01-31 12:28:00         Adoption         Foster   \n",
       "2  A667013  Unknown  2013-11-15 12:52:00         Transfer        Partner   \n",
       "3  A677334     Elsa  2014-04-25 13:04:00         Transfer        Partner   \n",
       "4  A671784     Lucy  2014-02-04 17:17:00         Adoption        Unknown   \n",
       "\n",
       "  SexuponOutcome AgeuponOutcome                              Breed  \\\n",
       "0  Neutered Male         1 year              Shetland Sheepdog Mix   \n",
       "1  Neutered Male        2 years                       Pit Bull Mix   \n",
       "2  Neutered Male        2 years        Lhasa Apso/Miniature Poodle   \n",
       "3  Intact Female        1 month  Cairn Terrier/Chihuahua Shorthair   \n",
       "4  Spayed Female       5 months      American Pit Bull Terrier Mix   \n",
       "\n",
       "         Color  \n",
       "0  Brown/White  \n",
       "1   Blue/White  \n",
       "2          Tan  \n",
       "3    Black/Tan  \n",
       "4    Red/White  "
      ]
     },
     "execution_count": 21,
     "metadata": {},
     "output_type": "execute_result"
    }
   ],
   "source": [
    "train_dogs.head()"
   ]
  },
  {
   "cell_type": "markdown",
   "id": "39b653c3",
   "metadata": {},
   "source": [
    "But we still want to keep the ID of each animal."
   ]
  },
  {
   "cell_type": "code",
   "execution_count": 22,
   "id": "d4d4dbfe",
   "metadata": {},
   "outputs": [],
   "source": [
    "dog_test_ID = test_dogs[\"ID\"].to_numpy()\n",
    "dog_test_ID = np.array([dog_test_ID])\n",
    "dog_test_ID = dog_test_ID.T\n",
    "test_dogs.drop(\"ID\", axis=1, inplace=True)\n",
    "cat_test_ID = test_cats[\"ID\"].to_numpy()\n",
    "cat_test_ID = np.array([cat_test_ID])\n",
    "cat_test_ID = cat_test_ID.T\n",
    "test_cats.drop(\"ID\", axis=1, inplace=True)"
   ]
  },
  {
   "cell_type": "markdown",
   "id": "bbc7897d",
   "metadata": {},
   "source": [
    "## 🎯 Define features and target"
   ]
  },
  {
   "cell_type": "code",
   "execution_count": 23,
   "id": "c92c85ec",
   "metadata": {},
   "outputs": [],
   "source": [
    "y_train_dogs = train_dogs['OutcomeType']\n",
    "train_dogs = train_dogs.drop(columns=['OutcomeType'])\n",
    "y_train_cats = train_cats['OutcomeType']\n",
    "train_cats = train_cats.drop(columns=['OutcomeType'])"
   ]
  },
  {
   "cell_type": "markdown",
   "id": "6e050964",
   "metadata": {},
   "source": [
    "## 📅 Preprocessing the data, adding features"
   ]
  },
  {
   "cell_type": "code",
   "execution_count": 24,
   "id": "763a91ac",
   "metadata": {
    "scrolled": false
   },
   "outputs": [
    {
     "name": "stdout",
     "output_type": "stream",
     "text": [
      "   AgeuponOutcome  Breed  Color  Year  Month  Day  Hour  Minute  Virginity  \\\n",
      "0           365.0      0     36  2014      2   12    18      22          1   \n",
      "1           730.0      0     22  2015      1   31    12      28          1   \n",
      "2           730.0      1    119  2013     11   15    12      52          1   \n",
      "3            30.0      1     13  2014      4   25    13       4          2   \n",
      "4           150.0      1    102  2014      2    4    17      17          1   \n",
      "\n",
      "   Sex  Has_name  Hairgroup  Aggressiveness  Weight  \n",
      "0    2         0          2              11       3  \n",
      "1    2         0          2              11       1  \n",
      "2    2         1          2              11       3  \n",
      "3    2         0          0              11       3  \n",
      "4    2         0          2              11       1  \n",
      "   AgeuponOutcome  Breed  Color  Year  Month  Day  Hour  Minute  Virginity  \\\n",
      "0           365.0      0     31  2013     10   13    12      44          1   \n",
      "1             3.0      0     10  2014      7   11    19       9          2   \n",
      "2             3.0      0     10  2015      3   28    13      11          2   \n",
      "3             3.0      0     16  2015      4   30    17       2          0   \n",
      "4           730.0      0      2  2013     12    5    15      50          0   \n",
      "\n",
      "   Sex  Has_name  Hairgroup  \n",
      "0    2         0          0  \n",
      "1    2         1          0  \n",
      "2    2         0          0  \n",
      "3    0         1          0  \n",
      "4    0         1          0  \n"
     ]
    }
   ],
   "source": [
    "def pre_processing(shelter_train, shelter_test, animal_type):\n",
    "    #But first, let's drop the ID of the animals and the Subtype of their Outcomes\n",
    "    shelter_train.drop('AnimalID', axis=1, inplace=True)\n",
    "    shelter_train.drop(\"OutcomeSubtype\", axis=1, inplace=True)\n",
    "    #Then, convert to DateTime\n",
    "    time_train = pd.to_datetime(shelter_train['DateTime'])\n",
    "    time_test = pd.to_datetime(shelter_test['DateTime'])\n",
    "    #Pick out the year, month, day, hour, minute\n",
    "    shelter_train['Year'] = time_train.dt.year\n",
    "    shelter_test['Year'] = time_test.dt.year\n",
    "    shelter_train['Month'] = time_train.dt.month\n",
    "    shelter_test['Month'] = time_test.dt.month\n",
    "    shelter_train['Day'] = time_train.dt.day\n",
    "    shelter_test['Day'] = time_test.dt.day\n",
    "    shelter_train['Hour'] = time_train.dt.hour\n",
    "    shelter_test['Hour'] = time_test.dt.hour\n",
    "    shelter_train['Minute'] = time_train.dt.minute\n",
    "    shelter_test['Minute'] = time_test.dt.minute\n",
    "    \n",
    "    shelter_train.drop('DateTime', axis=1, inplace=True)\n",
    "    shelter_test.drop('DateTime', axis=1, inplace=True)\n",
    "    \n",
    "    #Convert the NaN in SexuponOutcome to neutral\n",
    "    shelter_train['SexuponOutcome'].fillna('Spayed Female', inplace=True)\n",
    "    shelter_test['SexuponOutcome'].fillna('Spayed Female', inplace=True)\n",
    "    \n",
    "    #Begin inputing meaningful features in the Datasets\n",
    "    def intact_group(sex):\n",
    "        try:\n",
    "            intact_type = sex.split()\n",
    "        except:\n",
    "            return 0\n",
    "        if intact_type[0] == 'Neutered' or intact_type[0] == 'Spayed':\n",
    "            return 1\n",
    "        elif intact_type[0] == 'Intact':\n",
    "            return 2\n",
    "        else:\n",
    "            return 0\n",
    "    \n",
    "    shelter_train[\"Virginity\"] = shelter_train[\"SexuponOutcome\"].apply(intact_group)\n",
    "    shelter_test[\"Virginity\"] = shelter_test[\"SexuponOutcome\"].apply(intact_group)\n",
    "    \n",
    "    def sex_group(sexs):\n",
    "        try:\n",
    "            sex_type = sexs.split()\n",
    "        except:\n",
    "            return 0\n",
    "        if sex_type[0] == 'Unknown':\n",
    "            return 0\n",
    "        elif sex_type[0] == 'Male':\n",
    "            return 1\n",
    "        else:\n",
    "            return 2\n",
    "        \n",
    "    shelter_train[\"Sex\"] = shelter_train[\"SexuponOutcome\"].apply(sex_group)\n",
    "    shelter_test[\"Sex\"] = shelter_test[\"SexuponOutcome\"].apply(sex_group)\n",
    "    \n",
    "    #We've drained as many info as possible from SexuponOutcome, so we can drop it\n",
    "    shelter_train.drop('SexuponOutcome', axis=1, inplace=True)\n",
    "    shelter_test.drop('SexuponOutcome', axis=1, inplace=True)\n",
    "    \n",
    "    #Check for the name\n",
    "    def has_name(name):\n",
    "        if name == 'Unknown':\n",
    "            return 1\n",
    "        else:\n",
    "            return 0\n",
    "    \n",
    "    shelter_train[\"Has_name\"] = shelter_train[\"Name\"].apply(has_name)\n",
    "    shelter_test[\"Has_name\"] = shelter_test[\"Name\"].apply(has_name)\n",
    "    #We've drained as many info as possible from Name, so we can drop it\n",
    "    shelter_train.drop('Name', axis=1, inplace=True)\n",
    "    shelter_test.drop('Name', axis=1, inplace=True)\n",
    "    \n",
    "    #Convert the age in days\n",
    "    #fill the NaN values\n",
    "    shelter_train['AgeuponOutcome'].fillna('1 month', inplace = True)\n",
    "    shelter_test['AgeuponOutcome'].fillna('1 month', inplace = True)\n",
    "    \n",
    "    #Convert\n",
    "    def convert_age(age):\n",
    "        if age == 'Unknown':\n",
    "            return 3.0\n",
    "        age_list = age.split()\n",
    "        try:\n",
    "            ages = int(age_list[0])\n",
    "        except ValueError:\n",
    "            return 3.0\n",
    "        if age_list[1].find(\"s\") >= 0:\n",
    "            age_list[1] = age_list[1].replace(\"s\", \"\")\n",
    "        if age_list[1] == \"year\":\n",
    "            return ages * 365\n",
    "        elif age_list[1] == \"month\":\n",
    "            return ages * 30\n",
    "        else:\n",
    "            return ages\n",
    "\n",
    "        \n",
    "    shelter_train['AgeuponOutcome'] = shelter_train['AgeuponOutcome'].apply(convert_age)\n",
    "    shelter_test['AgeuponOutcome'] = shelter_test['AgeuponOutcome'].apply(convert_age)\n",
    "    \n",
    "    #Convert Breed to Hair, Aggressiveness, Weight, BreedType\n",
    "\n",
    "    #hair group (for cats)\n",
    "    def hair_group(breed):\n",
    "        if breed.find(\"Shorthair\") != -1:\n",
    "            return 0\n",
    "        elif breed.find(\"Longhair\") != -1:\n",
    "            return 1\n",
    "        else:\n",
    "            return 2\n",
    "\n",
    "    shelter_train[\"Hairgroup\"] = shelter_train[\"Breed\"].apply(hair_group)\n",
    "    shelter_test[\"Hairgroup\"] = shelter_test[\"Breed\"].apply(hair_group)\n",
    "    \n",
    "    #Aggressiveness and weight conversion (for dogs)\n",
    "    \n",
    "    def aggressiveness(breed):\n",
    "        if breed.find('Pit bull') != -1:\n",
    "            return 1\n",
    "        elif breed.find('Rottweiler') != -1:\n",
    "            return 2\n",
    "        elif breed.find(\"Husky\") != -1:\n",
    "            return 3\n",
    "        elif breed.find(\"Shepherd\") != -1:\n",
    "            return 4\n",
    "        elif breed.find(\"Malamute\") != -1:\n",
    "            return 5\n",
    "        elif breed.find(\"Doberman\") != -1:\n",
    "            return 6\n",
    "        elif breed.find(\"Chow\") != -1:\n",
    "            return 7\n",
    "        elif breed.find(\"Dane\") != -1:\n",
    "            return 8\n",
    "        elif breed.find(\"Boxer\") != -1:\n",
    "            return 9\n",
    "        elif breed.find(\"Akita\") != -1:\n",
    "            return 10\n",
    "        else:\n",
    "            return 11\n",
    "        \n",
    "    if (animal_type == 'Dog'):\n",
    "        shelter_train['Aggressiveness'] = shelter_train['Breed'].apply(aggressiveness)\n",
    "        shelter_test['Aggressiveness'] = shelter_test['Breed'].apply(aggressiveness)\n",
    "        \n",
    "    def weight(breed):\n",
    "        if breed.find(\"Pit Bull\") != -1:\n",
    "            return 1\n",
    "        elif breed.find(\"Husky\") != -1:\n",
    "            return 1\n",
    "        elif breed.find(\"Doberman\") != -1:\n",
    "            return 1\n",
    "        elif breed.find(\"Boxer\") != -1:\n",
    "            return 1\n",
    "        elif breed.find(\"Akita\") != -1:\n",
    "            return 1\n",
    "        elif breed.find(\"Chow\") != -1:\n",
    "            return 1\n",
    "        elif breed.find(\"Rottweiler\") != -1:\n",
    "            return 2\n",
    "        elif breed.find(\"Shepherd\") != -1:\n",
    "            return 2\n",
    "        elif breed.find(\"Malamute\") != -1:\n",
    "            return 2\n",
    "        elif breed.find(\"Dane\") != -1:\n",
    "            return 2\n",
    "        else:\n",
    "            return 3\n",
    "        \n",
    "    if (animal_type == 'Dog'):\n",
    "        shelter_train['Weight'] = shelter_train['Breed'].apply(weight)\n",
    "        shelter_test['Weight'] = shelter_test['Breed'].apply(weight)\n",
    "\n",
    "    def color_group(color):\n",
    "        try:\n",
    "            color_type = color.split()\n",
    "        except:\n",
    "            return \"unknown\"\n",
    "        return str(color_type[0])\n",
    "    \n",
    "    shelter_train[\"Color\"] = shelter_train[\"Color\"].apply(color_group)\n",
    "    shelter_test[\"Color\"] = shelter_test[\"Color\"].apply(color_group)\n",
    "    #Convert each unique label to unique integers\n",
    "    intval, label = pd.factorize(shelter_train[\"Color\"], sort=True)\n",
    "    shelter_train[\"Color\"] = pd.DataFrame(intval)\n",
    "    del intval, label\n",
    "    intval, label = pd.factorize(shelter_test[\"Color\"], sort=True)\n",
    "    shelter_test[\"Color\"] = pd.DataFrame(intval)\n",
    "    del intval, label\n",
    "        \n",
    "    #Check if the animal is pure breed or not\n",
    "    def breed_group(breed_input):\n",
    "        breed = str(breed_input)\n",
    "        if (' ' in breed) == False:\n",
    "            br =  breed\n",
    "        else:\n",
    "            breed_list = breed.split()\n",
    "            try:\n",
    "                br = breed_list[2] \n",
    "            except:\n",
    "                br = breed_list[1] \n",
    "        if (br == \"Mix\"):\n",
    "            return 0\n",
    "        else:\n",
    "            return 1\n",
    "        return 1\n",
    "    \n",
    "    shelter_train[\"Breed\"] = shelter_train[\"Breed\"].apply(breed_group)\n",
    "    shelter_test[\"Breed\"] = shelter_test[\"Breed\"].apply(breed_group)\n",
    "    \n",
    "    print(shelter_train.head())\n",
    "    return shelter_train, shelter_test\n",
    "\n",
    "train_dogs, test_dogs = pre_processing(train_dogs, test_dogs, \"Dog\")\n",
    "train_cats, test_cats = pre_processing(train_cats, test_cats, \"Cat\")"
   ]
  },
  {
   "cell_type": "markdown",
   "id": "6efd152a",
   "metadata": {},
   "source": [
    "## ✂️ Holdout method"
   ]
  },
  {
   "cell_type": "code",
   "execution_count": 25,
   "id": "1ad19984",
   "metadata": {},
   "outputs": [],
   "source": [
    "X_dogs_train, X_dogs_test, y_dogs_train, y_dogs_test =  train_test_split(train_dogs,y_train_dogs,test_size=0.3)\n",
    "X_cats_train, X_cats_test, y_cats_train, y_cats_test =  train_test_split(train_cats,y_train_cats,test_size=0.3)"
   ]
  },
  {
   "cell_type": "code",
   "execution_count": 26,
   "id": "415acf0d",
   "metadata": {},
   "outputs": [
    {
     "data": {
      "text/plain": [
       "((10916, 14), (4679, 14), (10916,), (4679,))"
      ]
     },
     "execution_count": 26,
     "metadata": {},
     "output_type": "execute_result"
    }
   ],
   "source": [
    "X_dogs_train.shape, X_dogs_test.shape, y_dogs_train.shape, y_dogs_test.shape"
   ]
  },
  {
   "cell_type": "code",
   "execution_count": 27,
   "id": "fbbd338c",
   "metadata": {},
   "outputs": [
    {
     "data": {
      "text/plain": [
       "((7793, 12), (3341, 12), (7793,), (3341,))"
      ]
     },
     "execution_count": 27,
     "metadata": {},
     "output_type": "execute_result"
    }
   ],
   "source": [
    "X_cats_train.shape, X_cats_test.shape, y_cats_train.shape, y_cats_test.shape"
   ]
  },
  {
   "cell_type": "code",
   "execution_count": 28,
   "id": "4ac65756",
   "metadata": {},
   "outputs": [
    {
     "name": "stdout",
     "output_type": "stream",
     "text": [
      "Values for y_dogs_train: \n",
      "Adoption           4556\n",
      "Return_to_owner    3042\n",
      "Transfer           2728\n",
      "Euthanasia          557\n",
      "Died                 33\n",
      "Name: OutcomeType, dtype: int64\n",
      "====================================================================================================\n",
      "Values for y_cats_train: \n",
      "Transfer           3865\n",
      "Adoption           2985\n",
      "Euthanasia          489\n",
      "Return_to_owner     341\n",
      "Died                113\n",
      "Name: OutcomeType, dtype: int64\n",
      "====================================================================================================\n",
      "Values for y_dogs_test: \n",
      "Adoption           1941\n",
      "Return_to_owner    1244\n",
      "Transfer           1189\n",
      "Euthanasia          288\n",
      "Died                 17\n",
      "Name: OutcomeType, dtype: int64\n",
      "====================================================================================================\n",
      "Values for y_cats_test: \n",
      "Transfer           1640\n",
      "Adoption           1287\n",
      "Euthanasia          221\n",
      "Return_to_owner     159\n",
      "Died                 34\n",
      "Name: OutcomeType, dtype: int64\n"
     ]
    }
   ],
   "source": [
    "print(f'Values for y_dogs_train: \\n{y_dogs_train.value_counts()}')\n",
    "print('=='*50)\n",
    "print(f'Values for y_cats_train: \\n{y_cats_train.value_counts()}')\n",
    "print('=='*50)\n",
    "print(f'Values for y_dogs_test: \\n{y_dogs_test.value_counts()}')\n",
    "print('=='*50)\n",
    "print(f'Values for y_cats_test: \\n{y_cats_test.value_counts()}')"
   ]
  },
  {
   "cell_type": "code",
   "execution_count": 29,
   "id": "80da4952",
   "metadata": {},
   "outputs": [],
   "source": [
    "y_dogs_pred_baseline = pd.Series(['Adoption']*len(y_dogs_test))\n",
    "y_cats_pred_baseline = pd.Series(['Transfer']*len(y_cats_test))"
   ]
  },
  {
   "cell_type": "code",
   "execution_count": 30,
   "id": "fa50753c",
   "metadata": {},
   "outputs": [
    {
     "data": {
      "image/png": "[encoded data removed]",
      "text/plain": [
       "<Figure size 640x480 with 2 Axes>"
      ]
     },
     "metadata": {},
     "output_type": "display_data"
    }
   ],
   "source": [
    "cm_dogs = confusion_matrix(y_dogs_test, y_dogs_pred_baseline, labels = ['Adoption', 'Return_to_owner', 'Transfer', 'Euthanasia', 'Died'])\n",
    "disp_dogs = ConfusionMatrixDisplay(confusion_matrix=cm_dogs, display_labels=['Adoption', 'Return_to_owner', 'Transfer', 'Euthanasia', 'Died'])\n",
    "disp_dogs.plot()\n",
    "plt.show()"
   ]
  },
  {
   "cell_type": "code",
   "execution_count": 31,
   "id": "b190f151",
   "metadata": {},
   "outputs": [
    {
     "data": {
      "image/png": "[encoded data removed]",
      "text/plain": [
       "<Figure size 640x480 with 2 Axes>"
      ]
     },
     "metadata": {},
     "output_type": "display_data"
    }
   ],
   "source": [
    "cm_cats = confusion_matrix(y_cats_test, y_cats_pred_baseline, labels = ['Transfer', 'Adoption', 'Euthanasia', 'Return_to_owner', 'Died'])\n",
    "disp_cats = ConfusionMatrixDisplay(confusion_matrix=cm_cats, display_labels=['Transfer', 'Adoption', 'Euthanasia', 'Return_to_owner', 'Died'])\n",
    "disp_cats.plot()\n",
    "plt.show()"
   ]
  },
  {
   "cell_type": "code",
   "execution_count": 32,
   "id": "8aeec2a1",
   "metadata": {
    "scrolled": true
   },
   "outputs": [
    {
     "data": {
      "text/plain": [
       "0.4148322291087839"
      ]
     },
     "execution_count": 32,
     "metadata": {},
     "output_type": "execute_result"
    }
   ],
   "source": [
    "accuracy_score(y_dogs_test, y_dogs_pred_baseline)"
   ]
  },
  {
   "cell_type": "code",
   "execution_count": 33,
   "id": "7d721681",
   "metadata": {},
   "outputs": [
    {
     "data": {
      "text/plain": [
       "0.49087099670757256"
      ]
     },
     "execution_count": 33,
     "metadata": {},
     "output_type": "execute_result"
    }
   ],
   "source": [
    "accuracy_score(y_cats_test, y_cats_pred_baseline)"
   ]
  },
  {
   "cell_type": "markdown",
   "id": "a979bdbf",
   "metadata": {},
   "source": [
    "## 💪 Logistic Regression "
   ]
  },
  {
   "cell_type": "code",
   "execution_count": 34,
   "id": "2b4ad287",
   "metadata": {},
   "outputs": [],
   "source": [
    "logreg_dogs = LogisticRegression(max_iter = 10_000,\n",
    "                            penalty = \"l2\") \n",
    "logreg_cats = LogisticRegression(max_iter = 10_000,\n",
    "                                penalty = 'l2')"
   ]
  },
  {
   "cell_type": "code",
   "execution_count": 35,
   "id": "00517b28",
   "metadata": {},
   "outputs": [
    {
     "ename": "KeyboardInterrupt",
     "evalue": "",
     "output_type": "error",
     "traceback": [
      "\u001b[0;31m---------------------------------------------------------------------------\u001b[0m",
      "\u001b[0;31mKeyboardInterrupt\u001b[0m                         Traceback (most recent call last)",
      "Cell \u001b[0;32mIn [35], line 1\u001b[0m\n\u001b[0;32m----> 1\u001b[0m \u001b[43mlogreg_dogs\u001b[49m\u001b[38;5;241;43m.\u001b[39;49m\u001b[43mfit\u001b[49m\u001b[43m(\u001b[49m\u001b[43mX_dogs_train\u001b[49m\u001b[43m,\u001b[49m\u001b[43m \u001b[49m\u001b[43my_dogs_train\u001b[49m\u001b[43m)\u001b[49m\n\u001b[1;32m      2\u001b[0m logreg_cats\u001b[38;5;241m.\u001b[39mfit(X_cats_train, y_cats_train)\n",
      "File \u001b[0;32m~/.pyenv/versions/3.10.6/envs/lewagon/lib/python3.10/site-packages/sklearn/linear_model/_logistic.py:1291\u001b[0m, in \u001b[0;36mLogisticRegression.fit\u001b[0;34m(self, X, y, sample_weight)\u001b[0m\n\u001b[1;32m   1288\u001b[0m \u001b[38;5;28;01melse\u001b[39;00m:\n\u001b[1;32m   1289\u001b[0m     n_threads \u001b[38;5;241m=\u001b[39m \u001b[38;5;241m1\u001b[39m\n\u001b[0;32m-> 1291\u001b[0m fold_coefs_ \u001b[38;5;241m=\u001b[39m \u001b[43mParallel\u001b[49m\u001b[43m(\u001b[49m\u001b[43mn_jobs\u001b[49m\u001b[38;5;241;43m=\u001b[39;49m\u001b[38;5;28;43mself\u001b[39;49m\u001b[38;5;241;43m.\u001b[39;49m\u001b[43mn_jobs\u001b[49m\u001b[43m,\u001b[49m\u001b[43m \u001b[49m\u001b[43mverbose\u001b[49m\u001b[38;5;241;43m=\u001b[39;49m\u001b[38;5;28;43mself\u001b[39;49m\u001b[38;5;241;43m.\u001b[39;49m\u001b[43mverbose\u001b[49m\u001b[43m,\u001b[49m\u001b[43m \u001b[49m\u001b[43mprefer\u001b[49m\u001b[38;5;241;43m=\u001b[39;49m\u001b[43mprefer\u001b[49m\u001b[43m)\u001b[49m\u001b[43m(\u001b[49m\n\u001b[1;32m   1292\u001b[0m \u001b[43m    \u001b[49m\u001b[43mpath_func\u001b[49m\u001b[43m(\u001b[49m\n\u001b[1;32m   1293\u001b[0m \u001b[43m        \u001b[49m\u001b[43mX\u001b[49m\u001b[43m,\u001b[49m\n\u001b[1;32m   1294\u001b[0m \u001b[43m        \u001b[49m\u001b[43my\u001b[49m\u001b[43m,\u001b[49m\n\u001b[1;32m   1295\u001b[0m \u001b[43m        \u001b[49m\u001b[43mpos_class\u001b[49m\u001b[38;5;241;43m=\u001b[39;49m\u001b[43mclass_\u001b[49m\u001b[43m,\u001b[49m\n\u001b[1;32m   1296\u001b[0m \u001b[43m        \u001b[49m\u001b[43mCs\u001b[49m\u001b[38;5;241;43m=\u001b[39;49m\u001b[43m[\u001b[49m\u001b[43mC_\u001b[49m\u001b[43m]\u001b[49m\u001b[43m,\u001b[49m\n\u001b[1;32m   1297\u001b[0m \u001b[43m        \u001b[49m\u001b[43ml1_ratio\u001b[49m\u001b[38;5;241;43m=\u001b[39;49m\u001b[38;5;28;43mself\u001b[39;49m\u001b[38;5;241;43m.\u001b[39;49m\u001b[43ml1_ratio\u001b[49m\u001b[43m,\u001b[49m\n\u001b[1;32m   1298\u001b[0m \u001b[43m        \u001b[49m\u001b[43mfit_intercept\u001b[49m\u001b[38;5;241;43m=\u001b[39;49m\u001b[38;5;28;43mself\u001b[39;49m\u001b[38;5;241;43m.\u001b[39;49m\u001b[43mfit_intercept\u001b[49m\u001b[43m,\u001b[49m\n\u001b[1;32m   1299\u001b[0m \u001b[43m        \u001b[49m\u001b[43mtol\u001b[49m\u001b[38;5;241;43m=\u001b[39;49m\u001b[38;5;28;43mself\u001b[39;49m\u001b[38;5;241;43m.\u001b[39;49m\u001b[43mtol\u001b[49m\u001b[43m,\u001b[49m\n\u001b[1;32m   1300\u001b[0m \u001b[43m        \u001b[49m\u001b[43mverbose\u001b[49m\u001b[38;5;241;43m=\u001b[39;49m\u001b[38;5;28;43mself\u001b[39;49m\u001b[38;5;241;43m.\u001b[39;49m\u001b[43mverbose\u001b[49m\u001b[43m,\u001b[49m\n\u001b[1;32m   1301\u001b[0m \u001b[43m        \u001b[49m\u001b[43msolver\u001b[49m\u001b[38;5;241;43m=\u001b[39;49m\u001b[43msolver\u001b[49m\u001b[43m,\u001b[49m\n\u001b[1;32m   1302\u001b[0m \u001b[43m        \u001b[49m\u001b[43mmulti_class\u001b[49m\u001b[38;5;241;43m=\u001b[39;49m\u001b[43mmulti_class\u001b[49m\u001b[43m,\u001b[49m\n\u001b[1;32m   1303\u001b[0m \u001b[43m        \u001b[49m\u001b[43mmax_iter\u001b[49m\u001b[38;5;241;43m=\u001b[39;49m\u001b[38;5;28;43mself\u001b[39;49m\u001b[38;5;241;43m.\u001b[39;49m\u001b[43mmax_iter\u001b[49m\u001b[43m,\u001b[49m\n\u001b[1;32m   1304\u001b[0m \u001b[43m        \u001b[49m\u001b[43mclass_weight\u001b[49m\u001b[38;5;241;43m=\u001b[39;49m\u001b[38;5;28;43mself\u001b[39;49m\u001b[38;5;241;43m.\u001b[39;49m\u001b[43mclass_weight\u001b[49m\u001b[43m,\u001b[49m\n\u001b[1;32m   1305\u001b[0m \u001b[43m        \u001b[49m\u001b[43mcheck_input\u001b[49m\u001b[38;5;241;43m=\u001b[39;49m\u001b[38;5;28;43;01mFalse\u001b[39;49;00m\u001b[43m,\u001b[49m\n\u001b[1;32m   1306\u001b[0m \u001b[43m        \u001b[49m\u001b[43mrandom_state\u001b[49m\u001b[38;5;241;43m=\u001b[39;49m\u001b[38;5;28;43mself\u001b[39;49m\u001b[38;5;241;43m.\u001b[39;49m\u001b[43mrandom_state\u001b[49m\u001b[43m,\u001b[49m\n\u001b[1;32m   1307\u001b[0m \u001b[43m        \u001b[49m\u001b[43mcoef\u001b[49m\u001b[38;5;241;43m=\u001b[39;49m\u001b[43mwarm_start_coef_\u001b[49m\u001b[43m,\u001b[49m\n\u001b[1;32m   1308\u001b[0m \u001b[43m        \u001b[49m\u001b[43mpenalty\u001b[49m\u001b[38;5;241;43m=\u001b[39;49m\u001b[43mpenalty\u001b[49m\u001b[43m,\u001b[49m\n\u001b[1;32m   1309\u001b[0m \u001b[43m        \u001b[49m\u001b[43mmax_squared_sum\u001b[49m\u001b[38;5;241;43m=\u001b[39;49m\u001b[43mmax_squared_sum\u001b[49m\u001b[43m,\u001b[49m\n\u001b[1;32m   1310\u001b[0m \u001b[43m        \u001b[49m\u001b[43msample_weight\u001b[49m\u001b[38;5;241;43m=\u001b[39;49m\u001b[43msample_weight\u001b[49m\u001b[43m,\u001b[49m\n\u001b[1;32m   1311\u001b[0m \u001b[43m        \u001b[49m\u001b[43mn_threads\u001b[49m\u001b[38;5;241;43m=\u001b[39;49m\u001b[43mn_threads\u001b[49m\u001b[43m,\u001b[49m\n\u001b[1;32m   1312\u001b[0m \u001b[43m    \u001b[49m\u001b[43m)\u001b[49m\n\u001b[1;32m   1313\u001b[0m \u001b[43m    \u001b[49m\u001b[38;5;28;43;01mfor\u001b[39;49;00m\u001b[43m \u001b[49m\u001b[43mclass_\u001b[49m\u001b[43m,\u001b[49m\u001b[43m \u001b[49m\u001b[43mwarm_start_coef_\u001b[49m\u001b[43m \u001b[49m\u001b[38;5;129;43;01min\u001b[39;49;00m\u001b[43m \u001b[49m\u001b[38;5;28;43mzip\u001b[39;49m\u001b[43m(\u001b[49m\u001b[43mclasses_\u001b[49m\u001b[43m,\u001b[49m\u001b[43m \u001b[49m\u001b[43mwarm_start_coef\u001b[49m\u001b[43m)\u001b[49m\n\u001b[1;32m   1314\u001b[0m \u001b[43m\u001b[49m\u001b[43m)\u001b[49m\n\u001b[1;32m   1316\u001b[0m fold_coefs_, _, n_iter_ \u001b[38;5;241m=\u001b[39m \u001b[38;5;28mzip\u001b[39m(\u001b[38;5;241m*\u001b[39mfold_coefs_)\n\u001b[1;32m   1317\u001b[0m \u001b[38;5;28mself\u001b[39m\u001b[38;5;241m.\u001b[39mn_iter_ \u001b[38;5;241m=\u001b[39m np\u001b[38;5;241m.\u001b[39masarray(n_iter_, dtype\u001b[38;5;241m=\u001b[39mnp\u001b[38;5;241m.\u001b[39mint32)[:, \u001b[38;5;241m0\u001b[39m]\n",
      "File \u001b[0;32m~/.pyenv/versions/3.10.6/envs/lewagon/lib/python3.10/site-packages/sklearn/utils/parallel.py:63\u001b[0m, in \u001b[0;36mParallel.__call__\u001b[0;34m(self, iterable)\u001b[0m\n\u001b[1;32m     58\u001b[0m config \u001b[38;5;241m=\u001b[39m get_config()\n\u001b[1;32m     59\u001b[0m iterable_with_config \u001b[38;5;241m=\u001b[39m (\n\u001b[1;32m     60\u001b[0m     (_with_config(delayed_func, config), args, kwargs)\n\u001b[1;32m     61\u001b[0m     \u001b[38;5;28;01mfor\u001b[39;00m delayed_func, args, kwargs \u001b[38;5;129;01min\u001b[39;00m iterable\n\u001b[1;32m     62\u001b[0m )\n\u001b[0;32m---> 63\u001b[0m \u001b[38;5;28;01mreturn\u001b[39;00m \u001b[38;5;28;43msuper\u001b[39;49m\u001b[43m(\u001b[49m\u001b[43m)\u001b[49m\u001b[38;5;241;43m.\u001b[39;49m\u001b[38;5;21;43m__call__\u001b[39;49m\u001b[43m(\u001b[49m\u001b[43miterable_with_config\u001b[49m\u001b[43m)\u001b[49m\n",
      "File \u001b[0;32m~/.pyenv/versions/3.10.6/envs/lewagon/lib/python3.10/site-packages/joblib/parallel.py:1048\u001b[0m, in \u001b[0;36mParallel.__call__\u001b[0;34m(self, iterable)\u001b[0m\n\u001b[1;32m   1039\u001b[0m \u001b[38;5;28;01mtry\u001b[39;00m:\n\u001b[1;32m   1040\u001b[0m     \u001b[38;5;66;03m# Only set self._iterating to True if at least a batch\u001b[39;00m\n\u001b[1;32m   1041\u001b[0m     \u001b[38;5;66;03m# was dispatched. In particular this covers the edge\u001b[39;00m\n\u001b[0;32m   (...)\u001b[0m\n\u001b[1;32m   1045\u001b[0m     \u001b[38;5;66;03m# was very quick and its callback already dispatched all the\u001b[39;00m\n\u001b[1;32m   1046\u001b[0m     \u001b[38;5;66;03m# remaining jobs.\u001b[39;00m\n\u001b[1;32m   1047\u001b[0m     \u001b[38;5;28mself\u001b[39m\u001b[38;5;241m.\u001b[39m_iterating \u001b[38;5;241m=\u001b[39m \u001b[38;5;28;01mFalse\u001b[39;00m\n\u001b[0;32m-> 1048\u001b[0m     \u001b[38;5;28;01mif\u001b[39;00m \u001b[38;5;28;43mself\u001b[39;49m\u001b[38;5;241;43m.\u001b[39;49m\u001b[43mdispatch_one_batch\u001b[49m\u001b[43m(\u001b[49m\u001b[43miterator\u001b[49m\u001b[43m)\u001b[49m:\n\u001b[1;32m   1049\u001b[0m         \u001b[38;5;28mself\u001b[39m\u001b[38;5;241m.\u001b[39m_iterating \u001b[38;5;241m=\u001b[39m \u001b[38;5;28mself\u001b[39m\u001b[38;5;241m.\u001b[39m_original_iterator \u001b[38;5;129;01mis\u001b[39;00m \u001b[38;5;129;01mnot\u001b[39;00m \u001b[38;5;28;01mNone\u001b[39;00m\n\u001b[1;32m   1051\u001b[0m     \u001b[38;5;28;01mwhile\u001b[39;00m \u001b[38;5;28mself\u001b[39m\u001b[38;5;241m.\u001b[39mdispatch_one_batch(iterator):\n",
      "File \u001b[0;32m~/.pyenv/versions/3.10.6/envs/lewagon/lib/python3.10/site-packages/joblib/parallel.py:864\u001b[0m, in \u001b[0;36mParallel.dispatch_one_batch\u001b[0;34m(self, iterator)\u001b[0m\n\u001b[1;32m    862\u001b[0m     \u001b[38;5;28;01mreturn\u001b[39;00m \u001b[38;5;28;01mFalse\u001b[39;00m\n\u001b[1;32m    863\u001b[0m \u001b[38;5;28;01melse\u001b[39;00m:\n\u001b[0;32m--> 864\u001b[0m     \u001b[38;5;28;43mself\u001b[39;49m\u001b[38;5;241;43m.\u001b[39;49m\u001b[43m_dispatch\u001b[49m\u001b[43m(\u001b[49m\u001b[43mtasks\u001b[49m\u001b[43m)\u001b[49m\n\u001b[1;32m    865\u001b[0m     \u001b[38;5;28;01mreturn\u001b[39;00m \u001b[38;5;28;01mTrue\u001b[39;00m\n",
      "File \u001b[0;32m~/.pyenv/versions/3.10.6/envs/lewagon/lib/python3.10/site-packages/joblib/parallel.py:782\u001b[0m, in \u001b[0;36mParallel._dispatch\u001b[0;34m(self, batch)\u001b[0m\n\u001b[1;32m    780\u001b[0m \u001b[38;5;28;01mwith\u001b[39;00m \u001b[38;5;28mself\u001b[39m\u001b[38;5;241m.\u001b[39m_lock:\n\u001b[1;32m    781\u001b[0m     job_idx \u001b[38;5;241m=\u001b[39m \u001b[38;5;28mlen\u001b[39m(\u001b[38;5;28mself\u001b[39m\u001b[38;5;241m.\u001b[39m_jobs)\n\u001b[0;32m--> 782\u001b[0m     job \u001b[38;5;241m=\u001b[39m \u001b[38;5;28;43mself\u001b[39;49m\u001b[38;5;241;43m.\u001b[39;49m\u001b[43m_backend\u001b[49m\u001b[38;5;241;43m.\u001b[39;49m\u001b[43mapply_async\u001b[49m\u001b[43m(\u001b[49m\u001b[43mbatch\u001b[49m\u001b[43m,\u001b[49m\u001b[43m \u001b[49m\u001b[43mcallback\u001b[49m\u001b[38;5;241;43m=\u001b[39;49m\u001b[43mcb\u001b[49m\u001b[43m)\u001b[49m\n\u001b[1;32m    783\u001b[0m     \u001b[38;5;66;03m# A job can complete so quickly than its callback is\u001b[39;00m\n\u001b[1;32m    784\u001b[0m     \u001b[38;5;66;03m# called before we get here, causing self._jobs to\u001b[39;00m\n\u001b[1;32m    785\u001b[0m     \u001b[38;5;66;03m# grow. To ensure correct results ordering, .insert is\u001b[39;00m\n\u001b[1;32m    786\u001b[0m     \u001b[38;5;66;03m# used (rather than .append) in the following line\u001b[39;00m\n\u001b[1;32m    787\u001b[0m     \u001b[38;5;28mself\u001b[39m\u001b[38;5;241m.\u001b[39m_jobs\u001b[38;5;241m.\u001b[39minsert(job_idx, job)\n",
      "File \u001b[0;32m~/.pyenv/versions/3.10.6/envs/lewagon/lib/python3.10/site-packages/joblib/_parallel_backends.py:208\u001b[0m, in \u001b[0;36mSequentialBackend.apply_async\u001b[0;34m(self, func, callback)\u001b[0m\n\u001b[1;32m    206\u001b[0m \u001b[38;5;28;01mdef\u001b[39;00m \u001b[38;5;21mapply_async\u001b[39m(\u001b[38;5;28mself\u001b[39m, func, callback\u001b[38;5;241m=\u001b[39m\u001b[38;5;28;01mNone\u001b[39;00m):\n\u001b[1;32m    207\u001b[0m     \u001b[38;5;124;03m\"\"\"Schedule a func to be run\"\"\"\u001b[39;00m\n\u001b[0;32m--> 208\u001b[0m     result \u001b[38;5;241m=\u001b[39m \u001b[43mImmediateResult\u001b[49m\u001b[43m(\u001b[49m\u001b[43mfunc\u001b[49m\u001b[43m)\u001b[49m\n\u001b[1;32m    209\u001b[0m     \u001b[38;5;28;01mif\u001b[39;00m callback:\n\u001b[1;32m    210\u001b[0m         callback(result)\n",
      "File \u001b[0;32m~/.pyenv/versions/3.10.6/envs/lewagon/lib/python3.10/site-packages/joblib/_parallel_backends.py:572\u001b[0m, in \u001b[0;36mImmediateResult.__init__\u001b[0;34m(self, batch)\u001b[0m\n\u001b[1;32m    569\u001b[0m \u001b[38;5;28;01mdef\u001b[39;00m \u001b[38;5;21m__init__\u001b[39m(\u001b[38;5;28mself\u001b[39m, batch):\n\u001b[1;32m    570\u001b[0m     \u001b[38;5;66;03m# Don't delay the application, to avoid keeping the input\u001b[39;00m\n\u001b[1;32m    571\u001b[0m     \u001b[38;5;66;03m# arguments in memory\u001b[39;00m\n\u001b[0;32m--> 572\u001b[0m     \u001b[38;5;28mself\u001b[39m\u001b[38;5;241m.\u001b[39mresults \u001b[38;5;241m=\u001b[39m \u001b[43mbatch\u001b[49m\u001b[43m(\u001b[49m\u001b[43m)\u001b[49m\n",
      "File \u001b[0;32m~/.pyenv/versions/3.10.6/envs/lewagon/lib/python3.10/site-packages/joblib/parallel.py:263\u001b[0m, in \u001b[0;36mBatchedCalls.__call__\u001b[0;34m(self)\u001b[0m\n\u001b[1;32m    259\u001b[0m \u001b[38;5;28;01mdef\u001b[39;00m \u001b[38;5;21m__call__\u001b[39m(\u001b[38;5;28mself\u001b[39m):\n\u001b[1;32m    260\u001b[0m     \u001b[38;5;66;03m# Set the default nested backend to self._backend but do not set the\u001b[39;00m\n\u001b[1;32m    261\u001b[0m     \u001b[38;5;66;03m# change the default number of processes to -1\u001b[39;00m\n\u001b[1;32m    262\u001b[0m     \u001b[38;5;28;01mwith\u001b[39;00m parallel_backend(\u001b[38;5;28mself\u001b[39m\u001b[38;5;241m.\u001b[39m_backend, n_jobs\u001b[38;5;241m=\u001b[39m\u001b[38;5;28mself\u001b[39m\u001b[38;5;241m.\u001b[39m_n_jobs):\n\u001b[0;32m--> 263\u001b[0m         \u001b[38;5;28;01mreturn\u001b[39;00m [func(\u001b[38;5;241m*\u001b[39margs, \u001b[38;5;241m*\u001b[39m\u001b[38;5;241m*\u001b[39mkwargs)\n\u001b[1;32m    264\u001b[0m                 \u001b[38;5;28;01mfor\u001b[39;00m func, args, kwargs \u001b[38;5;129;01min\u001b[39;00m \u001b[38;5;28mself\u001b[39m\u001b[38;5;241m.\u001b[39mitems]\n",
      "File \u001b[0;32m~/.pyenv/versions/3.10.6/envs/lewagon/lib/python3.10/site-packages/joblib/parallel.py:263\u001b[0m, in \u001b[0;36m<listcomp>\u001b[0;34m(.0)\u001b[0m\n\u001b[1;32m    259\u001b[0m \u001b[38;5;28;01mdef\u001b[39;00m \u001b[38;5;21m__call__\u001b[39m(\u001b[38;5;28mself\u001b[39m):\n\u001b[1;32m    260\u001b[0m     \u001b[38;5;66;03m# Set the default nested backend to self._backend but do not set the\u001b[39;00m\n\u001b[1;32m    261\u001b[0m     \u001b[38;5;66;03m# change the default number of processes to -1\u001b[39;00m\n\u001b[1;32m    262\u001b[0m     \u001b[38;5;28;01mwith\u001b[39;00m parallel_backend(\u001b[38;5;28mself\u001b[39m\u001b[38;5;241m.\u001b[39m_backend, n_jobs\u001b[38;5;241m=\u001b[39m\u001b[38;5;28mself\u001b[39m\u001b[38;5;241m.\u001b[39m_n_jobs):\n\u001b[0;32m--> 263\u001b[0m         \u001b[38;5;28;01mreturn\u001b[39;00m [\u001b[43mfunc\u001b[49m\u001b[43m(\u001b[49m\u001b[38;5;241;43m*\u001b[39;49m\u001b[43margs\u001b[49m\u001b[43m,\u001b[49m\u001b[43m \u001b[49m\u001b[38;5;241;43m*\u001b[39;49m\u001b[38;5;241;43m*\u001b[39;49m\u001b[43mkwargs\u001b[49m\u001b[43m)\u001b[49m\n\u001b[1;32m    264\u001b[0m                 \u001b[38;5;28;01mfor\u001b[39;00m func, args, kwargs \u001b[38;5;129;01min\u001b[39;00m \u001b[38;5;28mself\u001b[39m\u001b[38;5;241m.\u001b[39mitems]\n",
      "File \u001b[0;32m~/.pyenv/versions/3.10.6/envs/lewagon/lib/python3.10/site-packages/sklearn/utils/parallel.py:123\u001b[0m, in \u001b[0;36m_FuncWrapper.__call__\u001b[0;34m(self, *args, **kwargs)\u001b[0m\n\u001b[1;32m    121\u001b[0m     config \u001b[38;5;241m=\u001b[39m {}\n\u001b[1;32m    122\u001b[0m \u001b[38;5;28;01mwith\u001b[39;00m config_context(\u001b[38;5;241m*\u001b[39m\u001b[38;5;241m*\u001b[39mconfig):\n\u001b[0;32m--> 123\u001b[0m     \u001b[38;5;28;01mreturn\u001b[39;00m \u001b[38;5;28;43mself\u001b[39;49m\u001b[38;5;241;43m.\u001b[39;49m\u001b[43mfunction\u001b[49m\u001b[43m(\u001b[49m\u001b[38;5;241;43m*\u001b[39;49m\u001b[43margs\u001b[49m\u001b[43m,\u001b[49m\u001b[43m \u001b[49m\u001b[38;5;241;43m*\u001b[39;49m\u001b[38;5;241;43m*\u001b[39;49m\u001b[43mkwargs\u001b[49m\u001b[43m)\u001b[49m\n",
      "File \u001b[0;32m~/.pyenv/versions/3.10.6/envs/lewagon/lib/python3.10/site-packages/sklearn/linear_model/_logistic.py:450\u001b[0m, in \u001b[0;36m_logistic_regression_path\u001b[0;34m(X, y, pos_class, Cs, fit_intercept, max_iter, tol, verbose, solver, coef, class_weight, dual, penalty, intercept_scaling, multi_class, random_state, check_input, max_squared_sum, sample_weight, l1_ratio, n_threads)\u001b[0m\n\u001b[1;32m    446\u001b[0m l2_reg_strength \u001b[38;5;241m=\u001b[39m \u001b[38;5;241m1.0\u001b[39m \u001b[38;5;241m/\u001b[39m C\n\u001b[1;32m    447\u001b[0m iprint \u001b[38;5;241m=\u001b[39m [\u001b[38;5;241m-\u001b[39m\u001b[38;5;241m1\u001b[39m, \u001b[38;5;241m50\u001b[39m, \u001b[38;5;241m1\u001b[39m, \u001b[38;5;241m100\u001b[39m, \u001b[38;5;241m101\u001b[39m][\n\u001b[1;32m    448\u001b[0m     np\u001b[38;5;241m.\u001b[39msearchsorted(np\u001b[38;5;241m.\u001b[39marray([\u001b[38;5;241m0\u001b[39m, \u001b[38;5;241m1\u001b[39m, \u001b[38;5;241m2\u001b[39m, \u001b[38;5;241m3\u001b[39m]), verbose)\n\u001b[1;32m    449\u001b[0m ]\n\u001b[0;32m--> 450\u001b[0m opt_res \u001b[38;5;241m=\u001b[39m \u001b[43moptimize\u001b[49m\u001b[38;5;241;43m.\u001b[39;49m\u001b[43mminimize\u001b[49m\u001b[43m(\u001b[49m\n\u001b[1;32m    451\u001b[0m \u001b[43m    \u001b[49m\u001b[43mfunc\u001b[49m\u001b[43m,\u001b[49m\n\u001b[1;32m    452\u001b[0m \u001b[43m    \u001b[49m\u001b[43mw0\u001b[49m\u001b[43m,\u001b[49m\n\u001b[1;32m    453\u001b[0m \u001b[43m    \u001b[49m\u001b[43mmethod\u001b[49m\u001b[38;5;241;43m=\u001b[39;49m\u001b[38;5;124;43m\"\u001b[39;49m\u001b[38;5;124;43mL-BFGS-B\u001b[39;49m\u001b[38;5;124;43m\"\u001b[39;49m\u001b[43m,\u001b[49m\n\u001b[1;32m    454\u001b[0m \u001b[43m    \u001b[49m\u001b[43mjac\u001b[49m\u001b[38;5;241;43m=\u001b[39;49m\u001b[38;5;28;43;01mTrue\u001b[39;49;00m\u001b[43m,\u001b[49m\n\u001b[1;32m    455\u001b[0m \u001b[43m    \u001b[49m\u001b[43margs\u001b[49m\u001b[38;5;241;43m=\u001b[39;49m\u001b[43m(\u001b[49m\u001b[43mX\u001b[49m\u001b[43m,\u001b[49m\u001b[43m \u001b[49m\u001b[43mtarget\u001b[49m\u001b[43m,\u001b[49m\u001b[43m \u001b[49m\u001b[43msample_weight\u001b[49m\u001b[43m,\u001b[49m\u001b[43m \u001b[49m\u001b[43ml2_reg_strength\u001b[49m\u001b[43m,\u001b[49m\u001b[43m \u001b[49m\u001b[43mn_threads\u001b[49m\u001b[43m)\u001b[49m\u001b[43m,\u001b[49m\n\u001b[1;32m    456\u001b[0m \u001b[43m    \u001b[49m\u001b[43moptions\u001b[49m\u001b[38;5;241;43m=\u001b[39;49m\u001b[43m{\u001b[49m\u001b[38;5;124;43m\"\u001b[39;49m\u001b[38;5;124;43miprint\u001b[39;49m\u001b[38;5;124;43m\"\u001b[39;49m\u001b[43m:\u001b[49m\u001b[43m \u001b[49m\u001b[43miprint\u001b[49m\u001b[43m,\u001b[49m\u001b[43m \u001b[49m\u001b[38;5;124;43m\"\u001b[39;49m\u001b[38;5;124;43mgtol\u001b[39;49m\u001b[38;5;124;43m\"\u001b[39;49m\u001b[43m:\u001b[49m\u001b[43m \u001b[49m\u001b[43mtol\u001b[49m\u001b[43m,\u001b[49m\u001b[43m \u001b[49m\u001b[38;5;124;43m\"\u001b[39;49m\u001b[38;5;124;43mmaxiter\u001b[39;49m\u001b[38;5;124;43m\"\u001b[39;49m\u001b[43m:\u001b[49m\u001b[43m \u001b[49m\u001b[43mmax_iter\u001b[49m\u001b[43m}\u001b[49m\u001b[43m,\u001b[49m\n\u001b[1;32m    457\u001b[0m \u001b[43m\u001b[49m\u001b[43m)\u001b[49m\n\u001b[1;32m    458\u001b[0m n_iter_i \u001b[38;5;241m=\u001b[39m _check_optimize_result(\n\u001b[1;32m    459\u001b[0m     solver,\n\u001b[1;32m    460\u001b[0m     opt_res,\n\u001b[1;32m    461\u001b[0m     max_iter,\n\u001b[1;32m    462\u001b[0m     extra_warning_msg\u001b[38;5;241m=\u001b[39m_LOGISTIC_SOLVER_CONVERGENCE_MSG,\n\u001b[1;32m    463\u001b[0m )\n\u001b[1;32m    464\u001b[0m w0, loss \u001b[38;5;241m=\u001b[39m opt_res\u001b[38;5;241m.\u001b[39mx, opt_res\u001b[38;5;241m.\u001b[39mfun\n",
      "File \u001b[0;32m~/.pyenv/versions/3.10.6/envs/lewagon/lib/python3.10/site-packages/scipy/optimize/_minimize.py:692\u001b[0m, in \u001b[0;36mminimize\u001b[0;34m(fun, x0, args, method, jac, hess, hessp, bounds, constraints, tol, callback, options)\u001b[0m\n\u001b[1;32m    689\u001b[0m     res \u001b[38;5;241m=\u001b[39m _minimize_newtoncg(fun, x0, args, jac, hess, hessp, callback,\n\u001b[1;32m    690\u001b[0m                              \u001b[38;5;241m*\u001b[39m\u001b[38;5;241m*\u001b[39moptions)\n\u001b[1;32m    691\u001b[0m \u001b[38;5;28;01melif\u001b[39;00m meth \u001b[38;5;241m==\u001b[39m \u001b[38;5;124m'\u001b[39m\u001b[38;5;124ml-bfgs-b\u001b[39m\u001b[38;5;124m'\u001b[39m:\n\u001b[0;32m--> 692\u001b[0m     res \u001b[38;5;241m=\u001b[39m \u001b[43m_minimize_lbfgsb\u001b[49m\u001b[43m(\u001b[49m\u001b[43mfun\u001b[49m\u001b[43m,\u001b[49m\u001b[43m \u001b[49m\u001b[43mx0\u001b[49m\u001b[43m,\u001b[49m\u001b[43m \u001b[49m\u001b[43margs\u001b[49m\u001b[43m,\u001b[49m\u001b[43m \u001b[49m\u001b[43mjac\u001b[49m\u001b[43m,\u001b[49m\u001b[43m \u001b[49m\u001b[43mbounds\u001b[49m\u001b[43m,\u001b[49m\n\u001b[1;32m    693\u001b[0m \u001b[43m                           \u001b[49m\u001b[43mcallback\u001b[49m\u001b[38;5;241;43m=\u001b[39;49m\u001b[43mcallback\u001b[49m\u001b[43m,\u001b[49m\u001b[43m \u001b[49m\u001b[38;5;241;43m*\u001b[39;49m\u001b[38;5;241;43m*\u001b[39;49m\u001b[43moptions\u001b[49m\u001b[43m)\u001b[49m\n\u001b[1;32m    694\u001b[0m \u001b[38;5;28;01melif\u001b[39;00m meth \u001b[38;5;241m==\u001b[39m \u001b[38;5;124m'\u001b[39m\u001b[38;5;124mtnc\u001b[39m\u001b[38;5;124m'\u001b[39m:\n\u001b[1;32m    695\u001b[0m     res \u001b[38;5;241m=\u001b[39m _minimize_tnc(fun, x0, args, jac, bounds, callback\u001b[38;5;241m=\u001b[39mcallback,\n\u001b[1;32m    696\u001b[0m                         \u001b[38;5;241m*\u001b[39m\u001b[38;5;241m*\u001b[39moptions)\n",
      "File \u001b[0;32m~/.pyenv/versions/3.10.6/envs/lewagon/lib/python3.10/site-packages/scipy/optimize/_lbfgsb_py.py:362\u001b[0m, in \u001b[0;36m_minimize_lbfgsb\u001b[0;34m(fun, x0, args, jac, bounds, disp, maxcor, ftol, gtol, eps, maxfun, maxiter, iprint, callback, maxls, finite_diff_rel_step, **unknown_options)\u001b[0m\n\u001b[1;32m    356\u001b[0m task_str \u001b[38;5;241m=\u001b[39m task\u001b[38;5;241m.\u001b[39mtobytes()\n\u001b[1;32m    357\u001b[0m \u001b[38;5;28;01mif\u001b[39;00m task_str\u001b[38;5;241m.\u001b[39mstartswith(\u001b[38;5;124mb\u001b[39m\u001b[38;5;124m'\u001b[39m\u001b[38;5;124mFG\u001b[39m\u001b[38;5;124m'\u001b[39m):\n\u001b[1;32m    358\u001b[0m     \u001b[38;5;66;03m# The minimization routine wants f and g at the current x.\u001b[39;00m\n\u001b[1;32m    359\u001b[0m     \u001b[38;5;66;03m# Note that interruptions due to maxfun are postponed\u001b[39;00m\n\u001b[1;32m    360\u001b[0m     \u001b[38;5;66;03m# until the completion of the current minimization iteration.\u001b[39;00m\n\u001b[1;32m    361\u001b[0m     \u001b[38;5;66;03m# Overwrite f and g:\u001b[39;00m\n\u001b[0;32m--> 362\u001b[0m     f, g \u001b[38;5;241m=\u001b[39m \u001b[43mfunc_and_grad\u001b[49m\u001b[43m(\u001b[49m\u001b[43mx\u001b[49m\u001b[43m)\u001b[49m\n\u001b[1;32m    363\u001b[0m \u001b[38;5;28;01melif\u001b[39;00m task_str\u001b[38;5;241m.\u001b[39mstartswith(\u001b[38;5;124mb\u001b[39m\u001b[38;5;124m'\u001b[39m\u001b[38;5;124mNEW_X\u001b[39m\u001b[38;5;124m'\u001b[39m):\n\u001b[1;32m    364\u001b[0m     \u001b[38;5;66;03m# new iteration\u001b[39;00m\n\u001b[1;32m    365\u001b[0m     n_iterations \u001b[38;5;241m+\u001b[39m\u001b[38;5;241m=\u001b[39m \u001b[38;5;241m1\u001b[39m\n",
      "File \u001b[0;32m~/.pyenv/versions/3.10.6/envs/lewagon/lib/python3.10/site-packages/scipy/optimize/_differentiable_functions.py:285\u001b[0m, in \u001b[0;36mScalarFunction.fun_and_grad\u001b[0;34m(self, x)\u001b[0m\n\u001b[1;32m    283\u001b[0m \u001b[38;5;28;01mif\u001b[39;00m \u001b[38;5;129;01mnot\u001b[39;00m np\u001b[38;5;241m.\u001b[39marray_equal(x, \u001b[38;5;28mself\u001b[39m\u001b[38;5;241m.\u001b[39mx):\n\u001b[1;32m    284\u001b[0m     \u001b[38;5;28mself\u001b[39m\u001b[38;5;241m.\u001b[39m_update_x_impl(x)\n\u001b[0;32m--> 285\u001b[0m \u001b[38;5;28;43mself\u001b[39;49m\u001b[38;5;241;43m.\u001b[39;49m\u001b[43m_update_fun\u001b[49m\u001b[43m(\u001b[49m\u001b[43m)\u001b[49m\n\u001b[1;32m    286\u001b[0m \u001b[38;5;28mself\u001b[39m\u001b[38;5;241m.\u001b[39m_update_grad()\n\u001b[1;32m    287\u001b[0m \u001b[38;5;28;01mreturn\u001b[39;00m \u001b[38;5;28mself\u001b[39m\u001b[38;5;241m.\u001b[39mf, \u001b[38;5;28mself\u001b[39m\u001b[38;5;241m.\u001b[39mg\n",
      "File \u001b[0;32m~/.pyenv/versions/3.10.6/envs/lewagon/lib/python3.10/site-packages/scipy/optimize/_differentiable_functions.py:251\u001b[0m, in \u001b[0;36mScalarFunction._update_fun\u001b[0;34m(self)\u001b[0m\n\u001b[1;32m    249\u001b[0m \u001b[38;5;28;01mdef\u001b[39;00m \u001b[38;5;21m_update_fun\u001b[39m(\u001b[38;5;28mself\u001b[39m):\n\u001b[1;32m    250\u001b[0m     \u001b[38;5;28;01mif\u001b[39;00m \u001b[38;5;129;01mnot\u001b[39;00m \u001b[38;5;28mself\u001b[39m\u001b[38;5;241m.\u001b[39mf_updated:\n\u001b[0;32m--> 251\u001b[0m         \u001b[38;5;28;43mself\u001b[39;49m\u001b[38;5;241;43m.\u001b[39;49m\u001b[43m_update_fun_impl\u001b[49m\u001b[43m(\u001b[49m\u001b[43m)\u001b[49m\n\u001b[1;32m    252\u001b[0m         \u001b[38;5;28mself\u001b[39m\u001b[38;5;241m.\u001b[39mf_updated \u001b[38;5;241m=\u001b[39m \u001b[38;5;28;01mTrue\u001b[39;00m\n",
      "File \u001b[0;32m~/.pyenv/versions/3.10.6/envs/lewagon/lib/python3.10/site-packages/scipy/optimize/_differentiable_functions.py:155\u001b[0m, in \u001b[0;36mScalarFunction.__init__.<locals>.update_fun\u001b[0;34m()\u001b[0m\n\u001b[1;32m    154\u001b[0m \u001b[38;5;28;01mdef\u001b[39;00m \u001b[38;5;21mupdate_fun\u001b[39m():\n\u001b[0;32m--> 155\u001b[0m     \u001b[38;5;28mself\u001b[39m\u001b[38;5;241m.\u001b[39mf \u001b[38;5;241m=\u001b[39m \u001b[43mfun_wrapped\u001b[49m\u001b[43m(\u001b[49m\u001b[38;5;28;43mself\u001b[39;49m\u001b[38;5;241;43m.\u001b[39;49m\u001b[43mx\u001b[49m\u001b[43m)\u001b[49m\n",
      "File \u001b[0;32m~/.pyenv/versions/3.10.6/envs/lewagon/lib/python3.10/site-packages/scipy/optimize/_differentiable_functions.py:137\u001b[0m, in \u001b[0;36mScalarFunction.__init__.<locals>.fun_wrapped\u001b[0;34m(x)\u001b[0m\n\u001b[1;32m    133\u001b[0m \u001b[38;5;28mself\u001b[39m\u001b[38;5;241m.\u001b[39mnfev \u001b[38;5;241m+\u001b[39m\u001b[38;5;241m=\u001b[39m \u001b[38;5;241m1\u001b[39m\n\u001b[1;32m    134\u001b[0m \u001b[38;5;66;03m# Send a copy because the user may overwrite it.\u001b[39;00m\n\u001b[1;32m    135\u001b[0m \u001b[38;5;66;03m# Overwriting results in undefined behaviour because\u001b[39;00m\n\u001b[1;32m    136\u001b[0m \u001b[38;5;66;03m# fun(self.x) will change self.x, with the two no longer linked.\u001b[39;00m\n\u001b[0;32m--> 137\u001b[0m fx \u001b[38;5;241m=\u001b[39m \u001b[43mfun\u001b[49m\u001b[43m(\u001b[49m\u001b[43mnp\u001b[49m\u001b[38;5;241;43m.\u001b[39;49m\u001b[43mcopy\u001b[49m\u001b[43m(\u001b[49m\u001b[43mx\u001b[49m\u001b[43m)\u001b[49m\u001b[43m,\u001b[49m\u001b[43m \u001b[49m\u001b[38;5;241;43m*\u001b[39;49m\u001b[43margs\u001b[49m\u001b[43m)\u001b[49m\n\u001b[1;32m    138\u001b[0m \u001b[38;5;66;03m# Make sure the function returns a true scalar\u001b[39;00m\n\u001b[1;32m    139\u001b[0m \u001b[38;5;28;01mif\u001b[39;00m \u001b[38;5;129;01mnot\u001b[39;00m np\u001b[38;5;241m.\u001b[39misscalar(fx):\n",
      "File \u001b[0;32m~/.pyenv/versions/3.10.6/envs/lewagon/lib/python3.10/site-packages/scipy/optimize/_optimize.py:76\u001b[0m, in \u001b[0;36mMemoizeJac.__call__\u001b[0;34m(self, x, *args)\u001b[0m\n\u001b[1;32m     74\u001b[0m \u001b[38;5;28;01mdef\u001b[39;00m \u001b[38;5;21m__call__\u001b[39m(\u001b[38;5;28mself\u001b[39m, x, \u001b[38;5;241m*\u001b[39margs):\n\u001b[1;32m     75\u001b[0m     \u001b[38;5;124;03m\"\"\" returns the the function value \"\"\"\u001b[39;00m\n\u001b[0;32m---> 76\u001b[0m     \u001b[38;5;28;43mself\u001b[39;49m\u001b[38;5;241;43m.\u001b[39;49m\u001b[43m_compute_if_needed\u001b[49m\u001b[43m(\u001b[49m\u001b[43mx\u001b[49m\u001b[43m,\u001b[49m\u001b[43m \u001b[49m\u001b[38;5;241;43m*\u001b[39;49m\u001b[43margs\u001b[49m\u001b[43m)\u001b[49m\n\u001b[1;32m     77\u001b[0m     \u001b[38;5;28;01mreturn\u001b[39;00m \u001b[38;5;28mself\u001b[39m\u001b[38;5;241m.\u001b[39m_value\n",
      "File \u001b[0;32m~/.pyenv/versions/3.10.6/envs/lewagon/lib/python3.10/site-packages/scipy/optimize/_optimize.py:70\u001b[0m, in \u001b[0;36mMemoizeJac._compute_if_needed\u001b[0;34m(self, x, *args)\u001b[0m\n\u001b[1;32m     68\u001b[0m \u001b[38;5;28;01mif\u001b[39;00m \u001b[38;5;129;01mnot\u001b[39;00m np\u001b[38;5;241m.\u001b[39mall(x \u001b[38;5;241m==\u001b[39m \u001b[38;5;28mself\u001b[39m\u001b[38;5;241m.\u001b[39mx) \u001b[38;5;129;01mor\u001b[39;00m \u001b[38;5;28mself\u001b[39m\u001b[38;5;241m.\u001b[39m_value \u001b[38;5;129;01mis\u001b[39;00m \u001b[38;5;28;01mNone\u001b[39;00m \u001b[38;5;129;01mor\u001b[39;00m \u001b[38;5;28mself\u001b[39m\u001b[38;5;241m.\u001b[39mjac \u001b[38;5;129;01mis\u001b[39;00m \u001b[38;5;28;01mNone\u001b[39;00m:\n\u001b[1;32m     69\u001b[0m     \u001b[38;5;28mself\u001b[39m\u001b[38;5;241m.\u001b[39mx \u001b[38;5;241m=\u001b[39m np\u001b[38;5;241m.\u001b[39masarray(x)\u001b[38;5;241m.\u001b[39mcopy()\n\u001b[0;32m---> 70\u001b[0m     fg \u001b[38;5;241m=\u001b[39m \u001b[38;5;28;43mself\u001b[39;49m\u001b[38;5;241;43m.\u001b[39;49m\u001b[43mfun\u001b[49m\u001b[43m(\u001b[49m\u001b[43mx\u001b[49m\u001b[43m,\u001b[49m\u001b[43m \u001b[49m\u001b[38;5;241;43m*\u001b[39;49m\u001b[43margs\u001b[49m\u001b[43m)\u001b[49m\n\u001b[1;32m     71\u001b[0m     \u001b[38;5;28mself\u001b[39m\u001b[38;5;241m.\u001b[39mjac \u001b[38;5;241m=\u001b[39m fg[\u001b[38;5;241m1\u001b[39m]\n\u001b[1;32m     72\u001b[0m     \u001b[38;5;28mself\u001b[39m\u001b[38;5;241m.\u001b[39m_value \u001b[38;5;241m=\u001b[39m fg[\u001b[38;5;241m0\u001b[39m]\n",
      "File \u001b[0;32m~/.pyenv/versions/3.10.6/envs/lewagon/lib/python3.10/site-packages/sklearn/linear_model/_linear_loss.py:274\u001b[0m, in \u001b[0;36mLinearModelLoss.loss_gradient\u001b[0;34m(self, coef, X, y, sample_weight, l2_reg_strength, n_threads, raw_prediction)\u001b[0m\n\u001b[1;32m    271\u001b[0m n_dof \u001b[38;5;241m=\u001b[39m n_features \u001b[38;5;241m+\u001b[39m \u001b[38;5;28mint\u001b[39m(\u001b[38;5;28mself\u001b[39m\u001b[38;5;241m.\u001b[39mfit_intercept)\n\u001b[1;32m    273\u001b[0m \u001b[38;5;28;01mif\u001b[39;00m raw_prediction \u001b[38;5;129;01mis\u001b[39;00m \u001b[38;5;28;01mNone\u001b[39;00m:\n\u001b[0;32m--> 274\u001b[0m     weights, intercept, raw_prediction \u001b[38;5;241m=\u001b[39m \u001b[38;5;28;43mself\u001b[39;49m\u001b[38;5;241;43m.\u001b[39;49m\u001b[43mweight_intercept_raw\u001b[49m\u001b[43m(\u001b[49m\u001b[43mcoef\u001b[49m\u001b[43m,\u001b[49m\u001b[43m \u001b[49m\u001b[43mX\u001b[49m\u001b[43m)\u001b[49m\n\u001b[1;32m    275\u001b[0m \u001b[38;5;28;01melse\u001b[39;00m:\n\u001b[1;32m    276\u001b[0m     weights, intercept \u001b[38;5;241m=\u001b[39m \u001b[38;5;28mself\u001b[39m\u001b[38;5;241m.\u001b[39mweight_intercept(coef)\n",
      "\u001b[0;31mKeyboardInterrupt\u001b[0m: "
     ]
    }
   ],
   "source": [
    "logreg_dogs.fit(X_dogs_train, y_dogs_train)\n",
    "logreg_cats.fit(X_cats_train, y_cats_train)"
   ]
  },
  {
   "cell_type": "code",
   "execution_count": null,
   "id": "2180f2df",
   "metadata": {},
   "outputs": [],
   "source": [
    "logreg_dogs.score(X_dogs_test, y_dogs_test)"
   ]
  },
  {
   "cell_type": "code",
   "execution_count": null,
   "id": "5fc01583",
   "metadata": {},
   "outputs": [],
   "source": [
    "logreg_cats.score(X_cats_test, y_cats_test)"
   ]
  },
  {
   "cell_type": "code",
   "execution_count": null,
   "id": "2d3b7773",
   "metadata": {},
   "outputs": [],
   "source": [
    "y_pred_dogs_logreg = logreg_dogs.predict(X_dogs_test)\n",
    "y_pred_cats_logreg = logreg_cats.predict(X_cats_test)"
   ]
  },
  {
   "cell_type": "code",
   "execution_count": null,
   "id": "bab9bcac",
   "metadata": {},
   "outputs": [],
   "source": [
    "cm_dogs = confusion_matrix(y_dogs_test, y_pred_dogs_logreg, labels = ['Adoption', 'Return_to_owner', 'Transfer', 'Euthanasia', 'Died'])\n",
    "disp_dogs = ConfusionMatrixDisplay(confusion_matrix=cm_dogs, display_labels=['Adoption', 'Return_to_owner', 'Transfer', 'Euthanasia', 'Died'])\n",
    "disp_dogs.plot()\n",
    "plt.show()"
   ]
  },
  {
   "cell_type": "code",
   "execution_count": null,
   "id": "d8357278",
   "metadata": {},
   "outputs": [],
   "source": [
    "cm_cats = confusion_matrix(y_cats_test, y_pred_cats_logreg, labels = ['Transfer', 'Adoption', 'Euthanasia', 'Return_to_owner', 'Died'])\n",
    "disp_cats = ConfusionMatrixDisplay(confusion_matrix=cm_cats, display_labels=['Transfer', 'Adoption', 'Euthanasia', 'Return_to_owner', 'Died'])\n",
    "disp_cats.plot()\n",
    "plt.show()"
   ]
  },
  {
   "cell_type": "code",
   "execution_count": null,
   "id": "8360325a",
   "metadata": {},
   "outputs": [],
   "source": [
    "print(recall_score(y_dogs_test, y_pred_dogs_logreg, average='weighted'))\n",
    "print(recall_score(y_cats_test, y_pred_cats_logreg, average='weighted'))"
   ]
  },
  {
   "cell_type": "code",
   "execution_count": null,
   "id": "9a5c881e",
   "metadata": {},
   "outputs": [],
   "source": [
    "print(classification_report(y_dogs_test, y_pred_dogs_logreg))\n",
    "print('=='*50)\n",
    "print(classification_report(y_cats_test, y_pred_cats_logreg))"
   ]
  },
  {
   "cell_type": "markdown",
   "id": "dae1c470",
   "metadata": {},
   "source": [
    "# 🍢 Let's retry with a pipeline"
   ]
  },
  {
   "cell_type": "markdown",
   "id": "e3e81e1e",
   "metadata": {},
   "source": [
    "## 🐈‍⬛ Dataset 2.0 "
   ]
  },
  {
   "cell_type": "code",
   "execution_count": 57,
   "id": "197717cd",
   "metadata": {},
   "outputs": [
    {
     "data": {
      "text/html": [
       "<div>\n",
       "<style scoped>\n",
       "    .dataframe tbody tr th:only-of-type {\n",
       "        vertical-align: middle;\n",
       "    }\n",
       "\n",
       "    .dataframe tbody tr th {\n",
       "        vertical-align: top;\n",
       "    }\n",
       "\n",
       "    .dataframe thead th {\n",
       "        text-align: right;\n",
       "    }\n",
       "</style>\n",
       "<table border=\"1\" class=\"dataframe\">\n",
       "  <thead>\n",
       "    <tr style=\"text-align: right;\">\n",
       "      <th></th>\n",
       "      <th>AnimalID</th>\n",
       "      <th>Name</th>\n",
       "      <th>DateTime</th>\n",
       "      <th>OutcomeType</th>\n",
       "      <th>OutcomeSubtype</th>\n",
       "      <th>AnimalType</th>\n",
       "      <th>SexuponOutcome</th>\n",
       "      <th>AgeuponOutcome</th>\n",
       "      <th>Breed</th>\n",
       "      <th>Color</th>\n",
       "    </tr>\n",
       "  </thead>\n",
       "  <tbody>\n",
       "    <tr>\n",
       "      <th>0</th>\n",
       "      <td>A671945</td>\n",
       "      <td>Hambone</td>\n",
       "      <td>2014-02-12 18:22:00</td>\n",
       "      <td>Return_to_owner</td>\n",
       "      <td>NaN</td>\n",
       "      <td>Dog</td>\n",
       "      <td>Neutered Male</td>\n",
       "      <td>1 year</td>\n",
       "      <td>Shetland Sheepdog Mix</td>\n",
       "      <td>Brown/White</td>\n",
       "    </tr>\n",
       "    <tr>\n",
       "      <th>1</th>\n",
       "      <td>A656520</td>\n",
       "      <td>Emily</td>\n",
       "      <td>2013-10-13 12:44:00</td>\n",
       "      <td>Euthanasia</td>\n",
       "      <td>Suffering</td>\n",
       "      <td>Cat</td>\n",
       "      <td>Spayed Female</td>\n",
       "      <td>1 year</td>\n",
       "      <td>Domestic Shorthair Mix</td>\n",
       "      <td>Cream Tabby</td>\n",
       "    </tr>\n",
       "    <tr>\n",
       "      <th>2</th>\n",
       "      <td>A686464</td>\n",
       "      <td>Pearce</td>\n",
       "      <td>2015-01-31 12:28:00</td>\n",
       "      <td>Adoption</td>\n",
       "      <td>Foster</td>\n",
       "      <td>Dog</td>\n",
       "      <td>Neutered Male</td>\n",
       "      <td>2 years</td>\n",
       "      <td>Pit Bull Mix</td>\n",
       "      <td>Blue/White</td>\n",
       "    </tr>\n",
       "    <tr>\n",
       "      <th>3</th>\n",
       "      <td>A683430</td>\n",
       "      <td>NaN</td>\n",
       "      <td>2014-07-11 19:09:00</td>\n",
       "      <td>Transfer</td>\n",
       "      <td>Partner</td>\n",
       "      <td>Cat</td>\n",
       "      <td>Intact Male</td>\n",
       "      <td>3 weeks</td>\n",
       "      <td>Domestic Shorthair Mix</td>\n",
       "      <td>Blue Cream</td>\n",
       "    </tr>\n",
       "    <tr>\n",
       "      <th>4</th>\n",
       "      <td>A667013</td>\n",
       "      <td>NaN</td>\n",
       "      <td>2013-11-15 12:52:00</td>\n",
       "      <td>Transfer</td>\n",
       "      <td>Partner</td>\n",
       "      <td>Dog</td>\n",
       "      <td>Neutered Male</td>\n",
       "      <td>2 years</td>\n",
       "      <td>Lhasa Apso/Miniature Poodle</td>\n",
       "      <td>Tan</td>\n",
       "    </tr>\n",
       "    <tr>\n",
       "      <th>...</th>\n",
       "      <td>...</td>\n",
       "      <td>...</td>\n",
       "      <td>...</td>\n",
       "      <td>...</td>\n",
       "      <td>...</td>\n",
       "      <td>...</td>\n",
       "      <td>...</td>\n",
       "      <td>...</td>\n",
       "      <td>...</td>\n",
       "      <td>...</td>\n",
       "    </tr>\n",
       "    <tr>\n",
       "      <th>26724</th>\n",
       "      <td>A702446</td>\n",
       "      <td>NaN</td>\n",
       "      <td>2015-05-14 11:56:00</td>\n",
       "      <td>Transfer</td>\n",
       "      <td>Partner</td>\n",
       "      <td>Cat</td>\n",
       "      <td>Intact Male</td>\n",
       "      <td>1 month</td>\n",
       "      <td>Domestic Shorthair Mix</td>\n",
       "      <td>Brown Tabby/White</td>\n",
       "    </tr>\n",
       "    <tr>\n",
       "      <th>26725</th>\n",
       "      <td>A718934</td>\n",
       "      <td>NaN</td>\n",
       "      <td>2016-01-20 18:59:00</td>\n",
       "      <td>Transfer</td>\n",
       "      <td>SCRP</td>\n",
       "      <td>Cat</td>\n",
       "      <td>Spayed Female</td>\n",
       "      <td>3 months</td>\n",
       "      <td>Domestic Shorthair Mix</td>\n",
       "      <td>Brown Tabby</td>\n",
       "    </tr>\n",
       "    <tr>\n",
       "      <th>26726</th>\n",
       "      <td>A698128</td>\n",
       "      <td>Zeus</td>\n",
       "      <td>2015-03-09 13:33:00</td>\n",
       "      <td>Adoption</td>\n",
       "      <td>NaN</td>\n",
       "      <td>Dog</td>\n",
       "      <td>Neutered Male</td>\n",
       "      <td>4 years</td>\n",
       "      <td>Old English Bulldog Mix</td>\n",
       "      <td>White/Tan</td>\n",
       "    </tr>\n",
       "    <tr>\n",
       "      <th>26727</th>\n",
       "      <td>A677478</td>\n",
       "      <td>NaN</td>\n",
       "      <td>2014-04-27 12:22:00</td>\n",
       "      <td>Transfer</td>\n",
       "      <td>Partner</td>\n",
       "      <td>Cat</td>\n",
       "      <td>Intact Male</td>\n",
       "      <td>4 weeks</td>\n",
       "      <td>Domestic Shorthair Mix</td>\n",
       "      <td>Black</td>\n",
       "    </tr>\n",
       "    <tr>\n",
       "      <th>26728</th>\n",
       "      <td>A706629</td>\n",
       "      <td>NaN</td>\n",
       "      <td>2015-07-02 09:00:00</td>\n",
       "      <td>Transfer</td>\n",
       "      <td>SCRP</td>\n",
       "      <td>Cat</td>\n",
       "      <td>Intact Male</td>\n",
       "      <td>1 year</td>\n",
       "      <td>Domestic Shorthair Mix</td>\n",
       "      <td>Brown Tabby/White</td>\n",
       "    </tr>\n",
       "  </tbody>\n",
       "</table>\n",
       "<p>26729 rows × 10 columns</p>\n",
       "</div>"
      ],
      "text/plain": [
       "      AnimalID     Name             DateTime      OutcomeType OutcomeSubtype  \\\n",
       "0      A671945  Hambone  2014-02-12 18:22:00  Return_to_owner            NaN   \n",
       "1      A656520    Emily  2013-10-13 12:44:00       Euthanasia      Suffering   \n",
       "2      A686464   Pearce  2015-01-31 12:28:00         Adoption         Foster   \n",
       "3      A683430      NaN  2014-07-11 19:09:00         Transfer        Partner   \n",
       "4      A667013      NaN  2013-11-15 12:52:00         Transfer        Partner   \n",
       "...        ...      ...                  ...              ...            ...   \n",
       "26724  A702446      NaN  2015-05-14 11:56:00         Transfer        Partner   \n",
       "26725  A718934      NaN  2016-01-20 18:59:00         Transfer           SCRP   \n",
       "26726  A698128     Zeus  2015-03-09 13:33:00         Adoption            NaN   \n",
       "26727  A677478      NaN  2014-04-27 12:22:00         Transfer        Partner   \n",
       "26728  A706629      NaN  2015-07-02 09:00:00         Transfer           SCRP   \n",
       "\n",
       "      AnimalType SexuponOutcome AgeuponOutcome                        Breed  \\\n",
       "0            Dog  Neutered Male         1 year        Shetland Sheepdog Mix   \n",
       "1            Cat  Spayed Female         1 year       Domestic Shorthair Mix   \n",
       "2            Dog  Neutered Male        2 years                 Pit Bull Mix   \n",
       "3            Cat    Intact Male        3 weeks       Domestic Shorthair Mix   \n",
       "4            Dog  Neutered Male        2 years  Lhasa Apso/Miniature Poodle   \n",
       "...          ...            ...            ...                          ...   \n",
       "26724        Cat    Intact Male        1 month       Domestic Shorthair Mix   \n",
       "26725        Cat  Spayed Female       3 months       Domestic Shorthair Mix   \n",
       "26726        Dog  Neutered Male        4 years      Old English Bulldog Mix   \n",
       "26727        Cat    Intact Male        4 weeks       Domestic Shorthair Mix   \n",
       "26728        Cat    Intact Male         1 year       Domestic Shorthair Mix   \n",
       "\n",
       "                   Color  \n",
       "0            Brown/White  \n",
       "1            Cream Tabby  \n",
       "2             Blue/White  \n",
       "3             Blue Cream  \n",
       "4                    Tan  \n",
       "...                  ...  \n",
       "26724  Brown Tabby/White  \n",
       "26725        Brown Tabby  \n",
       "26726          White/Tan  \n",
       "26727              Black  \n",
       "26728  Brown Tabby/White  \n",
       "\n",
       "[26729 rows x 10 columns]"
      ]
     },
     "execution_count": 57,
     "metadata": {},
     "output_type": "execute_result"
    }
   ],
   "source": [
    "data_train = pd.read_csv('train.csv')\n",
    "data_train"
   ]
  },
  {
   "cell_type": "code",
   "execution_count": 58,
   "id": "e683e172",
   "metadata": {},
   "outputs": [
    {
     "data": {
      "text/html": [
       "<div>\n",
       "<style scoped>\n",
       "    .dataframe tbody tr th:only-of-type {\n",
       "        vertical-align: middle;\n",
       "    }\n",
       "\n",
       "    .dataframe tbody tr th {\n",
       "        vertical-align: top;\n",
       "    }\n",
       "\n",
       "    .dataframe thead th {\n",
       "        text-align: right;\n",
       "    }\n",
       "</style>\n",
       "<table border=\"1\" class=\"dataframe\">\n",
       "  <thead>\n",
       "    <tr style=\"text-align: right;\">\n",
       "      <th></th>\n",
       "      <th>ID</th>\n",
       "      <th>Name</th>\n",
       "      <th>DateTime</th>\n",
       "      <th>AnimalType</th>\n",
       "      <th>SexuponOutcome</th>\n",
       "      <th>AgeuponOutcome</th>\n",
       "      <th>Breed</th>\n",
       "      <th>Color</th>\n",
       "    </tr>\n",
       "  </thead>\n",
       "  <tbody>\n",
       "    <tr>\n",
       "      <th>0</th>\n",
       "      <td>1</td>\n",
       "      <td>Summer</td>\n",
       "      <td>2015-10-12 12:15:00</td>\n",
       "      <td>Dog</td>\n",
       "      <td>Intact Female</td>\n",
       "      <td>10 months</td>\n",
       "      <td>Labrador Retriever Mix</td>\n",
       "      <td>Red/White</td>\n",
       "    </tr>\n",
       "    <tr>\n",
       "      <th>1</th>\n",
       "      <td>2</td>\n",
       "      <td>Cheyenne</td>\n",
       "      <td>2014-07-26 17:59:00</td>\n",
       "      <td>Dog</td>\n",
       "      <td>Spayed Female</td>\n",
       "      <td>2 years</td>\n",
       "      <td>German Shepherd/Siberian Husky</td>\n",
       "      <td>Black/Tan</td>\n",
       "    </tr>\n",
       "    <tr>\n",
       "      <th>2</th>\n",
       "      <td>3</td>\n",
       "      <td>Gus</td>\n",
       "      <td>2016-01-13 12:20:00</td>\n",
       "      <td>Cat</td>\n",
       "      <td>Neutered Male</td>\n",
       "      <td>1 year</td>\n",
       "      <td>Domestic Shorthair Mix</td>\n",
       "      <td>Brown Tabby</td>\n",
       "    </tr>\n",
       "    <tr>\n",
       "      <th>3</th>\n",
       "      <td>4</td>\n",
       "      <td>Pongo</td>\n",
       "      <td>2013-12-28 18:12:00</td>\n",
       "      <td>Dog</td>\n",
       "      <td>Intact Male</td>\n",
       "      <td>4 months</td>\n",
       "      <td>Collie Smooth Mix</td>\n",
       "      <td>Tricolor</td>\n",
       "    </tr>\n",
       "    <tr>\n",
       "      <th>4</th>\n",
       "      <td>5</td>\n",
       "      <td>Skooter</td>\n",
       "      <td>2015-09-24 17:59:00</td>\n",
       "      <td>Dog</td>\n",
       "      <td>Neutered Male</td>\n",
       "      <td>2 years</td>\n",
       "      <td>Miniature Poodle Mix</td>\n",
       "      <td>White</td>\n",
       "    </tr>\n",
       "    <tr>\n",
       "      <th>...</th>\n",
       "      <td>...</td>\n",
       "      <td>...</td>\n",
       "      <td>...</td>\n",
       "      <td>...</td>\n",
       "      <td>...</td>\n",
       "      <td>...</td>\n",
       "      <td>...</td>\n",
       "      <td>...</td>\n",
       "    </tr>\n",
       "    <tr>\n",
       "      <th>11451</th>\n",
       "      <td>11452</td>\n",
       "      <td>NaN</td>\n",
       "      <td>2014-07-08 14:50:00</td>\n",
       "      <td>Cat</td>\n",
       "      <td>Neutered Male</td>\n",
       "      <td>2 months</td>\n",
       "      <td>Domestic Shorthair Mix</td>\n",
       "      <td>Black</td>\n",
       "    </tr>\n",
       "    <tr>\n",
       "      <th>11452</th>\n",
       "      <td>11453</td>\n",
       "      <td>NaN</td>\n",
       "      <td>2014-10-21 12:57:00</td>\n",
       "      <td>Cat</td>\n",
       "      <td>Intact Female</td>\n",
       "      <td>2 weeks</td>\n",
       "      <td>Domestic Shorthair Mix</td>\n",
       "      <td>Blue</td>\n",
       "    </tr>\n",
       "    <tr>\n",
       "      <th>11453</th>\n",
       "      <td>11454</td>\n",
       "      <td>NaN</td>\n",
       "      <td>2014-09-29 09:00:00</td>\n",
       "      <td>Cat</td>\n",
       "      <td>Intact Female</td>\n",
       "      <td>1 year</td>\n",
       "      <td>Domestic Shorthair Mix</td>\n",
       "      <td>Calico</td>\n",
       "    </tr>\n",
       "    <tr>\n",
       "      <th>11454</th>\n",
       "      <td>11455</td>\n",
       "      <td>Rambo</td>\n",
       "      <td>2015-09-05 17:16:00</td>\n",
       "      <td>Dog</td>\n",
       "      <td>Neutered Male</td>\n",
       "      <td>6 years</td>\n",
       "      <td>German Shepherd Mix</td>\n",
       "      <td>Black/Tan</td>\n",
       "    </tr>\n",
       "    <tr>\n",
       "      <th>11455</th>\n",
       "      <td>11456</td>\n",
       "      <td>Gusto</td>\n",
       "      <td>2014-07-12 18:40:00</td>\n",
       "      <td>Dog</td>\n",
       "      <td>Intact Male</td>\n",
       "      <td>4 years</td>\n",
       "      <td>Labrador Retriever</td>\n",
       "      <td>Cream</td>\n",
       "    </tr>\n",
       "  </tbody>\n",
       "</table>\n",
       "<p>11456 rows × 8 columns</p>\n",
       "</div>"
      ],
      "text/plain": [
       "          ID      Name             DateTime AnimalType SexuponOutcome  \\\n",
       "0          1    Summer  2015-10-12 12:15:00        Dog  Intact Female   \n",
       "1          2  Cheyenne  2014-07-26 17:59:00        Dog  Spayed Female   \n",
       "2          3       Gus  2016-01-13 12:20:00        Cat  Neutered Male   \n",
       "3          4     Pongo  2013-12-28 18:12:00        Dog    Intact Male   \n",
       "4          5   Skooter  2015-09-24 17:59:00        Dog  Neutered Male   \n",
       "...      ...       ...                  ...        ...            ...   \n",
       "11451  11452       NaN  2014-07-08 14:50:00        Cat  Neutered Male   \n",
       "11452  11453       NaN  2014-10-21 12:57:00        Cat  Intact Female   \n",
       "11453  11454       NaN  2014-09-29 09:00:00        Cat  Intact Female   \n",
       "11454  11455     Rambo  2015-09-05 17:16:00        Dog  Neutered Male   \n",
       "11455  11456     Gusto  2014-07-12 18:40:00        Dog    Intact Male   \n",
       "\n",
       "      AgeuponOutcome                           Breed        Color  \n",
       "0          10 months          Labrador Retriever Mix    Red/White  \n",
       "1            2 years  German Shepherd/Siberian Husky    Black/Tan  \n",
       "2             1 year          Domestic Shorthair Mix  Brown Tabby  \n",
       "3           4 months               Collie Smooth Mix     Tricolor  \n",
       "4            2 years            Miniature Poodle Mix        White  \n",
       "...              ...                             ...          ...  \n",
       "11451       2 months          Domestic Shorthair Mix        Black  \n",
       "11452        2 weeks          Domestic Shorthair Mix         Blue  \n",
       "11453         1 year          Domestic Shorthair Mix       Calico  \n",
       "11454        6 years             German Shepherd Mix    Black/Tan  \n",
       "11455        4 years              Labrador Retriever        Cream  \n",
       "\n",
       "[11456 rows x 8 columns]"
      ]
     },
     "execution_count": 58,
     "metadata": {},
     "output_type": "execute_result"
    }
   ],
   "source": [
    "data_test = pd.read_csv('test.csv')\n",
    "data_test"
   ]
  },
  {
   "cell_type": "markdown",
   "id": "cd8e7c5f",
   "metadata": {},
   "source": [
    "## 🧹 Re-cleaning the data "
   ]
  },
  {
   "cell_type": "markdown",
   "id": "ae0cf819",
   "metadata": {},
   "source": [
    "### 📅 Using SimpleImputer to fill NaN"
   ]
  },
  {
   "cell_type": "code",
   "execution_count": 59,
   "id": "b5a6499b",
   "metadata": {},
   "outputs": [],
   "source": [
    "simple_imputer_cat = SimpleImputer(strategy='most_frequent')\n",
    "simple_imputer_cat.fit(data_train[['AgeuponOutcome']])\n",
    "data_train[['AgeuponOutcome']] = simple_imputer_cat.transform(data_train[['AgeuponOutcome']])"
   ]
  },
  {
   "cell_type": "code",
   "execution_count": 62,
   "id": "f1247ae5",
   "metadata": {},
   "outputs": [],
   "source": [
    "simple_imputer_cat.fit(data_train[['SexuponOutcome']])\n",
    "data_train[['SexuponOutcome']] = simple_imputer_cat.transform(data_train[['SexuponOutcome']])"
   ]
  },
  {
   "cell_type": "code",
   "execution_count": 67,
   "id": "1fc1a3d7",
   "metadata": {},
   "outputs": [],
   "source": [
    "simple_imputer_cat.fit(data_test[['AgeuponOutcome']])\n",
    "data_test[['AgeuponOutcome']] = simple_imputer_cat.transform(data_test[['AgeuponOutcome']])"
   ]
  },
  {
   "cell_type": "code",
   "execution_count": 63,
   "id": "dbdcc570",
   "metadata": {},
   "outputs": [
    {
     "data": {
      "text/plain": [
       "AnimalID              0\n",
       "Name               7691\n",
       "DateTime              0\n",
       "OutcomeType           0\n",
       "OutcomeSubtype    13612\n",
       "AnimalType            0\n",
       "SexuponOutcome        0\n",
       "AgeuponOutcome        0\n",
       "Breed                 0\n",
       "Color                 0\n",
       "dtype: int64"
      ]
     },
     "execution_count": 63,
     "metadata": {},
     "output_type": "execute_result"
    }
   ],
   "source": [
    "data_train.isna().sum()"
   ]
  },
  {
   "cell_type": "code",
   "execution_count": 68,
   "id": "1810a49a",
   "metadata": {
    "scrolled": true
   },
   "outputs": [
    {
     "data": {
      "text/plain": [
       "ID                   0\n",
       "Name              3225\n",
       "DateTime             0\n",
       "AnimalType           0\n",
       "SexuponOutcome       0\n",
       "AgeuponOutcome       0\n",
       "Breed                0\n",
       "Color                0\n",
       "dtype: int64"
      ]
     },
     "execution_count": 68,
     "metadata": {},
     "output_type": "execute_result"
    }
   ],
   "source": [
    "data_test.isna().sum()"
   ]
  },
  {
   "cell_type": "markdown",
   "id": "d68896fc",
   "metadata": {},
   "source": [
    "### ⁉️ Drop the 'OutcomeSubtype' column as it has more than 30% NaN and the only NaN in 'SexuponOutcome'"
   ]
  },
  {
   "cell_type": "code",
   "execution_count": 69,
   "id": "0bd5bd65",
   "metadata": {},
   "outputs": [],
   "source": [
    "data_train.dropna(subset=['SexuponOutcome'], inplace=True)"
   ]
  },
  {
   "cell_type": "code",
   "execution_count": 70,
   "id": "42b49f4d",
   "metadata": {},
   "outputs": [],
   "source": [
    "data_train.drop(columns=['OutcomeSubtype'], inplace=True)"
   ]
  },
  {
   "cell_type": "code",
   "execution_count": 71,
   "id": "bdc05892",
   "metadata": {},
   "outputs": [
    {
     "data": {
      "text/plain": [
       "AnimalID             0\n",
       "Name              7691\n",
       "DateTime             0\n",
       "OutcomeType          0\n",
       "AnimalType           0\n",
       "SexuponOutcome       0\n",
       "AgeuponOutcome       0\n",
       "Breed                0\n",
       "Color                0\n",
       "dtype: int64"
      ]
     },
     "execution_count": 71,
     "metadata": {},
     "output_type": "execute_result"
    }
   ],
   "source": [
    "data_train.isna().sum()"
   ]
  },
  {
   "cell_type": "code",
   "execution_count": 72,
   "id": "a927fcf9",
   "metadata": {
    "scrolled": true
   },
   "outputs": [
    {
     "data": {
      "text/plain": [
       "ID                   0\n",
       "Name              3225\n",
       "DateTime             0\n",
       "AnimalType           0\n",
       "SexuponOutcome       0\n",
       "AgeuponOutcome       0\n",
       "Breed                0\n",
       "Color                0\n",
       "dtype: int64"
      ]
     },
     "execution_count": 72,
     "metadata": {},
     "output_type": "execute_result"
    }
   ],
   "source": [
    "data_test.isna().sum()"
   ]
  },
  {
   "cell_type": "markdown",
   "id": "85257730",
   "metadata": {},
   "source": [
    "### 📛 Changing the NaN in 'Name' to 'Unknown'"
   ]
  },
  {
   "cell_type": "code",
   "execution_count": 73,
   "id": "939aec75",
   "metadata": {},
   "outputs": [],
   "source": [
    "data_train.fillna('Unknown', inplace=True)\n",
    "data_test.fillna('Unknown', inplace=True)"
   ]
  },
  {
   "cell_type": "code",
   "execution_count": 74,
   "id": "1c6c3941",
   "metadata": {},
   "outputs": [
    {
     "data": {
      "text/plain": [
       "AnimalID          0\n",
       "Name              0\n",
       "DateTime          0\n",
       "OutcomeType       0\n",
       "AnimalType        0\n",
       "SexuponOutcome    0\n",
       "AgeuponOutcome    0\n",
       "Breed             0\n",
       "Color             0\n",
       "dtype: int64"
      ]
     },
     "execution_count": 74,
     "metadata": {},
     "output_type": "execute_result"
    }
   ],
   "source": [
    "data_train.isna().sum()"
   ]
  },
  {
   "cell_type": "code",
   "execution_count": 75,
   "id": "e9529e13",
   "metadata": {},
   "outputs": [
    {
     "data": {
      "text/plain": [
       "ID                0\n",
       "Name              0\n",
       "DateTime          0\n",
       "AnimalType        0\n",
       "SexuponOutcome    0\n",
       "AgeuponOutcome    0\n",
       "Breed             0\n",
       "Color             0\n",
       "dtype: int64"
      ]
     },
     "execution_count": 75,
     "metadata": {},
     "output_type": "execute_result"
    }
   ],
   "source": [
    "data_test.isna().sum()"
   ]
  },
  {
   "cell_type": "markdown",
   "id": "2727fff0",
   "metadata": {},
   "source": [
    "❓ Checking number of columns if using One-Hot Encoder"
   ]
  },
  {
   "cell_type": "code",
   "execution_count": 78,
   "id": "01a2acdc",
   "metadata": {},
   "outputs": [
    {
     "data": {
      "text/plain": [
       "['AnimalID',\n",
       " 'Name',\n",
       " 'DateTime',\n",
       " 'OutcomeType',\n",
       " 'AnimalType',\n",
       " 'SexuponOutcome',\n",
       " 'AgeuponOutcome',\n",
       " 'Breed',\n",
       " 'Color']"
      ]
     },
     "execution_count": 78,
     "metadata": {},
     "output_type": "execute_result"
    }
   ],
   "source": [
    "cat_train_features = list(data_train.columns)\n",
    "cat_train_features"
   ]
  },
  {
   "cell_type": "code",
   "execution_count": 79,
   "id": "72f8efb8",
   "metadata": {},
   "outputs": [
    {
     "data": {
      "text/plain": [
       "['ID',\n",
       " 'Name',\n",
       " 'DateTime',\n",
       " 'AnimalType',\n",
       " 'SexuponOutcome',\n",
       " 'AgeuponOutcome',\n",
       " 'Breed',\n",
       " 'Color']"
      ]
     },
     "execution_count": 79,
     "metadata": {},
     "output_type": "execute_result"
    }
   ],
   "source": [
    "cat_test_features = list(data_test.columns)\n",
    "cat_test_features"
   ]
  },
  {
   "cell_type": "code",
   "execution_count": 80,
   "id": "73578ed6",
   "metadata": {},
   "outputs": [
    {
     "data": {
      "text/plain": [
       "{'AnimalID': 26729,\n",
       " 'Name': 6375,\n",
       " 'DateTime': 22918,\n",
       " 'OutcomeType': 5,\n",
       " 'AnimalType': 2,\n",
       " 'SexuponOutcome': 5,\n",
       " 'AgeuponOutcome': 44,\n",
       " 'Breed': 1380,\n",
       " 'Color': 366}"
      ]
     },
     "execution_count": 80,
     "metadata": {},
     "output_type": "execute_result"
    }
   ],
   "source": [
    "unique_occurences = {cat_feature:\n",
    "                                 len(data_train[cat_feature].value_counts()) \n",
    "                                 for cat_feature in data_train.columns}\n",
    "\n",
    "unique_occurences"
   ]
  },
  {
   "cell_type": "code",
   "execution_count": 82,
   "id": "7c310b81",
   "metadata": {},
   "outputs": [
    {
     "name": "stdout",
     "output_type": "stream",
     "text": [
      "                unique_occurences\n",
      "AnimalID                    26729\n",
      "DateTime                    22918\n",
      "Name                         6375\n",
      "Breed                        1380\n",
      "Color                         366\n",
      "AgeuponOutcome                 44\n",
      "OutcomeType                     5\n",
      "SexuponOutcome                  5\n",
      "AnimalType                      2\n"
     ]
    }
   ],
   "source": [
    "unique_occurences = pd.DataFrame.from_dict(unique_occurences,\n",
    "                                                       orient = \"index\",\n",
    "                                                       columns = [\"unique_occurences\"])\n",
    "\n",
    "unique_occurences = unique_occurences.sort_values(by = \"unique_occurences\",\n",
    "                                                  ascending = False)\n",
    "print(unique_occurences)"
   ]
  },
  {
   "cell_type": "code",
   "execution_count": 83,
   "id": "22cc8741",
   "metadata": {},
   "outputs": [
    {
     "data": {
      "text/plain": [
       "['AnimalID',\n",
       " 'DateTime',\n",
       " 'Name',\n",
       " 'Breed',\n",
       " 'Color',\n",
       " 'AgeuponOutcome',\n",
       " 'OutcomeType',\n",
       " 'SexuponOutcome']"
      ]
     },
     "execution_count": 83,
     "metadata": {},
     "output_type": "execute_result"
    }
   ],
   "source": [
    "multiple_cat = list(unique_occurences[unique_occurences.unique_occurences > 2].index)\n",
    "multiple_cat"
   ]
  },
  {
   "cell_type": "code",
   "execution_count": 84,
   "id": "7084ea26",
   "metadata": {},
   "outputs": [
    {
     "data": {
      "text/plain": [
       "['AnimalType']"
      ]
     },
     "execution_count": 84,
     "metadata": {},
     "output_type": "execute_result"
    }
   ],
   "source": [
    "binary_cat = list(unique_occurences[unique_occurences.unique_occurences <= 2].index)\n",
    "binary_cat"
   ]
  },
  {
   "cell_type": "code",
   "execution_count": 85,
   "id": "3234442e",
   "metadata": {},
   "outputs": [
    {
     "name": "stdout",
     "output_type": "stream",
     "text": [
      "If we are to One-Hot-Encode all the categorical columns of this cars' dataset,\n",
      "we will generate 57822 + 1 = 57823 columns\n"
     ]
    }
   ],
   "source": [
    "columns_generated_by_multiple_ohe = unique_occurences.loc[multiple_cat].sum()[0]\n",
    "columns_generated_by_binary_ohe = len(binary_cat)\n",
    "columns_ohe = columns_generated_by_multiple_ohe + columns_generated_by_binary_ohe\n",
    "\n",
    "print(f\"If we are to One-Hot-Encode all the categorical columns of this cars' dataset,\")\n",
    "print(f\"we will generate {columns_generated_by_multiple_ohe} + {columns_generated_by_binary_ohe} = {columns_ohe} columns\")"
   ]
  },
  {
   "cell_type": "markdown",
   "id": "00921d1c",
   "metadata": {},
   "source": [
    "❓ Create a cat_transformer pipeline to deal with categorical features ❓"
   ]
  },
  {
   "cell_type": "code",
   "execution_count": 101,
   "id": "dcf8ea80",
   "metadata": {},
   "outputs": [],
   "source": [
    "from category_encoders import CatBoostEncoder"
   ]
  },
  {
   "cell_type": "code",
   "execution_count": 102,
   "id": "5c5d7675",
   "metadata": {},
   "outputs": [
    {
     "data": {
      "text/html": [
       "<style>#sk-container-id-3 {color: black;background-color: white;}#sk-container-id-3 pre{padding: 0;}#sk-container-id-3 div.sk-toggleable {background-color: white;}#sk-container-id-3 label.sk-toggleable__label {cursor: pointer;display: block;width: 100%;margin-bottom: 0;padding: 0.3em;box-sizing: border-box;text-align: center;}#sk-container-id-3 label.sk-toggleable__label-arrow:before {content: \"▸\";float: left;margin-right: 0.25em;color: #696969;}#sk-container-id-3 label.sk-toggleable__label-arrow:hover:before {color: black;}#sk-container-id-3 div.sk-estimator:hover label.sk-toggleable__label-arrow:before {color: black;}#sk-container-id-3 div.sk-toggleable__content {max-height: 0;max-width: 0;overflow: hidden;text-align: left;background-color: #f0f8ff;}#sk-container-id-3 div.sk-toggleable__content pre {margin: 0.2em;color: black;border-radius: 0.25em;background-color: #f0f8ff;}#sk-container-id-3 input.sk-toggleable__control:checked~div.sk-toggleable__content {max-height: 200px;max-width: 100%;overflow: auto;}#sk-container-id-3 input.sk-toggleable__control:checked~label.sk-toggleable__label-arrow:before {content: \"▾\";}#sk-container-id-3 div.sk-estimator input.sk-toggleable__control:checked~label.sk-toggleable__label {background-color: #d4ebff;}#sk-container-id-3 div.sk-label input.sk-toggleable__control:checked~label.sk-toggleable__label {background-color: #d4ebff;}#sk-container-id-3 input.sk-hidden--visually {border: 0;clip: rect(1px 1px 1px 1px);clip: rect(1px, 1px, 1px, 1px);height: 1px;margin: -1px;overflow: hidden;padding: 0;position: absolute;width: 1px;}#sk-container-id-3 div.sk-estimator {font-family: monospace;background-color: #f0f8ff;border: 1px dotted black;border-radius: 0.25em;box-sizing: border-box;margin-bottom: 0.5em;}#sk-container-id-3 div.sk-estimator:hover {background-color: #d4ebff;}#sk-container-id-3 div.sk-parallel-item::after {content: \"\";width: 100%;border-bottom: 1px solid gray;flex-grow: 1;}#sk-container-id-3 div.sk-label:hover label.sk-toggleable__label {background-color: #d4ebff;}#sk-container-id-3 div.sk-serial::before {content: \"\";position: absolute;border-left: 1px solid gray;box-sizing: border-box;top: 0;bottom: 0;left: 50%;z-index: 0;}#sk-container-id-3 div.sk-serial {display: flex;flex-direction: column;align-items: center;background-color: white;padding-right: 0.2em;padding-left: 0.2em;position: relative;}#sk-container-id-3 div.sk-item {position: relative;z-index: 1;}#sk-container-id-3 div.sk-parallel {display: flex;align-items: stretch;justify-content: center;background-color: white;position: relative;}#sk-container-id-3 div.sk-item::before, #sk-container-id-3 div.sk-parallel-item::before {content: \"\";position: absolute;border-left: 1px solid gray;box-sizing: border-box;top: 0;bottom: 0;left: 50%;z-index: -1;}#sk-container-id-3 div.sk-parallel-item {display: flex;flex-direction: column;z-index: 1;position: relative;background-color: white;}#sk-container-id-3 div.sk-parallel-item:first-child::after {align-self: flex-end;width: 50%;}#sk-container-id-3 div.sk-parallel-item:last-child::after {align-self: flex-start;width: 50%;}#sk-container-id-3 div.sk-parallel-item:only-child::after {width: 0;}#sk-container-id-3 div.sk-dashed-wrapped {border: 1px dashed gray;margin: 0 0.4em 0.5em 0.4em;box-sizing: border-box;padding-bottom: 0.4em;background-color: white;}#sk-container-id-3 div.sk-label label {font-family: monospace;font-weight: bold;display: inline-block;line-height: 1.2em;}#sk-container-id-3 div.sk-label-container {text-align: center;}#sk-container-id-3 div.sk-container {/* jupyter's `normalize.less` sets `[hidden] { display: none; }` but bootstrap.min.css set `[hidden] { display: none !important; }` so we also need the `!important` here to be able to override the default hidden behavior on the sphinx rendered scikit-learn.org. See: https://github.com/scikit-learn/scikit-learn/issues/21755 */display: inline-block !important;position: relative;}#sk-container-id-3 div.sk-text-repr-fallback {display: none;}</style><div id=\"sk-container-id-3\" class=\"sk-top-container\"><div class=\"sk-text-repr-fallback\"><pre>Pipeline(steps=[(&#x27;simpleimputer&#x27;, SimpleImputer(strategy=&#x27;most_frequent&#x27;)),\n",
       "                (&#x27;catboostencoder&#x27;, CatBoostEncoder())])</pre><b>In a Jupyter environment, please rerun this cell to show the HTML representation or trust the notebook. <br />On GitHub, the HTML representation is unable to render, please try loading this page with nbviewer.org.</b></div><div class=\"sk-container\" hidden><div class=\"sk-item sk-dashed-wrapped\"><div class=\"sk-label-container\"><div class=\"sk-label sk-toggleable\"><input class=\"sk-toggleable__control sk-hidden--visually\" id=\"sk-estimator-id-7\" type=\"checkbox\" ><label for=\"sk-estimator-id-7\" class=\"sk-toggleable__label sk-toggleable__label-arrow\">Pipeline</label><div class=\"sk-toggleable__content\"><pre>Pipeline(steps=[(&#x27;simpleimputer&#x27;, SimpleImputer(strategy=&#x27;most_frequent&#x27;)),\n",
       "                (&#x27;catboostencoder&#x27;, CatBoostEncoder())])</pre></div></div></div><div class=\"sk-serial\"><div class=\"sk-item\"><div class=\"sk-estimator sk-toggleable\"><input class=\"sk-toggleable__control sk-hidden--visually\" id=\"sk-estimator-id-8\" type=\"checkbox\" ><label for=\"sk-estimator-id-8\" class=\"sk-toggleable__label sk-toggleable__label-arrow\">SimpleImputer</label><div class=\"sk-toggleable__content\"><pre>SimpleImputer(strategy=&#x27;most_frequent&#x27;)</pre></div></div></div><div class=\"sk-item\"><div class=\"sk-estimator sk-toggleable\"><input class=\"sk-toggleable__control sk-hidden--visually\" id=\"sk-estimator-id-9\" type=\"checkbox\" ><label for=\"sk-estimator-id-9\" class=\"sk-toggleable__label sk-toggleable__label-arrow\">CatBoostEncoder</label><div class=\"sk-toggleable__content\"><pre>CatBoostEncoder()</pre></div></div></div></div></div></div></div>"
      ],
      "text/plain": [
       "Pipeline(steps=[('simpleimputer', SimpleImputer(strategy='most_frequent')),\n",
       "                ('catboostencoder', CatBoostEncoder())])"
      ]
     },
     "execution_count": 102,
     "metadata": {},
     "output_type": "execute_result"
    }
   ],
   "source": [
    "cat_transformer = make_pipeline(\n",
    "                    SimpleImputer(strategy = \"most_frequent\").set_output(transform=\"pandas\"),\n",
    "                    CatBoostEncoder().set_output(transform=\"pandas\")\n",
    "                ).set_output(transform=\"pandas\")\n",
    "cat_transformer"
   ]
  },
  {
   "cell_type": "code",
   "execution_count": 105,
   "id": "626e713a",
   "metadata": {},
   "outputs": [
    {
     "ename": "ValueError",
     "evalue": "Supervised encoders need a target for the fitting. The target cannot be None",
     "output_type": "error",
     "traceback": [
      "\u001b[0;31m---------------------------------------------------------------------------\u001b[0m",
      "\u001b[0;31mValueError\u001b[0m                                Traceback (most recent call last)",
      "Cell \u001b[0;32mIn [105], line 1\u001b[0m\n\u001b[0;32m----> 1\u001b[0m \u001b[43mcat_transformer\u001b[49m\u001b[38;5;241;43m.\u001b[39;49m\u001b[43mfit\u001b[49m\u001b[43m(\u001b[49m\u001b[43mdata_train\u001b[49m\u001b[43m)\u001b[49m\n\u001b[1;32m      2\u001b[0m data_train_encoded \u001b[38;5;241m=\u001b[39m pd\u001b[38;5;241m.\u001b[39mDataFrame(cat_transformer\u001b[38;5;241m.\u001b[39mtransform(data_train))\n",
      "File \u001b[0;32m~/.pyenv/versions/3.10.6/envs/lewagon/lib/python3.10/site-packages/sklearn/pipeline.py:405\u001b[0m, in \u001b[0;36mPipeline.fit\u001b[0;34m(self, X, y, **fit_params)\u001b[0m\n\u001b[1;32m    403\u001b[0m     \u001b[38;5;28;01mif\u001b[39;00m \u001b[38;5;28mself\u001b[39m\u001b[38;5;241m.\u001b[39m_final_estimator \u001b[38;5;241m!=\u001b[39m \u001b[38;5;124m\"\u001b[39m\u001b[38;5;124mpassthrough\u001b[39m\u001b[38;5;124m\"\u001b[39m:\n\u001b[1;32m    404\u001b[0m         fit_params_last_step \u001b[38;5;241m=\u001b[39m fit_params_steps[\u001b[38;5;28mself\u001b[39m\u001b[38;5;241m.\u001b[39msteps[\u001b[38;5;241m-\u001b[39m\u001b[38;5;241m1\u001b[39m][\u001b[38;5;241m0\u001b[39m]]\n\u001b[0;32m--> 405\u001b[0m         \u001b[38;5;28;43mself\u001b[39;49m\u001b[38;5;241;43m.\u001b[39;49m\u001b[43m_final_estimator\u001b[49m\u001b[38;5;241;43m.\u001b[39;49m\u001b[43mfit\u001b[49m\u001b[43m(\u001b[49m\u001b[43mXt\u001b[49m\u001b[43m,\u001b[49m\u001b[43m \u001b[49m\u001b[43my\u001b[49m\u001b[43m,\u001b[49m\u001b[43m \u001b[49m\u001b[38;5;241;43m*\u001b[39;49m\u001b[38;5;241;43m*\u001b[39;49m\u001b[43mfit_params_last_step\u001b[49m\u001b[43m)\u001b[49m\n\u001b[1;32m    407\u001b[0m \u001b[38;5;28;01mreturn\u001b[39;00m \u001b[38;5;28mself\u001b[39m\n",
      "File \u001b[0;32m~/.pyenv/versions/3.10.6/envs/lewagon/lib/python3.10/site-packages/category_encoders/utils.py:293\u001b[0m, in \u001b[0;36mBaseEncoder.fit\u001b[0;34m(self, X, y, **kwargs)\u001b[0m\n\u001b[1;32m    274\u001b[0m \u001b[38;5;28;01mdef\u001b[39;00m \u001b[38;5;21mfit\u001b[39m(\u001b[38;5;28mself\u001b[39m, X, y\u001b[38;5;241m=\u001b[39m\u001b[38;5;28;01mNone\u001b[39;00m, \u001b[38;5;241m*\u001b[39m\u001b[38;5;241m*\u001b[39mkwargs):\n\u001b[1;32m    275\u001b[0m     \u001b[38;5;124;03m\"\"\"Fits the encoder according to X and y.\u001b[39;00m\n\u001b[1;32m    276\u001b[0m \u001b[38;5;124;03m\u001b[39;00m\n\u001b[1;32m    277\u001b[0m \u001b[38;5;124;03m    Parameters\u001b[39;00m\n\u001b[0;32m   (...)\u001b[0m\n\u001b[1;32m    291\u001b[0m \n\u001b[1;32m    292\u001b[0m \u001b[38;5;124;03m    \"\"\"\u001b[39;00m\n\u001b[0;32m--> 293\u001b[0m     \u001b[38;5;28;43mself\u001b[39;49m\u001b[38;5;241;43m.\u001b[39;49m\u001b[43m_check_fit_inputs\u001b[49m\u001b[43m(\u001b[49m\u001b[43mX\u001b[49m\u001b[43m,\u001b[49m\u001b[43m \u001b[49m\u001b[43my\u001b[49m\u001b[43m)\u001b[49m\n\u001b[1;32m    294\u001b[0m     X, y \u001b[38;5;241m=\u001b[39m convert_inputs(X, y)\n\u001b[1;32m    295\u001b[0m     \u001b[38;5;28mself\u001b[39m\u001b[38;5;241m.\u001b[39mfeature_names_in_ \u001b[38;5;241m=\u001b[39m X\u001b[38;5;241m.\u001b[39mcolumns\u001b[38;5;241m.\u001b[39mtolist()\n",
      "File \u001b[0;32m~/.pyenv/versions/3.10.6/envs/lewagon/lib/python3.10/site-packages/category_encoders/utils.py:324\u001b[0m, in \u001b[0;36mBaseEncoder._check_fit_inputs\u001b[0;34m(self, X, y)\u001b[0m\n\u001b[1;32m    322\u001b[0m \u001b[38;5;28;01mdef\u001b[39;00m \u001b[38;5;21m_check_fit_inputs\u001b[39m(\u001b[38;5;28mself\u001b[39m, X, y):\n\u001b[1;32m    323\u001b[0m     \u001b[38;5;28;01mif\u001b[39;00m \u001b[38;5;28mself\u001b[39m\u001b[38;5;241m.\u001b[39m_get_tags()\u001b[38;5;241m.\u001b[39mget(\u001b[38;5;124m'\u001b[39m\u001b[38;5;124msupervised_encoder\u001b[39m\u001b[38;5;124m'\u001b[39m) \u001b[38;5;129;01mand\u001b[39;00m y \u001b[38;5;129;01mis\u001b[39;00m \u001b[38;5;28;01mNone\u001b[39;00m:\n\u001b[0;32m--> 324\u001b[0m         \u001b[38;5;28;01mraise\u001b[39;00m \u001b[38;5;167;01mValueError\u001b[39;00m(\u001b[38;5;124m'\u001b[39m\u001b[38;5;124mSupervised encoders need a target for the fitting. The target cannot be None\u001b[39m\u001b[38;5;124m'\u001b[39m)\n",
      "\u001b[0;31mValueError\u001b[0m: Supervised encoders need a target for the fitting. The target cannot be None"
     ]
    }
   ],
   "source": [
    "cat_transformer.fit(data_train)\n",
    "data_train_encoded = pd.DataFrame(cat_transformer.transform(data_train))"
   ]
  },
  {
   "cell_type": "code",
   "execution_count": 93,
   "id": "19433309",
   "metadata": {},
   "outputs": [
    {
     "data": {
      "text/html": [
       "<div>\n",
       "<style scoped>\n",
       "    .dataframe tbody tr th:only-of-type {\n",
       "        vertical-align: middle;\n",
       "    }\n",
       "\n",
       "    .dataframe tbody tr th {\n",
       "        vertical-align: top;\n",
       "    }\n",
       "\n",
       "    .dataframe thead th {\n",
       "        text-align: right;\n",
       "    }\n",
       "</style>\n",
       "<table border=\"1\" class=\"dataframe\">\n",
       "  <thead>\n",
       "    <tr style=\"text-align: right;\">\n",
       "      <th></th>\n",
       "      <th>AnimalID</th>\n",
       "      <th>Name</th>\n",
       "      <th>DateTime</th>\n",
       "      <th>OutcomeType</th>\n",
       "      <th>AnimalType</th>\n",
       "      <th>SexuponOutcome</th>\n",
       "      <th>AgeuponOutcome</th>\n",
       "      <th>Breed</th>\n",
       "      <th>Color</th>\n",
       "    </tr>\n",
       "  </thead>\n",
       "  <tbody>\n",
       "    <tr>\n",
       "      <th>0</th>\n",
       "      <td>5419.0</td>\n",
       "      <td>2351.0</td>\n",
       "      <td>3361.0</td>\n",
       "      <td>3.0</td>\n",
       "      <td>1.0</td>\n",
       "      <td>2.0</td>\n",
       "      <td>5.0</td>\n",
       "      <td>1221.0</td>\n",
       "      <td>130.0</td>\n",
       "    </tr>\n",
       "    <tr>\n",
       "      <th>1</th>\n",
       "      <td>1603.0</td>\n",
       "      <td>1847.0</td>\n",
       "      <td>350.0</td>\n",
       "      <td>2.0</td>\n",
       "      <td>0.0</td>\n",
       "      <td>3.0</td>\n",
       "      <td>5.0</td>\n",
       "      <td>640.0</td>\n",
       "      <td>167.0</td>\n",
       "    </tr>\n",
       "    <tr>\n",
       "      <th>2</th>\n",
       "      <td>11613.0</td>\n",
       "      <td>4440.0</td>\n",
       "      <td>12681.0</td>\n",
       "      <td>0.0</td>\n",
       "      <td>1.0</td>\n",
       "      <td>2.0</td>\n",
       "      <td>21.0</td>\n",
       "      <td>1066.0</td>\n",
       "      <td>86.0</td>\n",
       "    </tr>\n",
       "    <tr>\n",
       "      <th>3</th>\n",
       "      <td>10238.0</td>\n",
       "      <td>6072.0</td>\n",
       "      <td>7190.0</td>\n",
       "      <td>4.0</td>\n",
       "      <td>0.0</td>\n",
       "      <td>1.0</td>\n",
       "      <td>25.0</td>\n",
       "      <td>640.0</td>\n",
       "      <td>42.0</td>\n",
       "    </tr>\n",
       "    <tr>\n",
       "      <th>4</th>\n",
       "      <td>3501.0</td>\n",
       "      <td>6072.0</td>\n",
       "      <td>1233.0</td>\n",
       "      <td>4.0</td>\n",
       "      <td>1.0</td>\n",
       "      <td>2.0</td>\n",
       "      <td>21.0</td>\n",
       "      <td>914.0</td>\n",
       "      <td>274.0</td>\n",
       "    </tr>\n",
       "    <tr>\n",
       "      <th>...</th>\n",
       "      <td>...</td>\n",
       "      <td>...</td>\n",
       "      <td>...</td>\n",
       "      <td>...</td>\n",
       "      <td>...</td>\n",
       "      <td>...</td>\n",
       "      <td>...</td>\n",
       "      <td>...</td>\n",
       "      <td>...</td>\n",
       "    </tr>\n",
       "    <tr>\n",
       "      <th>26724</th>\n",
       "      <td>18631.0</td>\n",
       "      <td>6072.0</td>\n",
       "      <td>14983.0</td>\n",
       "      <td>4.0</td>\n",
       "      <td>0.0</td>\n",
       "      <td>1.0</td>\n",
       "      <td>2.0</td>\n",
       "      <td>640.0</td>\n",
       "      <td>111.0</td>\n",
       "    </tr>\n",
       "    <tr>\n",
       "      <th>26725</th>\n",
       "      <td>26055.0</td>\n",
       "      <td>6072.0</td>\n",
       "      <td>22209.0</td>\n",
       "      <td>4.0</td>\n",
       "      <td>0.0</td>\n",
       "      <td>3.0</td>\n",
       "      <td>24.0</td>\n",
       "      <td>640.0</td>\n",
       "      <td>104.0</td>\n",
       "    </tr>\n",
       "    <tr>\n",
       "      <th>26726</th>\n",
       "      <td>16731.0</td>\n",
       "      <td>6340.0</td>\n",
       "      <td>13463.0</td>\n",
       "      <td>0.0</td>\n",
       "      <td>1.0</td>\n",
       "      <td>2.0</td>\n",
       "      <td>30.0</td>\n",
       "      <td>1022.0</td>\n",
       "      <td>353.0</td>\n",
       "    </tr>\n",
       "    <tr>\n",
       "      <th>26727</th>\n",
       "      <td>7450.0</td>\n",
       "      <td>6072.0</td>\n",
       "      <td>5074.0</td>\n",
       "      <td>4.0</td>\n",
       "      <td>0.0</td>\n",
       "      <td>1.0</td>\n",
       "      <td>29.0</td>\n",
       "      <td>640.0</td>\n",
       "      <td>5.0</td>\n",
       "    </tr>\n",
       "    <tr>\n",
       "      <th>26728</th>\n",
       "      <td>20751.0</td>\n",
       "      <td>6072.0</td>\n",
       "      <td>16611.0</td>\n",
       "      <td>4.0</td>\n",
       "      <td>0.0</td>\n",
       "      <td>1.0</td>\n",
       "      <td>5.0</td>\n",
       "      <td>640.0</td>\n",
       "      <td>111.0</td>\n",
       "    </tr>\n",
       "  </tbody>\n",
       "</table>\n",
       "<p>26729 rows × 9 columns</p>\n",
       "</div>"
      ],
      "text/plain": [
       "       AnimalID    Name  DateTime  OutcomeType  AnimalType  SexuponOutcome  \\\n",
       "0        5419.0  2351.0    3361.0          3.0         1.0             2.0   \n",
       "1        1603.0  1847.0     350.0          2.0         0.0             3.0   \n",
       "2       11613.0  4440.0   12681.0          0.0         1.0             2.0   \n",
       "3       10238.0  6072.0    7190.0          4.0         0.0             1.0   \n",
       "4        3501.0  6072.0    1233.0          4.0         1.0             2.0   \n",
       "...         ...     ...       ...          ...         ...             ...   \n",
       "26724   18631.0  6072.0   14983.0          4.0         0.0             1.0   \n",
       "26725   26055.0  6072.0   22209.0          4.0         0.0             3.0   \n",
       "26726   16731.0  6340.0   13463.0          0.0         1.0             2.0   \n",
       "26727    7450.0  6072.0    5074.0          4.0         0.0             1.0   \n",
       "26728   20751.0  6072.0   16611.0          4.0         0.0             1.0   \n",
       "\n",
       "       AgeuponOutcome   Breed  Color  \n",
       "0                 5.0  1221.0  130.0  \n",
       "1                 5.0   640.0  167.0  \n",
       "2                21.0  1066.0   86.0  \n",
       "3                25.0   640.0   42.0  \n",
       "4                21.0   914.0  274.0  \n",
       "...               ...     ...    ...  \n",
       "26724             2.0   640.0  111.0  \n",
       "26725            24.0   640.0  104.0  \n",
       "26726            30.0  1022.0  353.0  \n",
       "26727            29.0   640.0    5.0  \n",
       "26728             5.0   640.0  111.0  \n",
       "\n",
       "[26729 rows x 9 columns]"
      ]
     },
     "execution_count": 93,
     "metadata": {},
     "output_type": "execute_result"
    }
   ],
   "source": [
    "data_train_encoded"
   ]
  },
  {
   "cell_type": "code",
   "execution_count": 94,
   "id": "d00205fa",
   "metadata": {},
   "outputs": [
    {
     "data": {
      "text/html": [
       "<div>\n",
       "<style scoped>\n",
       "    .dataframe tbody tr th:only-of-type {\n",
       "        vertical-align: middle;\n",
       "    }\n",
       "\n",
       "    .dataframe tbody tr th {\n",
       "        vertical-align: top;\n",
       "    }\n",
       "\n",
       "    .dataframe thead th {\n",
       "        text-align: right;\n",
       "    }\n",
       "</style>\n",
       "<table border=\"1\" class=\"dataframe\">\n",
       "  <thead>\n",
       "    <tr style=\"text-align: right;\">\n",
       "      <th></th>\n",
       "      <th>ID</th>\n",
       "      <th>Name</th>\n",
       "      <th>DateTime</th>\n",
       "      <th>AnimalType</th>\n",
       "      <th>SexuponOutcome</th>\n",
       "      <th>AgeuponOutcome</th>\n",
       "      <th>Breed</th>\n",
       "      <th>Color</th>\n",
       "    </tr>\n",
       "  </thead>\n",
       "  <tbody>\n",
       "    <tr>\n",
       "      <th>0</th>\n",
       "      <td>0.0</td>\n",
       "      <td>3232.0</td>\n",
       "      <td>9037.0</td>\n",
       "      <td>1.0</td>\n",
       "      <td>0.0</td>\n",
       "      <td>6.0</td>\n",
       "      <td>542.0</td>\n",
       "      <td>185.0</td>\n",
       "    </tr>\n",
       "    <tr>\n",
       "      <th>1</th>\n",
       "      <td>1.0</td>\n",
       "      <td>644.0</td>\n",
       "      <td>3616.0</td>\n",
       "      <td>1.0</td>\n",
       "      <td>3.0</td>\n",
       "      <td>21.0</td>\n",
       "      <td>460.0</td>\n",
       "      <td>28.0</td>\n",
       "    </tr>\n",
       "    <tr>\n",
       "      <th>2</th>\n",
       "      <td>2.0</td>\n",
       "      <td>1345.0</td>\n",
       "      <td>10139.0</td>\n",
       "      <td>0.0</td>\n",
       "      <td>2.0</td>\n",
       "      <td>5.0</td>\n",
       "      <td>407.0</td>\n",
       "      <td>79.0</td>\n",
       "    </tr>\n",
       "    <tr>\n",
       "      <th>3</th>\n",
       "      <td>3.0</td>\n",
       "      <td>2650.0</td>\n",
       "      <td>1068.0</td>\n",
       "      <td>1.0</td>\n",
       "      <td>1.0</td>\n",
       "      <td>29.0</td>\n",
       "      <td>345.0</td>\n",
       "      <td>229.0</td>\n",
       "    </tr>\n",
       "    <tr>\n",
       "      <th>4</th>\n",
       "      <td>4.0</td>\n",
       "      <td>3081.0</td>\n",
       "      <td>8815.0</td>\n",
       "      <td>1.0</td>\n",
       "      <td>2.0</td>\n",
       "      <td>21.0</td>\n",
       "      <td>633.0</td>\n",
       "      <td>238.0</td>\n",
       "    </tr>\n",
       "    <tr>\n",
       "      <th>...</th>\n",
       "      <td>...</td>\n",
       "      <td>...</td>\n",
       "      <td>...</td>\n",
       "      <td>...</td>\n",
       "      <td>...</td>\n",
       "      <td>...</td>\n",
       "      <td>...</td>\n",
       "      <td>...</td>\n",
       "    </tr>\n",
       "    <tr>\n",
       "      <th>11451</th>\n",
       "      <td>11451.0</td>\n",
       "      <td>3506.0</td>\n",
       "      <td>3303.0</td>\n",
       "      <td>0.0</td>\n",
       "      <td>2.0</td>\n",
       "      <td>19.0</td>\n",
       "      <td>407.0</td>\n",
       "      <td>4.0</td>\n",
       "    </tr>\n",
       "    <tr>\n",
       "      <th>11452</th>\n",
       "      <td>11452.0</td>\n",
       "      <td>3506.0</td>\n",
       "      <td>4748.0</td>\n",
       "      <td>0.0</td>\n",
       "      <td>0.0</td>\n",
       "      <td>20.0</td>\n",
       "      <td>407.0</td>\n",
       "      <td>33.0</td>\n",
       "    </tr>\n",
       "    <tr>\n",
       "      <th>11453</th>\n",
       "      <td>11453.0</td>\n",
       "      <td>3506.0</td>\n",
       "      <td>4498.0</td>\n",
       "      <td>0.0</td>\n",
       "      <td>0.0</td>\n",
       "      <td>5.0</td>\n",
       "      <td>407.0</td>\n",
       "      <td>102.0</td>\n",
       "    </tr>\n",
       "    <tr>\n",
       "      <th>11454</th>\n",
       "      <td>11454.0</td>\n",
       "      <td>2758.0</td>\n",
       "      <td>8556.0</td>\n",
       "      <td>1.0</td>\n",
       "      <td>2.0</td>\n",
       "      <td>38.0</td>\n",
       "      <td>439.0</td>\n",
       "      <td>28.0</td>\n",
       "    </tr>\n",
       "    <tr>\n",
       "      <th>11455</th>\n",
       "      <td>11455.0</td>\n",
       "      <td>1347.0</td>\n",
       "      <td>3377.0</td>\n",
       "      <td>1.0</td>\n",
       "      <td>1.0</td>\n",
       "      <td>31.0</td>\n",
       "      <td>541.0</td>\n",
       "      <td>118.0</td>\n",
       "    </tr>\n",
       "  </tbody>\n",
       "</table>\n",
       "<p>11456 rows × 8 columns</p>\n",
       "</div>"
      ],
      "text/plain": [
       "            ID    Name  DateTime  AnimalType  SexuponOutcome  AgeuponOutcome  \\\n",
       "0          0.0  3232.0    9037.0         1.0             0.0             6.0   \n",
       "1          1.0   644.0    3616.0         1.0             3.0            21.0   \n",
       "2          2.0  1345.0   10139.0         0.0             2.0             5.0   \n",
       "3          3.0  2650.0    1068.0         1.0             1.0            29.0   \n",
       "4          4.0  3081.0    8815.0         1.0             2.0            21.0   \n",
       "...        ...     ...       ...         ...             ...             ...   \n",
       "11451  11451.0  3506.0    3303.0         0.0             2.0            19.0   \n",
       "11452  11452.0  3506.0    4748.0         0.0             0.0            20.0   \n",
       "11453  11453.0  3506.0    4498.0         0.0             0.0             5.0   \n",
       "11454  11454.0  2758.0    8556.0         1.0             2.0            38.0   \n",
       "11455  11455.0  1347.0    3377.0         1.0             1.0            31.0   \n",
       "\n",
       "       Breed  Color  \n",
       "0      542.0  185.0  \n",
       "1      460.0   28.0  \n",
       "2      407.0   79.0  \n",
       "3      345.0  229.0  \n",
       "4      633.0  238.0  \n",
       "...      ...    ...  \n",
       "11451  407.0    4.0  \n",
       "11452  407.0   33.0  \n",
       "11453  407.0  102.0  \n",
       "11454  439.0   28.0  \n",
       "11455  541.0  118.0  \n",
       "\n",
       "[11456 rows x 8 columns]"
      ]
     },
     "execution_count": 94,
     "metadata": {},
     "output_type": "execute_result"
    }
   ],
   "source": [
    "data_test_encoded = pd.DataFrame(cat_transformer.fit_transform(data_test),)\n",
    "data_test_encoded"
   ]
  }
 ],
 "metadata": {
  "kernelspec": {
   "display_name": "Python 3 (ipykernel)",
   "language": "python",
   "name": "python3"
  },
  "language_info": {
   "codemirror_mode": {
    "name": "ipython",
    "version": 3
   },
   "file_extension": ".py",
   "mimetype": "text/x-python",
   "name": "python",
   "nbconvert_exporter": "python",
   "pygments_lexer": "ipython3",
   "version": "3.10.6"
  },
  "toc": {
   "base_numbering": 1,
   "nav_menu": {},
   "number_sections": true,
   "sideBar": true,
   "skip_h1_title": false,
   "title_cell": "Table of Contents",
   "title_sidebar": "Contents",
   "toc_cell": false,
   "toc_position": {},
   "toc_section_display": true,
   "toc_window_display": true
  },
  "varInspector": {
   "cols": {
    "lenName": 16,
    "lenType": 16,
    "lenVar": 40
   },
   "kernels_config": {
    "python": {
     "delete_cmd_postfix": "",
     "delete_cmd_prefix": "del ",
     "library": "var_list.py",
     "varRefreshCmd": "print(var_dic_list())"
    },
    "r": {
     "delete_cmd_postfix": ") ",
     "delete_cmd_prefix": "rm(",
     "library": "var_list.r",
     "varRefreshCmd": "cat(var_dic_list()) "
    }
   },
   "types_to_exclude": [
    "module",
    "function",
    "builtin_function_or_method",
    "instance",
    "_Feature"
   ],
   "window_display": false
  }
 },
 "nbformat": 4,
 "nbformat_minor": 5
}
