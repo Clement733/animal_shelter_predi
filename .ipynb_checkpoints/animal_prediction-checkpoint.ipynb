{
 "cells": [
  {
   "cell_type": "markdown",
   "id": "c5035c09",
   "metadata": {},
   "source": [
    "<img src=\"https://upload.wikimedia.org/wikipedia/commons/7/7c/Kaggle_logo.png\" align=\"left\" height=100 width=200>"
   ]
  },
  {
   "cell_type": "markdown",
   "id": "52b446c3",
   "metadata": {},
   "source": [
    "🚀 [**`Kaggle - Shelter Animal Outcomes`**](https://www.kaggle.com/competitions/shelter-animal-outcomes) 🚀"
   ]
  },
  {
   "cell_type": "markdown",
   "id": "65bd4316",
   "metadata": {},
   "source": [
    "# 📚 Libraries"
   ]
  },
  {
   "cell_type": "code",
   "execution_count": 1,
   "id": "c67ca8cc",
   "metadata": {},
   "outputs": [],
   "source": [
    "# DATA MANIPULTION \n",
    "import pandas as pd \n",
    "import numpy as np\n",
    "import gzip\n",
    "\n",
    "# DATA VIZ\n",
    "import matplotlib.pyplot as plt\n",
    "import seaborn as sns\n",
    "\n",
    "# STATS\n",
    "from scipy import stats\n",
    "from statsmodels.graphics.gofplots import qqplot\n",
    "\n",
    "# MACHINE LEARNING\n",
    "## PREPROCESSING\n",
    "from sklearn.impute import SimpleImputer, KNNImputer\n",
    "## MODEL SELECTION\n",
    "from sklearn.model_selection import train_test_split, cross_validate, cross_val_predict\n",
    "## SCALERS\n",
    "from sklearn.preprocessing import StandardScaler, RobustScaler, MinMaxScaler\n",
    "from sklearn.preprocessing import OneHotEncoder, OrdinalEncoder\n",
    "## CLASSIFICATION MODELS\n",
    "from sklearn.linear_model import LogisticRegression\n",
    "from sklearn.neighbors import KNeighborsClassifier\n",
    "from sklearn.svm import SVC\n",
    "## EVALUATION\n",
    "from sklearn.metrics import accuracy_score, recall_score\n",
    "from sklearn.metrics import confusion_matrix, ConfusionMatrixDisplay, classification_report\n",
    "from sklearn.metrics import precision_recall_curve\n",
    "## MODEL TUNING\n",
    "from sklearn.model_selection import GridSearchCV, RandomizedSearchCV"
   ]
  },
  {
   "cell_type": "markdown",
   "id": "bc480305",
   "metadata": {},
   "source": [
    "#  🐈 Dataset"
   ]
  },
  {
   "cell_type": "code",
   "execution_count": 2,
   "id": "e7b1d790",
   "metadata": {},
   "outputs": [
    {
     "data": {
      "text/html": [
       "<div>\n",
       "<style scoped>\n",
       "    .dataframe tbody tr th:only-of-type {\n",
       "        vertical-align: middle;\n",
       "    }\n",
       "\n",
       "    .dataframe tbody tr th {\n",
       "        vertical-align: top;\n",
       "    }\n",
       "\n",
       "    .dataframe thead th {\n",
       "        text-align: right;\n",
       "    }\n",
       "</style>\n",
       "<table border=\"1\" class=\"dataframe\">\n",
       "  <thead>\n",
       "    <tr style=\"text-align: right;\">\n",
       "      <th></th>\n",
       "      <th>AnimalID</th>\n",
       "      <th>Name</th>\n",
       "      <th>DateTime</th>\n",
       "      <th>OutcomeType</th>\n",
       "      <th>OutcomeSubtype</th>\n",
       "      <th>AnimalType</th>\n",
       "      <th>SexuponOutcome</th>\n",
       "      <th>AgeuponOutcome</th>\n",
       "      <th>Breed</th>\n",
       "      <th>Color</th>\n",
       "    </tr>\n",
       "  </thead>\n",
       "  <tbody>\n",
       "    <tr>\n",
       "      <th>0</th>\n",
       "      <td>A671945</td>\n",
       "      <td>Hambone</td>\n",
       "      <td>2014-02-12 18:22:00</td>\n",
       "      <td>Return_to_owner</td>\n",
       "      <td>NaN</td>\n",
       "      <td>Dog</td>\n",
       "      <td>Neutered Male</td>\n",
       "      <td>1 year</td>\n",
       "      <td>Shetland Sheepdog Mix</td>\n",
       "      <td>Brown/White</td>\n",
       "    </tr>\n",
       "    <tr>\n",
       "      <th>1</th>\n",
       "      <td>A656520</td>\n",
       "      <td>Emily</td>\n",
       "      <td>2013-10-13 12:44:00</td>\n",
       "      <td>Euthanasia</td>\n",
       "      <td>Suffering</td>\n",
       "      <td>Cat</td>\n",
       "      <td>Spayed Female</td>\n",
       "      <td>1 year</td>\n",
       "      <td>Domestic Shorthair Mix</td>\n",
       "      <td>Cream Tabby</td>\n",
       "    </tr>\n",
       "    <tr>\n",
       "      <th>2</th>\n",
       "      <td>A686464</td>\n",
       "      <td>Pearce</td>\n",
       "      <td>2015-01-31 12:28:00</td>\n",
       "      <td>Adoption</td>\n",
       "      <td>Foster</td>\n",
       "      <td>Dog</td>\n",
       "      <td>Neutered Male</td>\n",
       "      <td>2 years</td>\n",
       "      <td>Pit Bull Mix</td>\n",
       "      <td>Blue/White</td>\n",
       "    </tr>\n",
       "    <tr>\n",
       "      <th>3</th>\n",
       "      <td>A683430</td>\n",
       "      <td>NaN</td>\n",
       "      <td>2014-07-11 19:09:00</td>\n",
       "      <td>Transfer</td>\n",
       "      <td>Partner</td>\n",
       "      <td>Cat</td>\n",
       "      <td>Intact Male</td>\n",
       "      <td>3 weeks</td>\n",
       "      <td>Domestic Shorthair Mix</td>\n",
       "      <td>Blue Cream</td>\n",
       "    </tr>\n",
       "    <tr>\n",
       "      <th>4</th>\n",
       "      <td>A667013</td>\n",
       "      <td>NaN</td>\n",
       "      <td>2013-11-15 12:52:00</td>\n",
       "      <td>Transfer</td>\n",
       "      <td>Partner</td>\n",
       "      <td>Dog</td>\n",
       "      <td>Neutered Male</td>\n",
       "      <td>2 years</td>\n",
       "      <td>Lhasa Apso/Miniature Poodle</td>\n",
       "      <td>Tan</td>\n",
       "    </tr>\n",
       "  </tbody>\n",
       "</table>\n",
       "</div>"
      ],
      "text/plain": [
       "  AnimalID     Name             DateTime      OutcomeType OutcomeSubtype  \\\n",
       "0  A671945  Hambone  2014-02-12 18:22:00  Return_to_owner            NaN   \n",
       "1  A656520    Emily  2013-10-13 12:44:00       Euthanasia      Suffering   \n",
       "2  A686464   Pearce  2015-01-31 12:28:00         Adoption         Foster   \n",
       "3  A683430      NaN  2014-07-11 19:09:00         Transfer        Partner   \n",
       "4  A667013      NaN  2013-11-15 12:52:00         Transfer        Partner   \n",
       "\n",
       "  AnimalType SexuponOutcome AgeuponOutcome                        Breed  \\\n",
       "0        Dog  Neutered Male         1 year        Shetland Sheepdog Mix   \n",
       "1        Cat  Spayed Female         1 year       Domestic Shorthair Mix   \n",
       "2        Dog  Neutered Male        2 years                 Pit Bull Mix   \n",
       "3        Cat    Intact Male        3 weeks       Domestic Shorthair Mix   \n",
       "4        Dog  Neutered Male        2 years  Lhasa Apso/Miniature Poodle   \n",
       "\n",
       "         Color  \n",
       "0  Brown/White  \n",
       "1  Cream Tabby  \n",
       "2   Blue/White  \n",
       "3   Blue Cream  \n",
       "4          Tan  "
      ]
     },
     "execution_count": 2,
     "metadata": {},
     "output_type": "execute_result"
    }
   ],
   "source": [
    "data_train = pd.read_csv('train.csv')\n",
    "data_train.head()"
   ]
  },
  {
   "cell_type": "code",
   "execution_count": 3,
   "id": "7235b8e8",
   "metadata": {},
   "outputs": [
    {
     "data": {
      "text/html": [
       "<div>\n",
       "<style scoped>\n",
       "    .dataframe tbody tr th:only-of-type {\n",
       "        vertical-align: middle;\n",
       "    }\n",
       "\n",
       "    .dataframe tbody tr th {\n",
       "        vertical-align: top;\n",
       "    }\n",
       "\n",
       "    .dataframe thead th {\n",
       "        text-align: right;\n",
       "    }\n",
       "</style>\n",
       "<table border=\"1\" class=\"dataframe\">\n",
       "  <thead>\n",
       "    <tr style=\"text-align: right;\">\n",
       "      <th></th>\n",
       "      <th>ID</th>\n",
       "      <th>Name</th>\n",
       "      <th>DateTime</th>\n",
       "      <th>AnimalType</th>\n",
       "      <th>SexuponOutcome</th>\n",
       "      <th>AgeuponOutcome</th>\n",
       "      <th>Breed</th>\n",
       "      <th>Color</th>\n",
       "    </tr>\n",
       "  </thead>\n",
       "  <tbody>\n",
       "    <tr>\n",
       "      <th>0</th>\n",
       "      <td>1</td>\n",
       "      <td>Summer</td>\n",
       "      <td>2015-10-12 12:15:00</td>\n",
       "      <td>Dog</td>\n",
       "      <td>Intact Female</td>\n",
       "      <td>10 months</td>\n",
       "      <td>Labrador Retriever Mix</td>\n",
       "      <td>Red/White</td>\n",
       "    </tr>\n",
       "    <tr>\n",
       "      <th>1</th>\n",
       "      <td>2</td>\n",
       "      <td>Cheyenne</td>\n",
       "      <td>2014-07-26 17:59:00</td>\n",
       "      <td>Dog</td>\n",
       "      <td>Spayed Female</td>\n",
       "      <td>2 years</td>\n",
       "      <td>German Shepherd/Siberian Husky</td>\n",
       "      <td>Black/Tan</td>\n",
       "    </tr>\n",
       "    <tr>\n",
       "      <th>2</th>\n",
       "      <td>3</td>\n",
       "      <td>Gus</td>\n",
       "      <td>2016-01-13 12:20:00</td>\n",
       "      <td>Cat</td>\n",
       "      <td>Neutered Male</td>\n",
       "      <td>1 year</td>\n",
       "      <td>Domestic Shorthair Mix</td>\n",
       "      <td>Brown Tabby</td>\n",
       "    </tr>\n",
       "    <tr>\n",
       "      <th>3</th>\n",
       "      <td>4</td>\n",
       "      <td>Pongo</td>\n",
       "      <td>2013-12-28 18:12:00</td>\n",
       "      <td>Dog</td>\n",
       "      <td>Intact Male</td>\n",
       "      <td>4 months</td>\n",
       "      <td>Collie Smooth Mix</td>\n",
       "      <td>Tricolor</td>\n",
       "    </tr>\n",
       "    <tr>\n",
       "      <th>4</th>\n",
       "      <td>5</td>\n",
       "      <td>Skooter</td>\n",
       "      <td>2015-09-24 17:59:00</td>\n",
       "      <td>Dog</td>\n",
       "      <td>Neutered Male</td>\n",
       "      <td>2 years</td>\n",
       "      <td>Miniature Poodle Mix</td>\n",
       "      <td>White</td>\n",
       "    </tr>\n",
       "  </tbody>\n",
       "</table>\n",
       "</div>"
      ],
      "text/plain": [
       "   ID      Name             DateTime AnimalType SexuponOutcome AgeuponOutcome  \\\n",
       "0   1    Summer  2015-10-12 12:15:00        Dog  Intact Female      10 months   \n",
       "1   2  Cheyenne  2014-07-26 17:59:00        Dog  Spayed Female        2 years   \n",
       "2   3       Gus  2016-01-13 12:20:00        Cat  Neutered Male         1 year   \n",
       "3   4     Pongo  2013-12-28 18:12:00        Dog    Intact Male       4 months   \n",
       "4   5   Skooter  2015-09-24 17:59:00        Dog  Neutered Male        2 years   \n",
       "\n",
       "                            Breed        Color  \n",
       "0          Labrador Retriever Mix    Red/White  \n",
       "1  German Shepherd/Siberian Husky    Black/Tan  \n",
       "2          Domestic Shorthair Mix  Brown Tabby  \n",
       "3               Collie Smooth Mix     Tricolor  \n",
       "4            Miniature Poodle Mix        White  "
      ]
     },
     "execution_count": 3,
     "metadata": {},
     "output_type": "execute_result"
    }
   ],
   "source": [
    "data_test = pd.read_csv('test.csv')\n",
    "data_test.head()"
   ]
  },
  {
   "cell_type": "code",
   "execution_count": 4,
   "id": "f8d20bc7",
   "metadata": {},
   "outputs": [
    {
     "name": "stdout",
     "output_type": "stream",
     "text": [
      "The shape of the data_train dataset is: (26729, 10)\n",
      "The shape of the data_test dataset is: (11456, 8)\n"
     ]
    }
   ],
   "source": [
    "print(f'The shape of the data_train dataset is: {data_train.shape}')\n",
    "print(f'The shape of the data_test dataset is: {data_test.shape}')"
   ]
  },
  {
   "cell_type": "code",
   "execution_count": 5,
   "id": "71357f41",
   "metadata": {
    "scrolled": true
   },
   "outputs": [
    {
     "name": "stdout",
     "output_type": "stream",
     "text": [
      "object    10\n",
      "dtype: int64\n",
      "----------------------------------------------------------------------------------------------------\n",
      "object    7\n",
      "int64     1\n",
      "dtype: int64\n"
     ]
    }
   ],
   "source": [
    "print(data_train.dtypes.value_counts())\n",
    "print('--'*50)\n",
    "print(data_test.dtypes.value_counts())"
   ]
  },
  {
   "cell_type": "markdown",
   "id": "2f102376",
   "metadata": {},
   "source": [
    "# 🧹 Cleaning the dataset"
   ]
  },
  {
   "cell_type": "markdown",
   "id": "7f2dc189",
   "metadata": {},
   "source": [
    "## 👥 Duplicates?"
   ]
  },
  {
   "cell_type": "code",
   "execution_count": 6,
   "id": "654c6123",
   "metadata": {},
   "outputs": [
    {
     "name": "stdout",
     "output_type": "stream",
     "text": [
      "0\n",
      "0\n"
     ]
    }
   ],
   "source": [
    "print(data_train.duplicated().sum())\n",
    "print(data_test.duplicated().sum())"
   ]
  },
  {
   "cell_type": "markdown",
   "id": "a45060b3",
   "metadata": {},
   "source": [
    "## ❓ Missing values?"
   ]
  },
  {
   "cell_type": "code",
   "execution_count": 7,
   "id": "b3e68d0e",
   "metadata": {},
   "outputs": [
    {
     "data": {
      "text/plain": [
       "<AxesSubplot:>"
      ]
     },
     "execution_count": 7,
     "metadata": {},
     "output_type": "execute_result"
    },
    {
     "data": {
      "image/png": "[encoded data removed]",
      "text/plain": [
       "<Figure size 640x480 with 1 Axes>"
      ]
     },
     "metadata": {},
     "output_type": "display_data"
    }
   ],
   "source": [
    "total_missing_data_train = (data_train.isna().sum()/len(data_train)).sort_values(ascending=False)\n",
    "missing_mask_train = total_missing_data_train > 0\n",
    "real_missing_values_train = total_missing_data_train[missing_mask_train]\n",
    "real_missing_values_train.plot.bar()"
   ]
  },
  {
   "cell_type": "code",
   "execution_count": 8,
   "id": "d8402763",
   "metadata": {},
   "outputs": [
    {
     "data": {
      "text/plain": [
       "<AxesSubplot:>"
      ]
     },
     "execution_count": 8,
     "metadata": {},
     "output_type": "execute_result"
    },
    {
     "data": {
      "image/png": "[encoded data removed]",
      "text/plain": [
       "<Figure size 640x480 with 1 Axes>"
      ]
     },
     "metadata": {},
     "output_type": "display_data"
    }
   ],
   "source": [
    "total_missing_data_test = (data_test.isna().sum()/len(data_test)).sort_values(ascending=False)\n",
    "missing_mask_test = total_missing_data_test > 0\n",
    "real_missing_values_test = total_missing_data_test[missing_mask_test]\n",
    "real_missing_values_test.plot.bar()"
   ]
  },
  {
   "cell_type": "markdown",
   "id": "b7fd7c82",
   "metadata": {},
   "source": [
    "**`Data_train 'OutcomeSubtype' & 'Name'`**"
   ]
  },
  {
   "cell_type": "code",
   "execution_count": 9,
   "id": "c4a8f936",
   "metadata": {},
   "outputs": [
    {
     "data": {
      "text/plain": [
       "Partner                7816\n",
       "Foster                 1800\n",
       "SCRP                   1599\n",
       "Suffering              1002\n",
       "Aggressive              320\n",
       "Offsite                 165\n",
       "In Kennel               114\n",
       "Behavior                 86\n",
       "Rabies Risk              74\n",
       "Medical                  66\n",
       "In Foster                52\n",
       "Enroute                   8\n",
       "Court/Investigation       6\n",
       "At Vet                    4\n",
       "In Surgery                3\n",
       "Barn                      2\n",
       "Name: OutcomeSubtype, dtype: int64"
      ]
     },
     "execution_count": 9,
     "metadata": {},
     "output_type": "execute_result"
    }
   ],
   "source": [
    "data_train[\"OutcomeSubtype\"].value_counts()"
   ]
  },
  {
   "cell_type": "code",
   "execution_count": 10,
   "id": "673d2385",
   "metadata": {},
   "outputs": [],
   "source": [
    "data_train.fillna('Unknown', inplace=True)"
   ]
  },
  {
   "cell_type": "code",
   "execution_count": 11,
   "id": "5438b865",
   "metadata": {
    "scrolled": true
   },
   "outputs": [
    {
     "data": {
      "text/plain": [
       "Unknown                13612\n",
       "Partner                 7816\n",
       "Foster                  1800\n",
       "SCRP                    1599\n",
       "Suffering               1002\n",
       "Aggressive               320\n",
       "Offsite                  165\n",
       "In Kennel                114\n",
       "Behavior                  86\n",
       "Rabies Risk               74\n",
       "Medical                   66\n",
       "In Foster                 52\n",
       "Enroute                    8\n",
       "Court/Investigation        6\n",
       "At Vet                     4\n",
       "In Surgery                 3\n",
       "Barn                       2\n",
       "Name: OutcomeSubtype, dtype: int64"
      ]
     },
     "execution_count": 11,
     "metadata": {},
     "output_type": "execute_result"
    }
   ],
   "source": [
    "data_train['OutcomeSubtype'].value_counts()"
   ]
  },
  {
   "cell_type": "code",
   "execution_count": 12,
   "id": "a79f8d33",
   "metadata": {},
   "outputs": [
    {
     "data": {
      "text/plain": [
       "Dog    15595\n",
       "Cat    11134\n",
       "Name: AnimalType, dtype: int64"
      ]
     },
     "execution_count": 12,
     "metadata": {},
     "output_type": "execute_result"
    }
   ],
   "source": [
    "data_train['AnimalType'].value_counts()"
   ]
  },
  {
   "cell_type": "markdown",
   "id": "cba818ec",
   "metadata": {},
   "source": [
    "We can see there are 2 types of animals: cats 🐈 and dogs 🐕. We can thus split the dataset in two to predict the best outcome for each."
   ]
  },
  {
   "cell_type": "code",
   "execution_count": 13,
   "id": "e9aa426b",
   "metadata": {},
   "outputs": [
    {
     "data": {
      "text/html": [
       "<div>\n",
       "<style scoped>\n",
       "    .dataframe tbody tr th:only-of-type {\n",
       "        vertical-align: middle;\n",
       "    }\n",
       "\n",
       "    .dataframe tbody tr th {\n",
       "        vertical-align: top;\n",
       "    }\n",
       "\n",
       "    .dataframe thead th {\n",
       "        text-align: right;\n",
       "    }\n",
       "</style>\n",
       "<table border=\"1\" class=\"dataframe\">\n",
       "  <thead>\n",
       "    <tr style=\"text-align: right;\">\n",
       "      <th></th>\n",
       "      <th>AnimalID</th>\n",
       "      <th>Name</th>\n",
       "      <th>DateTime</th>\n",
       "      <th>OutcomeType</th>\n",
       "      <th>OutcomeSubtype</th>\n",
       "      <th>AnimalType</th>\n",
       "      <th>SexuponOutcome</th>\n",
       "      <th>AgeuponOutcome</th>\n",
       "      <th>Breed</th>\n",
       "      <th>Color</th>\n",
       "    </tr>\n",
       "  </thead>\n",
       "  <tbody>\n",
       "    <tr>\n",
       "      <th>0</th>\n",
       "      <td>A671945</td>\n",
       "      <td>Hambone</td>\n",
       "      <td>2014-02-12 18:22:00</td>\n",
       "      <td>Return_to_owner</td>\n",
       "      <td>Unknown</td>\n",
       "      <td>Dog</td>\n",
       "      <td>Neutered Male</td>\n",
       "      <td>1 year</td>\n",
       "      <td>Shetland Sheepdog Mix</td>\n",
       "      <td>Brown/White</td>\n",
       "    </tr>\n",
       "    <tr>\n",
       "      <th>2</th>\n",
       "      <td>A686464</td>\n",
       "      <td>Pearce</td>\n",
       "      <td>2015-01-31 12:28:00</td>\n",
       "      <td>Adoption</td>\n",
       "      <td>Foster</td>\n",
       "      <td>Dog</td>\n",
       "      <td>Neutered Male</td>\n",
       "      <td>2 years</td>\n",
       "      <td>Pit Bull Mix</td>\n",
       "      <td>Blue/White</td>\n",
       "    </tr>\n",
       "    <tr>\n",
       "      <th>4</th>\n",
       "      <td>A667013</td>\n",
       "      <td>Unknown</td>\n",
       "      <td>2013-11-15 12:52:00</td>\n",
       "      <td>Transfer</td>\n",
       "      <td>Partner</td>\n",
       "      <td>Dog</td>\n",
       "      <td>Neutered Male</td>\n",
       "      <td>2 years</td>\n",
       "      <td>Lhasa Apso/Miniature Poodle</td>\n",
       "      <td>Tan</td>\n",
       "    </tr>\n",
       "    <tr>\n",
       "      <th>5</th>\n",
       "      <td>A677334</td>\n",
       "      <td>Elsa</td>\n",
       "      <td>2014-04-25 13:04:00</td>\n",
       "      <td>Transfer</td>\n",
       "      <td>Partner</td>\n",
       "      <td>Dog</td>\n",
       "      <td>Intact Female</td>\n",
       "      <td>1 month</td>\n",
       "      <td>Cairn Terrier/Chihuahua Shorthair</td>\n",
       "      <td>Black/Tan</td>\n",
       "    </tr>\n",
       "    <tr>\n",
       "      <th>8</th>\n",
       "      <td>A671784</td>\n",
       "      <td>Lucy</td>\n",
       "      <td>2014-02-04 17:17:00</td>\n",
       "      <td>Adoption</td>\n",
       "      <td>Unknown</td>\n",
       "      <td>Dog</td>\n",
       "      <td>Spayed Female</td>\n",
       "      <td>5 months</td>\n",
       "      <td>American Pit Bull Terrier Mix</td>\n",
       "      <td>Red/White</td>\n",
       "    </tr>\n",
       "    <tr>\n",
       "      <th>...</th>\n",
       "      <td>...</td>\n",
       "      <td>...</td>\n",
       "      <td>...</td>\n",
       "      <td>...</td>\n",
       "      <td>...</td>\n",
       "      <td>...</td>\n",
       "      <td>...</td>\n",
       "      <td>...</td>\n",
       "      <td>...</td>\n",
       "      <td>...</td>\n",
       "    </tr>\n",
       "    <tr>\n",
       "      <th>26716</th>\n",
       "      <td>A697158</td>\n",
       "      <td>Max</td>\n",
       "      <td>2015-05-02 21:04:00</td>\n",
       "      <td>Adoption</td>\n",
       "      <td>Offsite</td>\n",
       "      <td>Dog</td>\n",
       "      <td>Neutered Male</td>\n",
       "      <td>2 months</td>\n",
       "      <td>Newfoundland Mix</td>\n",
       "      <td>White/Black</td>\n",
       "    </tr>\n",
       "    <tr>\n",
       "      <th>26717</th>\n",
       "      <td>A519949</td>\n",
       "      <td>Bella</td>\n",
       "      <td>2014-06-30 17:34:00</td>\n",
       "      <td>Return_to_owner</td>\n",
       "      <td>Unknown</td>\n",
       "      <td>Dog</td>\n",
       "      <td>Spayed Female</td>\n",
       "      <td>9 years</td>\n",
       "      <td>Bullmastiff Mix</td>\n",
       "      <td>Black</td>\n",
       "    </tr>\n",
       "    <tr>\n",
       "      <th>26718</th>\n",
       "      <td>A701044</td>\n",
       "      <td>Unknown</td>\n",
       "      <td>2015-04-28 14:26:00</td>\n",
       "      <td>Adoption</td>\n",
       "      <td>Unknown</td>\n",
       "      <td>Dog</td>\n",
       "      <td>Neutered Male</td>\n",
       "      <td>2 months</td>\n",
       "      <td>Siberian Husky/German Shepherd</td>\n",
       "      <td>Black/Tricolor</td>\n",
       "    </tr>\n",
       "    <tr>\n",
       "      <th>26723</th>\n",
       "      <td>A716997</td>\n",
       "      <td>Zeus</td>\n",
       "      <td>2016-01-29 18:52:00</td>\n",
       "      <td>Adoption</td>\n",
       "      <td>Unknown</td>\n",
       "      <td>Dog</td>\n",
       "      <td>Neutered Male</td>\n",
       "      <td>6 years</td>\n",
       "      <td>Staffordshire Mix</td>\n",
       "      <td>Blue/White</td>\n",
       "    </tr>\n",
       "    <tr>\n",
       "      <th>26726</th>\n",
       "      <td>A698128</td>\n",
       "      <td>Zeus</td>\n",
       "      <td>2015-03-09 13:33:00</td>\n",
       "      <td>Adoption</td>\n",
       "      <td>Unknown</td>\n",
       "      <td>Dog</td>\n",
       "      <td>Neutered Male</td>\n",
       "      <td>4 years</td>\n",
       "      <td>Old English Bulldog Mix</td>\n",
       "      <td>White/Tan</td>\n",
       "    </tr>\n",
       "  </tbody>\n",
       "</table>\n",
       "<p>15595 rows × 10 columns</p>\n",
       "</div>"
      ],
      "text/plain": [
       "      AnimalID     Name             DateTime      OutcomeType OutcomeSubtype  \\\n",
       "0      A671945  Hambone  2014-02-12 18:22:00  Return_to_owner        Unknown   \n",
       "2      A686464   Pearce  2015-01-31 12:28:00         Adoption         Foster   \n",
       "4      A667013  Unknown  2013-11-15 12:52:00         Transfer        Partner   \n",
       "5      A677334     Elsa  2014-04-25 13:04:00         Transfer        Partner   \n",
       "8      A671784     Lucy  2014-02-04 17:17:00         Adoption        Unknown   \n",
       "...        ...      ...                  ...              ...            ...   \n",
       "26716  A697158      Max  2015-05-02 21:04:00         Adoption        Offsite   \n",
       "26717  A519949    Bella  2014-06-30 17:34:00  Return_to_owner        Unknown   \n",
       "26718  A701044  Unknown  2015-04-28 14:26:00         Adoption        Unknown   \n",
       "26723  A716997     Zeus  2016-01-29 18:52:00         Adoption        Unknown   \n",
       "26726  A698128     Zeus  2015-03-09 13:33:00         Adoption        Unknown   \n",
       "\n",
       "      AnimalType SexuponOutcome AgeuponOutcome  \\\n",
       "0            Dog  Neutered Male         1 year   \n",
       "2            Dog  Neutered Male        2 years   \n",
       "4            Dog  Neutered Male        2 years   \n",
       "5            Dog  Intact Female        1 month   \n",
       "8            Dog  Spayed Female       5 months   \n",
       "...          ...            ...            ...   \n",
       "26716        Dog  Neutered Male       2 months   \n",
       "26717        Dog  Spayed Female        9 years   \n",
       "26718        Dog  Neutered Male       2 months   \n",
       "26723        Dog  Neutered Male        6 years   \n",
       "26726        Dog  Neutered Male        4 years   \n",
       "\n",
       "                                   Breed           Color  \n",
       "0                  Shetland Sheepdog Mix     Brown/White  \n",
       "2                           Pit Bull Mix      Blue/White  \n",
       "4            Lhasa Apso/Miniature Poodle             Tan  \n",
       "5      Cairn Terrier/Chihuahua Shorthair       Black/Tan  \n",
       "8          American Pit Bull Terrier Mix       Red/White  \n",
       "...                                  ...             ...  \n",
       "26716                   Newfoundland Mix     White/Black  \n",
       "26717                    Bullmastiff Mix           Black  \n",
       "26718     Siberian Husky/German Shepherd  Black/Tricolor  \n",
       "26723                  Staffordshire Mix      Blue/White  \n",
       "26726            Old English Bulldog Mix       White/Tan  \n",
       "\n",
       "[15595 rows x 10 columns]"
      ]
     },
     "execution_count": 13,
     "metadata": {},
     "output_type": "execute_result"
    }
   ],
   "source": [
    "train_dogs = data_train[data_train['AnimalType'] == 'Dog']\n",
    "train_dogs"
   ]
  },
  {
   "cell_type": "code",
   "execution_count": 14,
   "id": "1625d7d5",
   "metadata": {},
   "outputs": [
    {
     "data": {
      "text/plain": [
       "Unknown                9989\n",
       "Partner                3911\n",
       "Foster                  705\n",
       "Suffering               350\n",
       "Aggressive              317\n",
       "Offsite                 101\n",
       "Behavior                 86\n",
       "Rabies Risk              46\n",
       "Medical                  40\n",
       "In Kennel                30\n",
       "In Foster                 7\n",
       "Court/Investigation       6\n",
       "In Surgery                3\n",
       "Enroute                   2\n",
       "At Vet                    2\n",
       "Name: OutcomeSubtype, dtype: int64"
      ]
     },
     "execution_count": 14,
     "metadata": {},
     "output_type": "execute_result"
    }
   ],
   "source": [
    "train_dogs['OutcomeSubtype'].value_counts()"
   ]
  },
  {
   "cell_type": "code",
   "execution_count": 15,
   "id": "20b31a1c",
   "metadata": {
    "scrolled": false
   },
   "outputs": [
    {
     "data": {
      "text/html": [
       "<div>\n",
       "<style scoped>\n",
       "    .dataframe tbody tr th:only-of-type {\n",
       "        vertical-align: middle;\n",
       "    }\n",
       "\n",
       "    .dataframe tbody tr th {\n",
       "        vertical-align: top;\n",
       "    }\n",
       "\n",
       "    .dataframe thead th {\n",
       "        text-align: right;\n",
       "    }\n",
       "</style>\n",
       "<table border=\"1\" class=\"dataframe\">\n",
       "  <thead>\n",
       "    <tr style=\"text-align: right;\">\n",
       "      <th></th>\n",
       "      <th>AnimalID</th>\n",
       "      <th>Name</th>\n",
       "      <th>DateTime</th>\n",
       "      <th>OutcomeType</th>\n",
       "      <th>OutcomeSubtype</th>\n",
       "      <th>AnimalType</th>\n",
       "      <th>SexuponOutcome</th>\n",
       "      <th>AgeuponOutcome</th>\n",
       "      <th>Breed</th>\n",
       "      <th>Color</th>\n",
       "    </tr>\n",
       "  </thead>\n",
       "  <tbody>\n",
       "    <tr>\n",
       "      <th>1</th>\n",
       "      <td>A656520</td>\n",
       "      <td>Emily</td>\n",
       "      <td>2013-10-13 12:44:00</td>\n",
       "      <td>Euthanasia</td>\n",
       "      <td>Suffering</td>\n",
       "      <td>Cat</td>\n",
       "      <td>Spayed Female</td>\n",
       "      <td>1 year</td>\n",
       "      <td>Domestic Shorthair Mix</td>\n",
       "      <td>Cream Tabby</td>\n",
       "    </tr>\n",
       "    <tr>\n",
       "      <th>3</th>\n",
       "      <td>A683430</td>\n",
       "      <td>Unknown</td>\n",
       "      <td>2014-07-11 19:09:00</td>\n",
       "      <td>Transfer</td>\n",
       "      <td>Partner</td>\n",
       "      <td>Cat</td>\n",
       "      <td>Intact Male</td>\n",
       "      <td>3 weeks</td>\n",
       "      <td>Domestic Shorthair Mix</td>\n",
       "      <td>Blue Cream</td>\n",
       "    </tr>\n",
       "    <tr>\n",
       "      <th>6</th>\n",
       "      <td>A699218</td>\n",
       "      <td>Jimmy</td>\n",
       "      <td>2015-03-28 13:11:00</td>\n",
       "      <td>Transfer</td>\n",
       "      <td>Partner</td>\n",
       "      <td>Cat</td>\n",
       "      <td>Intact Male</td>\n",
       "      <td>3 weeks</td>\n",
       "      <td>Domestic Shorthair Mix</td>\n",
       "      <td>Blue Tabby</td>\n",
       "    </tr>\n",
       "    <tr>\n",
       "      <th>7</th>\n",
       "      <td>A701489</td>\n",
       "      <td>Unknown</td>\n",
       "      <td>2015-04-30 17:02:00</td>\n",
       "      <td>Transfer</td>\n",
       "      <td>Partner</td>\n",
       "      <td>Cat</td>\n",
       "      <td>Unknown</td>\n",
       "      <td>3 weeks</td>\n",
       "      <td>Domestic Shorthair Mix</td>\n",
       "      <td>Brown Tabby</td>\n",
       "    </tr>\n",
       "    <tr>\n",
       "      <th>10</th>\n",
       "      <td>A668402</td>\n",
       "      <td>Unknown</td>\n",
       "      <td>2013-12-05 15:50:00</td>\n",
       "      <td>Transfer</td>\n",
       "      <td>SCRP</td>\n",
       "      <td>Cat</td>\n",
       "      <td>Unknown</td>\n",
       "      <td>2 years</td>\n",
       "      <td>Domestic Shorthair Mix</td>\n",
       "      <td>Black</td>\n",
       "    </tr>\n",
       "    <tr>\n",
       "      <th>...</th>\n",
       "      <td>...</td>\n",
       "      <td>...</td>\n",
       "      <td>...</td>\n",
       "      <td>...</td>\n",
       "      <td>...</td>\n",
       "      <td>...</td>\n",
       "      <td>...</td>\n",
       "      <td>...</td>\n",
       "      <td>...</td>\n",
       "      <td>...</td>\n",
       "    </tr>\n",
       "    <tr>\n",
       "      <th>26722</th>\n",
       "      <td>A687056</td>\n",
       "      <td>Unknown</td>\n",
       "      <td>2014-08-31 09:00:00</td>\n",
       "      <td>Transfer</td>\n",
       "      <td>SCRP</td>\n",
       "      <td>Cat</td>\n",
       "      <td>Intact Male</td>\n",
       "      <td>5 months</td>\n",
       "      <td>Domestic Shorthair Mix</td>\n",
       "      <td>Orange Tabby</td>\n",
       "    </tr>\n",
       "    <tr>\n",
       "      <th>26724</th>\n",
       "      <td>A702446</td>\n",
       "      <td>Unknown</td>\n",
       "      <td>2015-05-14 11:56:00</td>\n",
       "      <td>Transfer</td>\n",
       "      <td>Partner</td>\n",
       "      <td>Cat</td>\n",
       "      <td>Intact Male</td>\n",
       "      <td>1 month</td>\n",
       "      <td>Domestic Shorthair Mix</td>\n",
       "      <td>Brown Tabby/White</td>\n",
       "    </tr>\n",
       "    <tr>\n",
       "      <th>26725</th>\n",
       "      <td>A718934</td>\n",
       "      <td>Unknown</td>\n",
       "      <td>2016-01-20 18:59:00</td>\n",
       "      <td>Transfer</td>\n",
       "      <td>SCRP</td>\n",
       "      <td>Cat</td>\n",
       "      <td>Spayed Female</td>\n",
       "      <td>3 months</td>\n",
       "      <td>Domestic Shorthair Mix</td>\n",
       "      <td>Brown Tabby</td>\n",
       "    </tr>\n",
       "    <tr>\n",
       "      <th>26727</th>\n",
       "      <td>A677478</td>\n",
       "      <td>Unknown</td>\n",
       "      <td>2014-04-27 12:22:00</td>\n",
       "      <td>Transfer</td>\n",
       "      <td>Partner</td>\n",
       "      <td>Cat</td>\n",
       "      <td>Intact Male</td>\n",
       "      <td>4 weeks</td>\n",
       "      <td>Domestic Shorthair Mix</td>\n",
       "      <td>Black</td>\n",
       "    </tr>\n",
       "    <tr>\n",
       "      <th>26728</th>\n",
       "      <td>A706629</td>\n",
       "      <td>Unknown</td>\n",
       "      <td>2015-07-02 09:00:00</td>\n",
       "      <td>Transfer</td>\n",
       "      <td>SCRP</td>\n",
       "      <td>Cat</td>\n",
       "      <td>Intact Male</td>\n",
       "      <td>1 year</td>\n",
       "      <td>Domestic Shorthair Mix</td>\n",
       "      <td>Brown Tabby/White</td>\n",
       "    </tr>\n",
       "  </tbody>\n",
       "</table>\n",
       "<p>11134 rows × 10 columns</p>\n",
       "</div>"
      ],
      "text/plain": [
       "      AnimalID     Name             DateTime OutcomeType OutcomeSubtype  \\\n",
       "1      A656520    Emily  2013-10-13 12:44:00  Euthanasia      Suffering   \n",
       "3      A683430  Unknown  2014-07-11 19:09:00    Transfer        Partner   \n",
       "6      A699218    Jimmy  2015-03-28 13:11:00    Transfer        Partner   \n",
       "7      A701489  Unknown  2015-04-30 17:02:00    Transfer        Partner   \n",
       "10     A668402  Unknown  2013-12-05 15:50:00    Transfer           SCRP   \n",
       "...        ...      ...                  ...         ...            ...   \n",
       "26722  A687056  Unknown  2014-08-31 09:00:00    Transfer           SCRP   \n",
       "26724  A702446  Unknown  2015-05-14 11:56:00    Transfer        Partner   \n",
       "26725  A718934  Unknown  2016-01-20 18:59:00    Transfer           SCRP   \n",
       "26727  A677478  Unknown  2014-04-27 12:22:00    Transfer        Partner   \n",
       "26728  A706629  Unknown  2015-07-02 09:00:00    Transfer           SCRP   \n",
       "\n",
       "      AnimalType SexuponOutcome AgeuponOutcome                   Breed  \\\n",
       "1            Cat  Spayed Female         1 year  Domestic Shorthair Mix   \n",
       "3            Cat    Intact Male        3 weeks  Domestic Shorthair Mix   \n",
       "6            Cat    Intact Male        3 weeks  Domestic Shorthair Mix   \n",
       "7            Cat        Unknown        3 weeks  Domestic Shorthair Mix   \n",
       "10           Cat        Unknown        2 years  Domestic Shorthair Mix   \n",
       "...          ...            ...            ...                     ...   \n",
       "26722        Cat    Intact Male       5 months  Domestic Shorthair Mix   \n",
       "26724        Cat    Intact Male        1 month  Domestic Shorthair Mix   \n",
       "26725        Cat  Spayed Female       3 months  Domestic Shorthair Mix   \n",
       "26727        Cat    Intact Male        4 weeks  Domestic Shorthair Mix   \n",
       "26728        Cat    Intact Male         1 year  Domestic Shorthair Mix   \n",
       "\n",
       "                   Color  \n",
       "1            Cream Tabby  \n",
       "3             Blue Cream  \n",
       "6             Blue Tabby  \n",
       "7            Brown Tabby  \n",
       "10                 Black  \n",
       "...                  ...  \n",
       "26722       Orange Tabby  \n",
       "26724  Brown Tabby/White  \n",
       "26725        Brown Tabby  \n",
       "26727              Black  \n",
       "26728  Brown Tabby/White  \n",
       "\n",
       "[11134 rows x 10 columns]"
      ]
     },
     "execution_count": 15,
     "metadata": {},
     "output_type": "execute_result"
    }
   ],
   "source": [
    "train_cats = data_train[data_train['AnimalType'] == 'Cat']\n",
    "train_cats"
   ]
  },
  {
   "cell_type": "code",
   "execution_count": 16,
   "id": "f540992c",
   "metadata": {},
   "outputs": [
    {
     "data": {
      "text/plain": [
       "Partner        3905\n",
       "Unknown        3623\n",
       "SCRP           1599\n",
       "Foster         1095\n",
       "Suffering       652\n",
       "In Kennel        84\n",
       "Offsite          64\n",
       "In Foster        45\n",
       "Rabies Risk      28\n",
       "Medical          26\n",
       "Enroute           6\n",
       "Aggressive        3\n",
       "Barn              2\n",
       "At Vet            2\n",
       "Name: OutcomeSubtype, dtype: int64"
      ]
     },
     "execution_count": 16,
     "metadata": {},
     "output_type": "execute_result"
    }
   ],
   "source": [
    "train_cats['OutcomeSubtype'].value_counts()"
   ]
  },
  {
   "cell_type": "markdown",
   "id": "065deac4",
   "metadata": {},
   "source": [
    "We redo the same operation for the test dataset."
   ]
  },
  {
   "cell_type": "code",
   "execution_count": 17,
   "id": "c86f46d8",
   "metadata": {},
   "outputs": [],
   "source": [
    "test_dogs = data_test[data_test['AnimalType'] == 'Dog']\n",
    "test_cats = data_test[data_test['AnimalType'] == 'Cat']"
   ]
  },
  {
   "cell_type": "markdown",
   "id": "f6b7aeda",
   "metadata": {},
   "source": [
    "We can thus remove the entire AnimalType column for each."
   ]
  },
  {
   "cell_type": "code",
   "execution_count": 18,
   "id": "2c1db276",
   "metadata": {},
   "outputs": [
    {
     "name": "stderr",
     "output_type": "stream",
     "text": [
      "/tmp/ipykernel_2452/670608345.py:1: SettingWithCopyWarning: \n",
      "A value is trying to be set on a copy of a slice from a DataFrame\n",
      "\n",
      "See the caveats in the documentation: https://pandas.pydata.org/pandas-docs/stable/user_guide/indexing.html#returning-a-view-versus-a-copy\n",
      "  test_dogs.drop('AnimalType', axis=1, inplace=True)\n",
      "/tmp/ipykernel_2452/670608345.py:2: SettingWithCopyWarning: \n",
      "A value is trying to be set on a copy of a slice from a DataFrame\n",
      "\n",
      "See the caveats in the documentation: https://pandas.pydata.org/pandas-docs/stable/user_guide/indexing.html#returning-a-view-versus-a-copy\n",
      "  test_cats.drop('AnimalType', axis=1, inplace=True)\n",
      "/tmp/ipykernel_2452/670608345.py:3: SettingWithCopyWarning: \n",
      "A value is trying to be set on a copy of a slice from a DataFrame\n",
      "\n",
      "See the caveats in the documentation: https://pandas.pydata.org/pandas-docs/stable/user_guide/indexing.html#returning-a-view-versus-a-copy\n",
      "  train_cats.drop('AnimalType', axis=1, inplace=True)\n",
      "/tmp/ipykernel_2452/670608345.py:4: SettingWithCopyWarning: \n",
      "A value is trying to be set on a copy of a slice from a DataFrame\n",
      "\n",
      "See the caveats in the documentation: https://pandas.pydata.org/pandas-docs/stable/user_guide/indexing.html#returning-a-view-versus-a-copy\n",
      "  train_dogs.drop('AnimalType', axis=1, inplace=True)\n"
     ]
    }
   ],
   "source": [
    "test_dogs.drop('AnimalType', axis=1, inplace=True)\n",
    "test_cats.drop('AnimalType', axis=1, inplace=True)\n",
    "train_cats.drop('AnimalType', axis=1, inplace=True)\n",
    "train_dogs.drop('AnimalType', axis=1, inplace=True)"
   ]
  },
  {
   "cell_type": "code",
   "execution_count": 19,
   "id": "1868f5de",
   "metadata": {},
   "outputs": [],
   "source": [
    "test_dogs = test_dogs.reset_index()\n",
    "test_cats = test_cats.reset_index()\n",
    "train_dogs = train_dogs.reset_index()\n",
    "train_cats = train_cats.reset_index()"
   ]
  },
  {
   "cell_type": "code",
   "execution_count": 20,
   "id": "d5ddc887",
   "metadata": {},
   "outputs": [],
   "source": [
    "test_dogs.drop('index', axis=1, inplace=True)\n",
    "test_cats.drop('index', axis=1, inplace=True)\n",
    "train_dogs.drop('index', axis=1, inplace=True)\n",
    "train_cats.drop('index', axis=1, inplace=True)"
   ]
  },
  {
   "cell_type": "code",
   "execution_count": 21,
   "id": "5f282916",
   "metadata": {},
   "outputs": [
    {
     "data": {
      "text/html": [
       "<div>\n",
       "<style scoped>\n",
       "    .dataframe tbody tr th:only-of-type {\n",
       "        vertical-align: middle;\n",
       "    }\n",
       "\n",
       "    .dataframe tbody tr th {\n",
       "        vertical-align: top;\n",
       "    }\n",
       "\n",
       "    .dataframe thead th {\n",
       "        text-align: right;\n",
       "    }\n",
       "</style>\n",
       "<table border=\"1\" class=\"dataframe\">\n",
       "  <thead>\n",
       "    <tr style=\"text-align: right;\">\n",
       "      <th></th>\n",
       "      <th>AnimalID</th>\n",
       "      <th>Name</th>\n",
       "      <th>DateTime</th>\n",
       "      <th>OutcomeType</th>\n",
       "      <th>OutcomeSubtype</th>\n",
       "      <th>SexuponOutcome</th>\n",
       "      <th>AgeuponOutcome</th>\n",
       "      <th>Breed</th>\n",
       "      <th>Color</th>\n",
       "    </tr>\n",
       "  </thead>\n",
       "  <tbody>\n",
       "    <tr>\n",
       "      <th>0</th>\n",
       "      <td>A671945</td>\n",
       "      <td>Hambone</td>\n",
       "      <td>2014-02-12 18:22:00</td>\n",
       "      <td>Return_to_owner</td>\n",
       "      <td>Unknown</td>\n",
       "      <td>Neutered Male</td>\n",
       "      <td>1 year</td>\n",
       "      <td>Shetland Sheepdog Mix</td>\n",
       "      <td>Brown/White</td>\n",
       "    </tr>\n",
       "    <tr>\n",
       "      <th>1</th>\n",
       "      <td>A686464</td>\n",
       "      <td>Pearce</td>\n",
       "      <td>2015-01-31 12:28:00</td>\n",
       "      <td>Adoption</td>\n",
       "      <td>Foster</td>\n",
       "      <td>Neutered Male</td>\n",
       "      <td>2 years</td>\n",
       "      <td>Pit Bull Mix</td>\n",
       "      <td>Blue/White</td>\n",
       "    </tr>\n",
       "    <tr>\n",
       "      <th>2</th>\n",
       "      <td>A667013</td>\n",
       "      <td>Unknown</td>\n",
       "      <td>2013-11-15 12:52:00</td>\n",
       "      <td>Transfer</td>\n",
       "      <td>Partner</td>\n",
       "      <td>Neutered Male</td>\n",
       "      <td>2 years</td>\n",
       "      <td>Lhasa Apso/Miniature Poodle</td>\n",
       "      <td>Tan</td>\n",
       "    </tr>\n",
       "    <tr>\n",
       "      <th>3</th>\n",
       "      <td>A677334</td>\n",
       "      <td>Elsa</td>\n",
       "      <td>2014-04-25 13:04:00</td>\n",
       "      <td>Transfer</td>\n",
       "      <td>Partner</td>\n",
       "      <td>Intact Female</td>\n",
       "      <td>1 month</td>\n",
       "      <td>Cairn Terrier/Chihuahua Shorthair</td>\n",
       "      <td>Black/Tan</td>\n",
       "    </tr>\n",
       "    <tr>\n",
       "      <th>4</th>\n",
       "      <td>A671784</td>\n",
       "      <td>Lucy</td>\n",
       "      <td>2014-02-04 17:17:00</td>\n",
       "      <td>Adoption</td>\n",
       "      <td>Unknown</td>\n",
       "      <td>Spayed Female</td>\n",
       "      <td>5 months</td>\n",
       "      <td>American Pit Bull Terrier Mix</td>\n",
       "      <td>Red/White</td>\n",
       "    </tr>\n",
       "  </tbody>\n",
       "</table>\n",
       "</div>"
      ],
      "text/plain": [
       "  AnimalID     Name             DateTime      OutcomeType OutcomeSubtype  \\\n",
       "0  A671945  Hambone  2014-02-12 18:22:00  Return_to_owner        Unknown   \n",
       "1  A686464   Pearce  2015-01-31 12:28:00         Adoption         Foster   \n",
       "2  A667013  Unknown  2013-11-15 12:52:00         Transfer        Partner   \n",
       "3  A677334     Elsa  2014-04-25 13:04:00         Transfer        Partner   \n",
       "4  A671784     Lucy  2014-02-04 17:17:00         Adoption        Unknown   \n",
       "\n",
       "  SexuponOutcome AgeuponOutcome                              Breed  \\\n",
       "0  Neutered Male         1 year              Shetland Sheepdog Mix   \n",
       "1  Neutered Male        2 years                       Pit Bull Mix   \n",
       "2  Neutered Male        2 years        Lhasa Apso/Miniature Poodle   \n",
       "3  Intact Female        1 month  Cairn Terrier/Chihuahua Shorthair   \n",
       "4  Spayed Female       5 months      American Pit Bull Terrier Mix   \n",
       "\n",
       "         Color  \n",
       "0  Brown/White  \n",
       "1   Blue/White  \n",
       "2          Tan  \n",
       "3    Black/Tan  \n",
       "4    Red/White  "
      ]
     },
     "execution_count": 21,
     "metadata": {},
     "output_type": "execute_result"
    }
   ],
   "source": [
    "train_dogs.head()"
   ]
  },
  {
   "cell_type": "markdown",
   "id": "39b653c3",
   "metadata": {},
   "source": [
    "But we still want to keep the ID of each animal."
   ]
  },
  {
   "cell_type": "code",
   "execution_count": 22,
   "id": "d4d4dbfe",
   "metadata": {},
   "outputs": [],
   "source": [
    "dog_test_ID = test_dogs[\"ID\"].to_numpy()\n",
    "dog_test_ID = np.array([dog_test_ID])\n",
    "dog_test_ID = dog_test_ID.T\n",
    "test_dogs.drop(\"ID\", axis=1, inplace=True)\n",
    "cat_test_ID = test_cats[\"ID\"].to_numpy()\n",
    "cat_test_ID = np.array([cat_test_ID])\n",
    "cat_test_ID = cat_test_ID.T\n",
    "test_cats.drop(\"ID\", axis=1, inplace=True)"
   ]
  },
  {
   "cell_type": "markdown",
   "id": "bbc7897d",
   "metadata": {},
   "source": [
    "## 🎯 Define features and target"
   ]
  },
  {
   "cell_type": "code",
   "execution_count": 23,
   "id": "c92c85ec",
   "metadata": {},
   "outputs": [],
   "source": [
    "y_train_dogs = train_dogs['OutcomeType']\n",
    "train_dogs = train_dogs.drop(columns=['OutcomeType'])\n",
    "y_train_cats = train_cats['OutcomeType']\n",
    "train_cats = train_cats.drop(columns=['OutcomeType'])"
   ]
  },
  {
   "cell_type": "markdown",
   "id": "6e050964",
   "metadata": {},
   "source": [
    "## 📅 Preprocessing the data, adding features"
   ]
  },
  {
   "cell_type": "code",
   "execution_count": 24,
   "id": "763a91ac",
   "metadata": {
    "scrolled": false
   },
   "outputs": [
    {
     "name": "stdout",
     "output_type": "stream",
     "text": [
      "   AgeuponOutcome  Breed  Color  Year  Month  Day  Hour  Minute  Virginity  \\\n",
      "0           365.0      0     36  2014      2   12    18      22          1   \n",
      "1           730.0      0     22  2015      1   31    12      28          1   \n",
      "2           730.0      1    119  2013     11   15    12      52          1   \n",
      "3            30.0      1     13  2014      4   25    13       4          2   \n",
      "4           150.0      1    102  2014      2    4    17      17          1   \n",
      "\n",
      "   Sex  Has_name  Hairgroup  Aggressiveness  Weight  \n",
      "0    2         0          2              11       3  \n",
      "1    2         0          2              11       1  \n",
      "2    2         1          2              11       3  \n",
      "3    2         0          0              11       3  \n",
      "4    2         0          2              11       1  \n",
      "   AgeuponOutcome  Breed  Color  Year  Month  Day  Hour  Minute  Virginity  \\\n",
      "0           365.0      0     31  2013     10   13    12      44          1   \n",
      "1             3.0      0     10  2014      7   11    19       9          2   \n",
      "2             3.0      0     10  2015      3   28    13      11          2   \n",
      "3             3.0      0     16  2015      4   30    17       2          0   \n",
      "4           730.0      0      2  2013     12    5    15      50          0   \n",
      "\n",
      "   Sex  Has_name  Hairgroup  \n",
      "0    2         0          0  \n",
      "1    2         1          0  \n",
      "2    2         0          0  \n",
      "3    0         1          0  \n",
      "4    0         1          0  \n"
     ]
    }
   ],
   "source": [
    "def pre_processing(shelter_train, shelter_test, animal_type):\n",
    "    #But first, let's drop the ID of the animals and the Subtype of their Outcomes\n",
    "    shelter_train.drop('AnimalID', axis=1, inplace=True)\n",
    "    shelter_train.drop(\"OutcomeSubtype\", axis=1, inplace=True)\n",
    "    #Then, convert to DateTime\n",
    "    time_train = pd.to_datetime(shelter_train['DateTime'])\n",
    "    time_test = pd.to_datetime(shelter_test['DateTime'])\n",
    "    #Pick out the year, month, day, hour, minute\n",
    "    shelter_train['Year'] = time_train.dt.year\n",
    "    shelter_test['Year'] = time_test.dt.year\n",
    "    shelter_train['Month'] = time_train.dt.month\n",
    "    shelter_test['Month'] = time_test.dt.month\n",
    "    shelter_train['Day'] = time_train.dt.day\n",
    "    shelter_test['Day'] = time_test.dt.day\n",
    "    shelter_train['Hour'] = time_train.dt.hour\n",
    "    shelter_test['Hour'] = time_test.dt.hour\n",
    "    shelter_train['Minute'] = time_train.dt.minute\n",
    "    shelter_test['Minute'] = time_test.dt.minute\n",
    "    \n",
    "    shelter_train.drop('DateTime', axis=1, inplace=True)\n",
    "    shelter_test.drop('DateTime', axis=1, inplace=True)\n",
    "    \n",
    "    #Convert the NaN in SexuponOutcome to neutral\n",
    "    shelter_train['SexuponOutcome'].fillna('Spayed Female', inplace=True)\n",
    "    shelter_test['SexuponOutcome'].fillna('Spayed Female', inplace=True)\n",
    "    \n",
    "    #Begin inputing meaningful features in the Datasets\n",
    "    def intact_group(sex):\n",
    "        try:\n",
    "            intact_type = sex.split()\n",
    "        except:\n",
    "            return 0\n",
    "        if intact_type[0] == 'Neutered' or intact_type[0] == 'Spayed':\n",
    "            return 1\n",
    "        elif intact_type[0] == 'Intact':\n",
    "            return 2\n",
    "        else:\n",
    "            return 0\n",
    "    \n",
    "    shelter_train[\"Virginity\"] = shelter_train[\"SexuponOutcome\"].apply(intact_group)\n",
    "    shelter_test[\"Virginity\"] = shelter_test[\"SexuponOutcome\"].apply(intact_group)\n",
    "    \n",
    "    def sex_group(sexs):\n",
    "        try:\n",
    "            sex_type = sexs.split()\n",
    "        except:\n",
    "            return 0\n",
    "        if sex_type[0] == 'Unknown':\n",
    "            return 0\n",
    "        elif sex_type[0] == 'Male':\n",
    "            return 1\n",
    "        else:\n",
    "            return 2\n",
    "        \n",
    "    shelter_train[\"Sex\"] = shelter_train[\"SexuponOutcome\"].apply(sex_group)\n",
    "    shelter_test[\"Sex\"] = shelter_test[\"SexuponOutcome\"].apply(sex_group)\n",
    "    \n",
    "    #We've drained as many info as possible from SexuponOutcome, so we can drop it\n",
    "    shelter_train.drop('SexuponOutcome', axis=1, inplace=True)\n",
    "    shelter_test.drop('SexuponOutcome', axis=1, inplace=True)\n",
    "    \n",
    "    #Check for the name\n",
    "    def has_name(name):\n",
    "        if name == 'Unknown':\n",
    "            return 1\n",
    "        else:\n",
    "            return 0\n",
    "    \n",
    "    shelter_train[\"Has_name\"] = shelter_train[\"Name\"].apply(has_name)\n",
    "    shelter_test[\"Has_name\"] = shelter_test[\"Name\"].apply(has_name)\n",
    "    #We've drained as many info as possible from Name, so we can drop it\n",
    "    shelter_train.drop('Name', axis=1, inplace=True)\n",
    "    shelter_test.drop('Name', axis=1, inplace=True)\n",
    "    \n",
    "    #Convert the age in days\n",
    "    #fill the NaN values\n",
    "    shelter_train['AgeuponOutcome'].fillna('1 month', inplace = True)\n",
    "    shelter_test['AgeuponOutcome'].fillna('1 month', inplace = True)\n",
    "    \n",
    "    #Convert\n",
    "    def convert_age(age):\n",
    "        if age == 'Unknown':\n",
    "            return 3.0\n",
    "        age_list = age.split()\n",
    "        try:\n",
    "            ages = int(age_list[0])\n",
    "        except ValueError:\n",
    "            return 3.0\n",
    "        if age_list[1].find(\"s\") >= 0:\n",
    "            age_list[1] = age_list[1].replace(\"s\", \"\")\n",
    "        if age_list[1] == \"year\":\n",
    "            return ages * 365\n",
    "        elif age_list[1] == \"month\":\n",
    "            return ages * 30\n",
    "        else:\n",
    "            return ages\n",
    "\n",
    "        \n",
    "    shelter_train['AgeuponOutcome'] = shelter_train['AgeuponOutcome'].apply(convert_age)\n",
    "    shelter_test['AgeuponOutcome'] = shelter_test['AgeuponOutcome'].apply(convert_age)\n",
    "    \n",
    "    #Convert Breed to Hair, Aggressiveness, Weight, BreedType\n",
    "\n",
    "    #hair group (for cats)\n",
    "    def hair_group(breed):\n",
    "        if breed.find(\"Shorthair\") != -1:\n",
    "            return 0\n",
    "        elif breed.find(\"Longhair\") != -1:\n",
    "            return 1\n",
    "        else:\n",
    "            return 2\n",
    "\n",
    "    shelter_train[\"Hairgroup\"] = shelter_train[\"Breed\"].apply(hair_group)\n",
    "    shelter_test[\"Hairgroup\"] = shelter_test[\"Breed\"].apply(hair_group)\n",
    "    \n",
    "    #Aggressiveness and weight conversion (for dogs)\n",
    "    \n",
    "    def aggressiveness(breed):\n",
    "        if breed.find('Pit bull') != -1:\n",
    "            return 1\n",
    "        elif breed.find('Rottweiler') != -1:\n",
    "            return 2\n",
    "        elif breed.find(\"Husky\") != -1:\n",
    "            return 3\n",
    "        elif breed.find(\"Shepherd\") != -1:\n",
    "            return 4\n",
    "        elif breed.find(\"Malamute\") != -1:\n",
    "            return 5\n",
    "        elif breed.find(\"Doberman\") != -1:\n",
    "            return 6\n",
    "        elif breed.find(\"Chow\") != -1:\n",
    "            return 7\n",
    "        elif breed.find(\"Dane\") != -1:\n",
    "            return 8\n",
    "        elif breed.find(\"Boxer\") != -1:\n",
    "            return 9\n",
    "        elif breed.find(\"Akita\") != -1:\n",
    "            return 10\n",
    "        else:\n",
    "            return 11\n",
    "        \n",
    "    if (animal_type == 'Dog'):\n",
    "        shelter_train['Aggressiveness'] = shelter_train['Breed'].apply(aggressiveness)\n",
    "        shelter_test['Aggressiveness'] = shelter_test['Breed'].apply(aggressiveness)\n",
    "        \n",
    "    def weight(breed):\n",
    "        if breed.find(\"Pit Bull\") != -1:\n",
    "            return 1\n",
    "        elif breed.find(\"Husky\") != -1:\n",
    "            return 1\n",
    "        elif breed.find(\"Doberman\") != -1:\n",
    "            return 1\n",
    "        elif breed.find(\"Boxer\") != -1:\n",
    "            return 1\n",
    "        elif breed.find(\"Akita\") != -1:\n",
    "            return 1\n",
    "        elif breed.find(\"Chow\") != -1:\n",
    "            return 1\n",
    "        elif breed.find(\"Rottweiler\") != -1:\n",
    "            return 2\n",
    "        elif breed.find(\"Shepherd\") != -1:\n",
    "            return 2\n",
    "        elif breed.find(\"Malamute\") != -1:\n",
    "            return 2\n",
    "        elif breed.find(\"Dane\") != -1:\n",
    "            return 2\n",
    "        else:\n",
    "            return 3\n",
    "        \n",
    "    if (animal_type == 'Dog'):\n",
    "        shelter_train['Weight'] = shelter_train['Breed'].apply(weight)\n",
    "        shelter_test['Weight'] = shelter_test['Breed'].apply(weight)\n",
    "\n",
    "    def color_group(color):\n",
    "        try:\n",
    "            color_type = color.split()\n",
    "        except:\n",
    "            return \"unknown\"\n",
    "        return str(color_type[0])\n",
    "    \n",
    "    shelter_train[\"Color\"] = shelter_train[\"Color\"].apply(color_group)\n",
    "    shelter_test[\"Color\"] = shelter_test[\"Color\"].apply(color_group)\n",
    "    #Convert each unique label to unique integers\n",
    "    intval, label = pd.factorize(shelter_train[\"Color\"], sort=True)\n",
    "    shelter_train[\"Color\"] = pd.DataFrame(intval)\n",
    "    del intval, label\n",
    "    intval, label = pd.factorize(shelter_test[\"Color\"], sort=True)\n",
    "    shelter_test[\"Color\"] = pd.DataFrame(intval)\n",
    "    del intval, label\n",
    "        \n",
    "    #Check if the animal is pure breed or not\n",
    "    def breed_group(breed_input):\n",
    "        breed = str(breed_input)\n",
    "        if (' ' in breed) == False:\n",
    "            br =  breed\n",
    "        else:\n",
    "            breed_list = breed.split()\n",
    "            try:\n",
    "                br = breed_list[2] \n",
    "            except:\n",
    "                br = breed_list[1] \n",
    "        if (br == \"Mix\"):\n",
    "            return 0\n",
    "        else:\n",
    "            return 1\n",
    "        return 1\n",
    "    \n",
    "    shelter_train[\"Breed\"] = shelter_train[\"Breed\"].apply(breed_group)\n",
    "    shelter_test[\"Breed\"] = shelter_test[\"Breed\"].apply(breed_group)\n",
    "    \n",
    "    print(shelter_train.head())\n",
    "    return shelter_train, shelter_test\n",
    "\n",
    "train_dogs, test_dogs = pre_processing(train_dogs, test_dogs, \"Dog\")\n",
    "train_cats, test_cats = pre_processing(train_cats, test_cats, \"Cat\")"
   ]
  },
  {
   "cell_type": "markdown",
   "id": "6efd152a",
   "metadata": {},
   "source": [
    "## ✂️ Holdout method"
   ]
  },
  {
   "cell_type": "code",
   "execution_count": 25,
   "id": "1ad19984",
   "metadata": {},
   "outputs": [],
   "source": [
    "X_dogs_train, X_dogs_test, y_dogs_train, y_dogs_test =  train_test_split(train_dogs,y_train_dogs,test_size=0.3)\n",
    "X_cats_train, X_cats_test, y_cats_train, y_cats_test =  train_test_split(train_cats,y_train_cats,test_size=0.3)"
   ]
  },
  {
   "cell_type": "code",
   "execution_count": 26,
   "id": "415acf0d",
   "metadata": {},
   "outputs": [
    {
     "data": {
      "text/plain": [
       "((10916, 14), (4679, 14), (10916,), (4679,))"
      ]
     },
     "execution_count": 26,
     "metadata": {},
     "output_type": "execute_result"
    }
   ],
   "source": [
    "X_dogs_train.shape, X_dogs_test.shape, y_dogs_train.shape, y_dogs_test.shape"
   ]
  },
  {
   "cell_type": "code",
   "execution_count": 27,
   "id": "fbbd338c",
   "metadata": {},
   "outputs": [
    {
     "data": {
      "text/plain": [
       "((7793, 12), (3341, 12), (7793,), (3341,))"
      ]
     },
     "execution_count": 27,
     "metadata": {},
     "output_type": "execute_result"
    }
   ],
   "source": [
    "X_cats_train.shape, X_cats_test.shape, y_cats_train.shape, y_cats_test.shape"
   ]
  },
  {
   "cell_type": "code",
   "execution_count": 28,
   "id": "4ac65756",
   "metadata": {},
   "outputs": [
    {
     "name": "stdout",
     "output_type": "stream",
     "text": [
      "Values for y_dogs_train: \n",
      "Adoption           4574\n",
      "Return_to_owner    2994\n",
      "Transfer           2716\n",
      "Euthanasia          597\n",
      "Died                 35\n",
      "Name: OutcomeType, dtype: int64\n",
      "====================================================================================================\n",
      "Values for y_cats_train: \n",
      "Transfer           3851\n",
      "Adoption           2993\n",
      "Euthanasia          497\n",
      "Return_to_owner     344\n",
      "Died                108\n",
      "Name: OutcomeType, dtype: int64\n",
      "====================================================================================================\n",
      "Values for y_dogs_test: \n",
      "Adoption           1923\n",
      "Return_to_owner    1292\n",
      "Transfer           1201\n",
      "Euthanasia          248\n",
      "Died                 15\n",
      "Name: OutcomeType, dtype: int64\n",
      "====================================================================================================\n",
      "Values for y_cats_test: \n",
      "Transfer           1654\n",
      "Adoption           1279\n",
      "Euthanasia          213\n",
      "Return_to_owner     156\n",
      "Died                 39\n",
      "Name: OutcomeType, dtype: int64\n"
     ]
    }
   ],
   "source": [
    "print(f'Values for y_dogs_train: \\n{y_dogs_train.value_counts()}')\n",
    "print('=='*50)\n",
    "print(f'Values for y_cats_train: \\n{y_cats_train.value_counts()}')\n",
    "print('=='*50)\n",
    "print(f'Values for y_dogs_test: \\n{y_dogs_test.value_counts()}')\n",
    "print('=='*50)\n",
    "print(f'Values for y_cats_test: \\n{y_cats_test.value_counts()}')"
   ]
  },
  {
   "cell_type": "code",
   "execution_count": 29,
   "id": "80da4952",
   "metadata": {},
   "outputs": [],
   "source": [
    "y_dogs_pred_baseline = pd.Series(['Adoption']*len(y_dogs_test))\n",
    "y_cats_pred_baseline = pd.Series(['Transfer']*len(y_cats_test))"
   ]
  },
  {
   "cell_type": "code",
   "execution_count": 30,
   "id": "fa50753c",
   "metadata": {},
   "outputs": [
    {
     "data": {
      "image/png": "[encoded data removed]",
      "text/plain": [
       "<Figure size 640x480 with 2 Axes>"
      ]
     },
     "metadata": {},
     "output_type": "display_data"
    }
   ],
   "source": [
    "cm_dogs = confusion_matrix(y_dogs_test, y_dogs_pred_baseline, labels = ['Adoption', 'Return_to_owner', 'Transfer', 'Euthanasia', 'Died'])\n",
    "disp_dogs = ConfusionMatrixDisplay(confusion_matrix=cm_dogs, display_labels=['Adoption', 'Return_to_owner', 'Transfer', 'Euthanasia', 'Died'])\n",
    "disp_dogs.plot()\n",
    "plt.show()"
   ]
  },
  {
   "cell_type": "code",
   "execution_count": 31,
   "id": "b190f151",
   "metadata": {},
   "outputs": [
    {
     "data": {
      "image/png": "[encoded data removed]",
      "text/plain": [
       "<Figure size 640x480 with 2 Axes>"
      ]
     },
     "metadata": {},
     "output_type": "display_data"
    }
   ],
   "source": [
    "cm_cats = confusion_matrix(y_cats_test, y_cats_pred_baseline, labels = ['Transfer', 'Adoption', 'Euthanasia', 'Return_to_owner', 'Died'])\n",
    "disp_cats = ConfusionMatrixDisplay(confusion_matrix=cm_cats, display_labels=['Transfer', 'Adoption', 'Euthanasia', 'Return_to_owner', 'Died'])\n",
    "disp_cats.plot()\n",
    "plt.show()"
   ]
  },
  {
   "cell_type": "code",
   "execution_count": 32,
   "id": "8aeec2a1",
   "metadata": {
    "scrolled": true
   },
   "outputs": [
    {
     "data": {
      "text/plain": [
       "0.41098525325924345"
      ]
     },
     "execution_count": 32,
     "metadata": {},
     "output_type": "execute_result"
    }
   ],
   "source": [
    "accuracy_score(y_dogs_test, y_dogs_pred_baseline)"
   ]
  },
  {
   "cell_type": "code",
   "execution_count": 33,
   "id": "7d721681",
   "metadata": {},
   "outputs": [
    {
     "data": {
      "text/plain": [
       "0.49506135887458846"
      ]
     },
     "execution_count": 33,
     "metadata": {},
     "output_type": "execute_result"
    }
   ],
   "source": [
    "accuracy_score(y_cats_test, y_cats_pred_baseline)"
   ]
  },
  {
   "cell_type": "markdown",
   "id": "a979bdbf",
   "metadata": {},
   "source": [
    "## 💪 Logistic Regression "
   ]
  },
  {
   "cell_type": "code",
   "execution_count": 34,
   "id": "2b4ad287",
   "metadata": {},
   "outputs": [],
   "source": [
    "logreg_dogs = LogisticRegression(max_iter = 10_000,\n",
    "                            penalty = \"l2\") \n",
    "logreg_cats = LogisticRegression(max_iter = 10_000,\n",
    "                                penalty = 'l2')"
   ]
  },
  {
   "cell_type": "code",
   "execution_count": 37,
   "id": "00517b28",
   "metadata": {},
   "outputs": [
    {
     "name": "stderr",
     "output_type": "stream",
     "text": [
      "/home/clement/.pyenv/versions/3.10.6/envs/lewagon/lib/python3.10/site-packages/sklearn/linear_model/_logistic.py:458: ConvergenceWarning: lbfgs failed to converge (status=1):\n",
      "STOP: TOTAL NO. of ITERATIONS REACHED LIMIT.\n",
      "\n",
      "Increase the number of iterations (max_iter) or scale the data as shown in:\n",
      "    https://scikit-learn.org/stable/modules/preprocessing.html\n",
      "Please also refer to the documentation for alternative solver options:\n",
      "    https://scikit-learn.org/stable/modules/linear_model.html#logistic-regression\n",
      "  n_iter_i = _check_optimize_result(\n",
      "/home/clement/.pyenv/versions/3.10.6/envs/lewagon/lib/python3.10/site-packages/sklearn/linear_model/_logistic.py:458: ConvergenceWarning: lbfgs failed to converge (status=1):\n",
      "STOP: TOTAL NO. of ITERATIONS REACHED LIMIT.\n",
      "\n",
      "Increase the number of iterations (max_iter) or scale the data as shown in:\n",
      "    https://scikit-learn.org/stable/modules/preprocessing.html\n",
      "Please also refer to the documentation for alternative solver options:\n",
      "    https://scikit-learn.org/stable/modules/linear_model.html#logistic-regression\n",
      "  n_iter_i = _check_optimize_result(\n"
     ]
    },
    {
     "data": {
      "text/html": [
       "<style>#sk-container-id-1 {color: black;background-color: white;}#sk-container-id-1 pre{padding: 0;}#sk-container-id-1 div.sk-toggleable {background-color: white;}#sk-container-id-1 label.sk-toggleable__label {cursor: pointer;display: block;width: 100%;margin-bottom: 0;padding: 0.3em;box-sizing: border-box;text-align: center;}#sk-container-id-1 label.sk-toggleable__label-arrow:before {content: \"▸\";float: left;margin-right: 0.25em;color: #696969;}#sk-container-id-1 label.sk-toggleable__label-arrow:hover:before {color: black;}#sk-container-id-1 div.sk-estimator:hover label.sk-toggleable__label-arrow:before {color: black;}#sk-container-id-1 div.sk-toggleable__content {max-height: 0;max-width: 0;overflow: hidden;text-align: left;background-color: #f0f8ff;}#sk-container-id-1 div.sk-toggleable__content pre {margin: 0.2em;color: black;border-radius: 0.25em;background-color: #f0f8ff;}#sk-container-id-1 input.sk-toggleable__control:checked~div.sk-toggleable__content {max-height: 200px;max-width: 100%;overflow: auto;}#sk-container-id-1 input.sk-toggleable__control:checked~label.sk-toggleable__label-arrow:before {content: \"▾\";}#sk-container-id-1 div.sk-estimator input.sk-toggleable__control:checked~label.sk-toggleable__label {background-color: #d4ebff;}#sk-container-id-1 div.sk-label input.sk-toggleable__control:checked~label.sk-toggleable__label {background-color: #d4ebff;}#sk-container-id-1 input.sk-hidden--visually {border: 0;clip: rect(1px 1px 1px 1px);clip: rect(1px, 1px, 1px, 1px);height: 1px;margin: -1px;overflow: hidden;padding: 0;position: absolute;width: 1px;}#sk-container-id-1 div.sk-estimator {font-family: monospace;background-color: #f0f8ff;border: 1px dotted black;border-radius: 0.25em;box-sizing: border-box;margin-bottom: 0.5em;}#sk-container-id-1 div.sk-estimator:hover {background-color: #d4ebff;}#sk-container-id-1 div.sk-parallel-item::after {content: \"\";width: 100%;border-bottom: 1px solid gray;flex-grow: 1;}#sk-container-id-1 div.sk-label:hover label.sk-toggleable__label {background-color: #d4ebff;}#sk-container-id-1 div.sk-serial::before {content: \"\";position: absolute;border-left: 1px solid gray;box-sizing: border-box;top: 0;bottom: 0;left: 50%;z-index: 0;}#sk-container-id-1 div.sk-serial {display: flex;flex-direction: column;align-items: center;background-color: white;padding-right: 0.2em;padding-left: 0.2em;position: relative;}#sk-container-id-1 div.sk-item {position: relative;z-index: 1;}#sk-container-id-1 div.sk-parallel {display: flex;align-items: stretch;justify-content: center;background-color: white;position: relative;}#sk-container-id-1 div.sk-item::before, #sk-container-id-1 div.sk-parallel-item::before {content: \"\";position: absolute;border-left: 1px solid gray;box-sizing: border-box;top: 0;bottom: 0;left: 50%;z-index: -1;}#sk-container-id-1 div.sk-parallel-item {display: flex;flex-direction: column;z-index: 1;position: relative;background-color: white;}#sk-container-id-1 div.sk-parallel-item:first-child::after {align-self: flex-end;width: 50%;}#sk-container-id-1 div.sk-parallel-item:last-child::after {align-self: flex-start;width: 50%;}#sk-container-id-1 div.sk-parallel-item:only-child::after {width: 0;}#sk-container-id-1 div.sk-dashed-wrapped {border: 1px dashed gray;margin: 0 0.4em 0.5em 0.4em;box-sizing: border-box;padding-bottom: 0.4em;background-color: white;}#sk-container-id-1 div.sk-label label {font-family: monospace;font-weight: bold;display: inline-block;line-height: 1.2em;}#sk-container-id-1 div.sk-label-container {text-align: center;}#sk-container-id-1 div.sk-container {/* jupyter's `normalize.less` sets `[hidden] { display: none; }` but bootstrap.min.css set `[hidden] { display: none !important; }` so we also need the `!important` here to be able to override the default hidden behavior on the sphinx rendered scikit-learn.org. See: https://github.com/scikit-learn/scikit-learn/issues/21755 */display: inline-block !important;position: relative;}#sk-container-id-1 div.sk-text-repr-fallback {display: none;}</style><div id=\"sk-container-id-1\" class=\"sk-top-container\"><div class=\"sk-text-repr-fallback\"><pre>LogisticRegression(max_iter=10000)</pre><b>In a Jupyter environment, please rerun this cell to show the HTML representation or trust the notebook. <br />On GitHub, the HTML representation is unable to render, please try loading this page with nbviewer.org.</b></div><div class=\"sk-container\" hidden><div class=\"sk-item\"><div class=\"sk-estimator sk-toggleable\"><input class=\"sk-toggleable__control sk-hidden--visually\" id=\"sk-estimator-id-1\" type=\"checkbox\" checked><label for=\"sk-estimator-id-1\" class=\"sk-toggleable__label sk-toggleable__label-arrow\">LogisticRegression</label><div class=\"sk-toggleable__content\"><pre>LogisticRegression(max_iter=10000)</pre></div></div></div></div></div>"
      ],
      "text/plain": [
       "LogisticRegression(max_iter=10000)"
      ]
     },
     "execution_count": 37,
     "metadata": {},
     "output_type": "execute_result"
    }
   ],
   "source": [
    "logreg_dogs.fit(X_dogs_train, y_dogs_train)\n",
    "logreg_cats.fit(X_cats_train, y_cats_train)"
   ]
  },
  {
   "cell_type": "code",
   "execution_count": 38,
   "id": "2180f2df",
   "metadata": {},
   "outputs": [
    {
     "data": {
      "text/plain": [
       "0.5622996366745031"
      ]
     },
     "execution_count": 38,
     "metadata": {},
     "output_type": "execute_result"
    }
   ],
   "source": [
    "logreg_dogs.score(X_dogs_test, y_dogs_test)"
   ]
  },
  {
   "cell_type": "code",
   "execution_count": 39,
   "id": "5fc01583",
   "metadata": {},
   "outputs": [
    {
     "data": {
      "text/plain": [
       "0.7360071834780006"
      ]
     },
     "execution_count": 39,
     "metadata": {},
     "output_type": "execute_result"
    }
   ],
   "source": [
    "logreg_cats.score(X_cats_test, y_cats_test)"
   ]
  },
  {
   "cell_type": "code",
   "execution_count": 41,
   "id": "2d3b7773",
   "metadata": {},
   "outputs": [],
   "source": [
    "y_pred_dogs_logreg = logreg_dogs.predict(X_dogs_test)\n",
    "y_pred_cats_logreg = logreg_cats.predict(X_cats_test)"
   ]
  },
  {
   "cell_type": "code",
   "execution_count": 42,
   "id": "bab9bcac",
   "metadata": {},
   "outputs": [
    {
     "data": {
      "image/png": "[encoded data removed]",
      "text/plain": [
       "<Figure size 640x480 with 2 Axes>"
      ]
     },
     "metadata": {},
     "output_type": "display_data"
    }
   ],
   "source": [
    "cm_dogs = confusion_matrix(y_dogs_test, y_pred_dogs_logreg, labels = ['Adoption', 'Return_to_owner', 'Transfer', 'Euthanasia', 'Died'])\n",
    "disp_dogs = ConfusionMatrixDisplay(confusion_matrix=cm_dogs, display_labels=['Adoption', 'Return_to_owner', 'Transfer', 'Euthanasia', 'Died'])\n",
    "disp_dogs.plot()\n",
    "plt.show()"
   ]
  },
  {
   "cell_type": "code",
   "execution_count": 43,
   "id": "d8357278",
   "metadata": {},
   "outputs": [
    {
     "data": {
      "image/png": "[encoded data removed]",
      "text/plain": [
       "<Figure size 640x480 with 2 Axes>"
      ]
     },
     "metadata": {},
     "output_type": "display_data"
    }
   ],
   "source": [
    "cm_cats = confusion_matrix(y_cats_test, y_pred_cats_logreg, labels = ['Transfer', 'Adoption', 'Euthanasia', 'Return_to_owner', 'Died'])\n",
    "disp_cats = ConfusionMatrixDisplay(confusion_matrix=cm_cats, display_labels=['Transfer', 'Adoption', 'Euthanasia', 'Return_to_owner', 'Died'])\n",
    "disp_cats.plot()\n",
    "plt.show()"
   ]
  },
  {
   "cell_type": "code",
   "execution_count": 50,
   "id": "8360325a",
   "metadata": {},
   "outputs": [
    {
     "name": "stdout",
     "output_type": "stream",
     "text": [
      "0.5622996366745031\n",
      "0.7360071834780006\n"
     ]
    }
   ],
   "source": [
    "print(recall_score(y_dogs_test, y_pred_dogs_logreg, average='weighted'))\n",
    "print(recall_score(y_cats_test, y_pred_cats_logreg, average='weighted'))"
   ]
  },
  {
   "cell_type": "code",
   "execution_count": 52,
   "id": "9a5c881e",
   "metadata": {},
   "outputs": [
    {
     "name": "stderr",
     "output_type": "stream",
     "text": [
      "/home/clement/.pyenv/versions/3.10.6/envs/lewagon/lib/python3.10/site-packages/sklearn/metrics/_classification.py:1344: UndefinedMetricWarning: Precision and F-score are ill-defined and being set to 0.0 in labels with no predicted samples. Use `zero_division` parameter to control this behavior.\n",
      "  _warn_prf(average, modifier, msg_start, len(result))\n",
      "/home/clement/.pyenv/versions/3.10.6/envs/lewagon/lib/python3.10/site-packages/sklearn/metrics/_classification.py:1344: UndefinedMetricWarning: Precision and F-score are ill-defined and being set to 0.0 in labels with no predicted samples. Use `zero_division` parameter to control this behavior.\n",
      "  _warn_prf(average, modifier, msg_start, len(result))\n",
      "/home/clement/.pyenv/versions/3.10.6/envs/lewagon/lib/python3.10/site-packages/sklearn/metrics/_classification.py:1344: UndefinedMetricWarning: Precision and F-score are ill-defined and being set to 0.0 in labels with no predicted samples. Use `zero_division` parameter to control this behavior.\n",
      "  _warn_prf(average, modifier, msg_start, len(result))\n",
      "/home/clement/.pyenv/versions/3.10.6/envs/lewagon/lib/python3.10/site-packages/sklearn/metrics/_classification.py:1344: UndefinedMetricWarning: Precision and F-score are ill-defined and being set to 0.0 in labels with no predicted samples. Use `zero_division` parameter to control this behavior.\n",
      "  _warn_prf(average, modifier, msg_start, len(result))\n"
     ]
    },
    {
     "name": "stdout",
     "output_type": "stream",
     "text": [
      "                 precision    recall  f1-score   support\n",
      "\n",
      "       Adoption       0.57      0.85      0.68      1923\n",
      "           Died       0.00      0.00      0.00        15\n",
      "     Euthanasia       0.41      0.04      0.07       248\n",
      "Return_to_owner       0.50      0.37      0.43      1292\n",
      "       Transfer       0.62      0.43      0.51      1201\n",
      "\n",
      "       accuracy                           0.56      4679\n",
      "      macro avg       0.42      0.34      0.34      4679\n",
      "   weighted avg       0.55      0.56      0.53      4679\n",
      "\n",
      "====================================================================================================\n",
      "                 precision    recall  f1-score   support\n",
      "\n",
      "       Adoption       0.70      0.87      0.77      1279\n",
      "           Died       0.00      0.00      0.00        39\n",
      "     Euthanasia       0.62      0.15      0.24       213\n",
      "Return_to_owner       0.28      0.03      0.06       156\n",
      "       Transfer       0.78      0.79      0.79      1654\n",
      "\n",
      "       accuracy                           0.74      3341\n",
      "      macro avg       0.47      0.37      0.37      3341\n",
      "   weighted avg       0.71      0.74      0.70      3341\n",
      "\n"
     ]
    },
    {
     "name": "stderr",
     "output_type": "stream",
     "text": [
      "/home/clement/.pyenv/versions/3.10.6/envs/lewagon/lib/python3.10/site-packages/sklearn/metrics/_classification.py:1344: UndefinedMetricWarning: Precision and F-score are ill-defined and being set to 0.0 in labels with no predicted samples. Use `zero_division` parameter to control this behavior.\n",
      "  _warn_prf(average, modifier, msg_start, len(result))\n",
      "/home/clement/.pyenv/versions/3.10.6/envs/lewagon/lib/python3.10/site-packages/sklearn/metrics/_classification.py:1344: UndefinedMetricWarning: Precision and F-score are ill-defined and being set to 0.0 in labels with no predicted samples. Use `zero_division` parameter to control this behavior.\n",
      "  _warn_prf(average, modifier, msg_start, len(result))\n"
     ]
    }
   ],
   "source": [
    "print(classification_report(y_dogs_test, y_pred_dogs_logreg))\n",
    "print('=='*50)\n",
    "print(classification_report(y_cats_test, y_pred_cats_logreg))"
   ]
  }
 ],
 "metadata": {
  "kernelspec": {
   "display_name": "Python 3 (ipykernel)",
   "language": "python",
   "name": "python3"
  },
  "language_info": {
   "codemirror_mode": {
    "name": "ipython",
    "version": 3
   },
   "file_extension": ".py",
   "mimetype": "text/x-python",
   "name": "python",
   "nbconvert_exporter": "python",
   "pygments_lexer": "ipython3",
   "version": "3.10.6"
  },
  "toc": {
   "base_numbering": 1,
   "nav_menu": {},
   "number_sections": true,
   "sideBar": true,
   "skip_h1_title": false,
   "title_cell": "Table of Contents",
   "title_sidebar": "Contents",
   "toc_cell": false,
   "toc_position": {},
   "toc_section_display": true,
   "toc_window_display": true
  },
  "varInspector": {
   "cols": {
    "lenName": 16,
    "lenType": 16,
    "lenVar": 40
   },
   "kernels_config": {
    "python": {
     "delete_cmd_postfix": "",
     "delete_cmd_prefix": "del ",
     "library": "var_list.py",
     "varRefreshCmd": "print(var_dic_list())"
    },
    "r": {
     "delete_cmd_postfix": ") ",
     "delete_cmd_prefix": "rm(",
     "library": "var_list.r",
     "varRefreshCmd": "cat(var_dic_list()) "
    }
   },
   "types_to_exclude": [
    "module",
    "function",
    "builtin_function_or_method",
    "instance",
    "_Feature"
   ],
   "window_display": false
  }
 },
 "nbformat": 4,
 "nbformat_minor": 5
}
